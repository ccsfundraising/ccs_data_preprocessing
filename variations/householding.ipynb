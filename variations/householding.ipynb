{
 "cells": [
  {
   "cell_type": "markdown",
   "id": "f1322461-a00e-449d-be94-cf7dbab9416c",
   "metadata": {},
   "source": [
    "# **head_of_household and household_id**"
   ]
  },
  {
   "cell_type": "markdown",
   "id": "1f5fe546-4a65-42df-9c26-05e124e6cd29",
   "metadata": {},
   "source": [
    "### **Logic 1**"
   ]
  },
  {
   "cell_type": "markdown",
   "id": "eed40720-00ee-4b08-ae22-78d9e9965cf1",
   "metadata": {},
   "source": [
    "**Householding** logic comprises several operations\n",
    "\n",
    "1. **Function Definition (`get_max_index`)**:\n",
    "   - **Purpose**: Determines the index of the row within a group that has the maximum value in the \"Total Lifetime Giving\" column, or defaults to the first row if the column is absent or all values are zero.\n",
    "   - **Usage**: Applied later within a grouped dataframe to identify the row with the highest lifetime giving.\n",
    "\n",
    "2. **Data Preparation and Cleaning**:\n",
    "   - **Filtering Rows (`df_cdi`)**: Creates `df_cdi` by excluding rows where donors are deceased (`df_cd[\"is_deceased\"]`) and not individuals (`df_cd[\"is_individual\"]`), and sets a new column `head_of_household` to `True`.\n",
    "   - **Drop NaN Rows**: Removes rows where both \"Address 1\" and \"Address 2\" are NaN.\n",
    "   - **Fill NaN Values**: Fills NaN values in selected columns (\"Address 1\", \"Address 2\", \"City\", \"State\", \"Zip\") with a placeholder value ('missing').\n",
    "   - **Filter Numeric Addresses**: Filters rows where at least one of \"Address 1\" or \"Address 2\" contains a numeric or Roman numeral value.\n",
    "\n",
    "3. **Grouping and Sorting**:\n",
    "   - **Group by Address Details (`grouped`)**: Groups `df_cdi` by \"Address 1\", \"Address 2\", \"City\", \"State\", and \"Zip\".\n",
    "   - **Identify Rows with Multiple Entries (`df_cdi_multiple`)**: Filters `df_cdi` to include only rows with duplicate combinations of \"Address 1\", \"Address 2\", \"City\", \"State\", and \"Zip\", sorting them for further operations.\n",
    "\n",
    "4. **Assignment and Merging**:\n",
    "   - **Identify Maximum Lifetime Giving (`idx_max_lifetime_giving`)**: Applies `get_max_index` function to `grouped` to find the row index with the maximum \"Total Lifetime Giving\" within each subgroup.\n",
    "   - **Set Attributes (`head_of_household`, `household_id`)**:\n",
    "     - Sets `head_of_household` to `False` for all rows in `df_cdi_multiple`.\n",
    "     - Sets `head_of_household` to `True` for rows identified in `idx_max_lifetime_giving`.\n",
    "     - Assigns a unique `household_id` to each subgroup in `df_cdi_multiple` based on its group index.\n",
    "   - **Merge Attributes Back (`df_cdi` into `df_cd`)**: Merges `head_of_household` and `household_id` back into the original `df_cd` based on \"Unique Donor ID\".\n",
    "   - \n",
    "This process effectively categorizes donors into households (**household_id**), designates a head of household (**head_of_household**), and ensures that these attributes are correctly assigned across the entire dataframe (df_cd)."
   ]
  },
  {
   "cell_type": "code",
   "execution_count": null,
   "id": "b78e5ba0-34d0-43f7-b4e3-efff8ad9fd3c",
   "metadata": {
    "editable": true,
    "slideshow": {
     "slide_type": ""
    },
    "tags": []
   },
   "outputs": [],
   "source": [
    "# Function to determine index of row with max \"Total Lifetime Giving\" or default to first row\n",
    "def get_max_index(group):\n",
    "    if \"Total Lifetime Giving\" in group.columns:\n",
    "        if group[\"Total Lifetime Giving\"].max() > 0:\n",
    "            return group[\"Total Lifetime Giving\"].idxmax()\n",
    "    # If \"Total Lifetime Giving\" column is absent or all values are zero, choose the first row\n",
    "    return group.index[0]"
   ]
  },
  {
   "cell_type": "code",
   "execution_count": null,
   "id": "618f5c75-1cc2-4518-9da6-968d2ec894e1",
   "metadata": {
    "editable": true,
    "slideshow": {
     "slide_type": ""
    },
    "tags": []
   },
   "outputs": [],
   "source": [
    "df_cdi = df_cd[~(df_cd[\"is_deceased\"]) & (df_cd[\"is_individual\"])]\n",
    "df_cdi[\"head_of_household\"] = True\n",
    "len(df_cd), len(df_cdi)"
   ]
  },
  {
   "cell_type": "code",
   "execution_count": null,
   "id": "31dc406a-1bd1-4711-be77-79a00ddb6671",
   "metadata": {
    "editable": true,
    "slideshow": {
     "slide_type": ""
    },
    "tags": []
   },
   "outputs": [],
   "source": [
    "# Drop rows where both Addr1 and Addr2 are NaN\n",
    "df_cdi = df_cdi.dropna(subset=[\"Address 1\", \"Address 2\"], how='all')\n",
    "\n",
    "# Fill NaNs with a placeholder value (e.g., 'missing')\n",
    "df_cdi = df_cdi.fillna({'Address 1': 'missing', 'Address 2': 'missing', 'City': 'missing', 'State': 'missing', 'Zip': 'missing'})\n",
    "\n",
    "# Filter rows to ensure there's something numeric in at least one of Addr1 or Addr2\n",
    "df_cdi = df_cdi[df_cdi.apply(lambda row: roman_or_numeral(row[\"Address 1\"]) or roman_or_numeral(row[\"Address 2\"]), axis=1)]\n",
    "\n",
    "df_cdi_multiple = df_cdi[df_cdi.groupby([\"Address 1\", \"Address 2\", \"City\", \"State\", \"Zip\"])\\\n",
    "                            .transform('size')>1]\\\n",
    "                            .sort_values(by=[\"Address 1\", \"Address 2\", \"City\", \"State\", \"Zip\"])\n",
    "\n",
    "# Create Groupby Object\n",
    "grouped = df_cdi_multiple.groupby([\"Address 1\", \"Address 2\", \"City\", \"State\", \"Zip\"])\n",
    "\n",
    "# Identify index of rows with max \"Total Lifetime Giving\" or default to first row\n",
    "idx_max_lifetime_giving = grouped.apply(get_max_index).values\n",
    "\n",
    "# Set \"head_of_household\" to False for all entries in subgroups with multiple entries\n",
    "df_cdi.loc[df_cdi_multiple.index, \"head_of_household\"] = False\n",
    "df_cdi_multiple[\"head_of_household\"] = False # not necessary but\n",
    "\n",
    "# Set \"head_of_household\" to True for the rows identified with max \"Total Lifetime Giving\"\n",
    "df_cdi.loc[idx_max_lifetime_giving, \"head_of_household\"] = True\n",
    "df_cdi_multiple.loc[idx_max_lifetime_giving, \"head_of_household\"] = True # not necessary but\n",
    "\n",
    "# Assign unique household_id to each subgroup\n",
    "df_cdi_multiple['household_id'] = df_cdi_multiple.groupby([\"Address 1\", \"Address 2\", \"City\", \"State\", \"Zip\"])\\\n",
    "                                               .ngroup() + 1\n",
    "\n",
    "# Merge the household_id back into the original df_cdi\n",
    "df_cdi = df_cdi.merge(df_cdi_multiple[[\"Unique Donor ID\", \"household_id\"]], on=\"Unique Donor ID\", how=\"left\")\n",
    "\n",
    "# Fill NaN values in household_id with 0 for those not in multiple entries groups\n",
    "df_cdi[\"household_id\"] = df_cdi[\"household_id\"].fillna(0).astype(int)\n",
    "\n",
    "# Merge the head_of_household and household_id into df_cd\n",
    "df_cd = df_cd.merge(df_cdi[[\"Unique Donor ID\", \"head_of_household\", \"household_id\"]], \\\n",
    "                  on=\"Unique Donor ID\", how=\"left\")"
   ]
  },
  {
   "cell_type": "markdown",
   "id": "6ea1724d-9aa2-4b57-b444-c0ee0946656c",
   "metadata": {},
   "source": [
    "### **Logic 2**"
   ]
  },
  {
   "cell_type": "code",
   "execution_count": null,
   "id": "4273a2d1-e273-4701-b448-483d155efe56",
   "metadata": {},
   "outputs": [],
   "source": []
  }
 ],
 "metadata": {
  "kernelspec": {
   "display_name": "scikit-learn",
   "language": "python",
   "name": ".scikit"
  },
  "language_info": {
   "codemirror_mode": {
    "name": "ipython",
    "version": 3
   },
   "file_extension": ".py",
   "mimetype": "text/x-python",
   "name": "python",
   "nbconvert_exporter": "python",
   "pygments_lexer": "ipython3",
   "version": "3.11.7"
  }
 },
 "nbformat": 4,
 "nbformat_minor": 5
}
