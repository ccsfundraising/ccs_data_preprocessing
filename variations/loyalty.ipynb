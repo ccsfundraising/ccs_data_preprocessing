{
 "cells": [
  {
   "cell_type": "markdown",
   "id": "bdb6e75a-db70-4d91-b704-3ba82887d5d5",
   "metadata": {},
   "source": [
    "# **Loyalty**"
   ]
  },
  {
   "cell_type": "markdown",
   "id": "3d640648-7818-495f-95cb-317cc4eee02b",
   "metadata": {},
   "source": [
    "### **Logic 1**"
   ]
  },
  {
   "cell_type": "markdown",
   "id": "62ffeb4a-4716-4d82-bfde-8f1454bd1754",
   "metadata": {},
   "source": [
    "## Calculate Giving Metrics\n",
    "\n",
    "1. **Define the Columns for Yearly Giving**\n",
    "   - Specifies the columns representing yearly giving data from last ten years not counting the current year.\n",
    "\n",
    "2. **Determine the First Year a Gift was Made**\n",
    "   - Identifies the earliest year in which a donor made a gift based on available yearly giving data.\n",
    "\n",
    "3. **Calculate the Number of Years Gifts were Made**\n",
    "   - Counts the total number of years a donor made contributions based on nonzero giving amounts.\n",
    "\n",
    "4. **Calculate Loyalty**\n",
    "   - Computes the loyalty score for each donor, reflecting the proportion of years they have contributed relative to their first year of giving.\n",
    "\n",
    "5. **Get the Current Year**\n",
    "   - Retrieves the current calendar year using system time.\n",
    "\n",
    "6. **Apply the Functions to the DataFrame**\n",
    "   - Applies the previously defined functions to compute giving metrics (`first_gift_year`, `years_gifts_made`, and `loyalty`) for each donor in the dataset `df_cd`.\n",
    "\n",
    "These steps collectively analyze donor behavior over time, establishing metrics crucial for understanding loyalty and engagement within donor populations.\n"
   ]
  },
  {
   "cell_type": "code",
   "execution_count": null,
   "id": "dcf3cf0b-e6f6-4410-8794-a9fe0b314046",
   "metadata": {},
   "outputs": [],
   "source": [
    "columns_yearly_giving = [\"2023 Total Giving\", \"2022 Total Giving\", \"2021 Total Giving\",\\\n",
    "                         \"2020 Total Giving\", \"2019 Total Giving\", \"2018 Total Giving\",\\\n",
    "                         \"2017 Total Giving\", \"2016 Total Giving\", \"2015 Total Giving\",\\\n",
    "                         \"2014 Total Giving\"]"
   ]
  },
  {
   "cell_type": "code",
   "execution_count": null,
   "id": "d7fada18-7cb1-468f-b4cc-5c5484c2a57b",
   "metadata": {},
   "outputs": [],
   "source": [
    "# Determine the first year a gift was made\n",
    "def first_gift_year(row):\n",
    "    first_gift_year = None\n",
    "    for i, column in enumerate(columns_yearly_giving):\n",
    "        if row[column] > 0:\n",
    "            first_gift_year = int(current_year) - (i+1)\n",
    "    return first_gift_year\n",
    "\n",
    "# Calculate the number of years gifts were made\n",
    "def years_gifts_made(row):\n",
    "    return sum(row[column] > 0 for column in columns_yearly_giving)\n",
    "\n",
    "# Calculate loyalty\n",
    "def calculate_loyalty(row):\n",
    "    if row[\"first_gift_year\"] is not None:\n",
    "        return row[\"number_of_years_gifts_were_made\"] / (current_year - row[\"first_gift_year\"])\n",
    "    return 0"
   ]
  },
  {
   "cell_type": "code",
   "execution_count": null,
   "id": "da9ce81a-59e0-4fdf-81c4-eac1423254a6",
   "metadata": {},
   "outputs": [],
   "source": [
    "# Get the current year\n",
    "current_year = datetime.now().year\n",
    "\n",
    "df_cd[\"first_gift_year\"] = df_cd.apply(first_gift_year, axis=1)\n",
    "df_cd[\"number_of_years_gifts_were_made\"] = df_cd.apply(years_gifts_made, axis=1)\n",
    "df_cd[\"loyalty\"] = df_cd.apply(calculate_loyalty, axis=1)"
   ]
  }
 ],
 "metadata": {
  "kernelspec": {
   "display_name": "Python 3 (ipykernel)",
   "language": "python",
   "name": "python3"
  },
  "language_info": {
   "codemirror_mode": {
    "name": "ipython",
    "version": 3
   },
   "file_extension": ".py",
   "mimetype": "text/x-python",
   "name": "python",
   "nbconvert_exporter": "python",
   "pygments_lexer": "ipython3",
   "version": "3.12.2"
  }
 },
 "nbformat": 4,
 "nbformat_minor": 5
}
