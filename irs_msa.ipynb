{
 "cells": [
  {
   "cell_type": "code",
   "execution_count": 97,
   "id": "ba569031-320e-40ff-8225-b2acbfe52949",
   "metadata": {},
   "outputs": [],
   "source": [
    "import pandas as pd\n",
    "import numpy as np\n",
    "import warnings\n",
    "warnings.filterwarnings('ignore')"
   ]
  },
  {
   "cell_type": "code",
   "execution_count": 98,
   "id": "f42d71a6-11b6-4481-8ae5-5bab5335b182",
   "metadata": {},
   "outputs": [],
   "source": [
    "def remove_dollar_sign_and_comma(cell):\n",
    "    \"\"\"\n",
    "    Remove dollar signs ('$'), commas (',') and dashes/minuses ('-') or pluses ('+') from a given string representation of a number.\n",
    "\n",
    "    Args:\n",
    "        cell (str or any): The string or value from which to remove dollar signs and commas.\n",
    "\n",
    "    Returns:\n",
    "        str or any: The modified string with dollar signs and commas removed, or the original value if not a string.\n",
    "    \"\"\"\n",
    "    if isinstance(cell, str):\n",
    "        cell = cell.replace(\"$\", \"\").replace(\",\", \"\").replace(\"-\", \"\").replace(\"+\", \"\")\n",
    "    return cell"
   ]
  },
  {
   "cell_type": "code",
   "execution_count": null,
   "id": "042bb926-c4b4-4e3c-ae52-8e5ff64d9a9e",
   "metadata": {},
   "outputs": [],
   "source": [
    "# Function to validate and transform zip codes\n",
    "def validate_and_transform(zip_code):\n",
    "    # Check for 5 digits optionally followed by a dash and 4 more digits\n",
    "    if pd.notna(zip_code) and (zip_code.isdigit() or (len(zip_code) == 10 and zip_code[5] == '-')):\n",
    "        # Add leading zero if only 4 digits\n",
    "        if len(zip_code) == 4:\n",
    "            return '0' + zip_code\n",
    "        if len(zip_code) == 3:\n",
    "            return '00' + zip_code\n",
    "        # Valid formats directly returned\n",
    "        elif len(zip_code) == 5 or (len(zip_code) == 10 and zip_code.replace('-', '').isdigit()):\n",
    "            return zip_code\n",
    "    return None  # Return None for invalid zip codes"
   ]
  },
  {
   "cell_type": "markdown",
   "id": "ff692bad-e6a2-4be8-ab92-efedf211f4f8",
   "metadata": {},
   "source": [
    "### **Read the MSA Data**"
   ]
  },
  {
   "cell_type": "code",
   "execution_count": 115,
   "id": "75078761-467b-4e84-bbb1-9efa275f87ae",
   "metadata": {},
   "outputs": [],
   "source": [
    "filename =  \"ZipTables.xlsx\"\n",
    "df_msa = pd.read_excel(filename, sheet_name=\"Zip_MSA\")\n",
    "df_demo = pd.read_excel(filename, sheet_name=\"Zip_Demographics\")"
   ]
  },
  {
   "cell_type": "markdown",
   "id": "e44287a4-b406-4827-9bf8-749047aee7a3",
   "metadata": {},
   "source": [
    "### **Rename the columns in the MSA Sheet**"
   ]
  },
  {
   "cell_type": "code",
   "execution_count": 116,
   "id": "8f71c46b-4b94-494e-82ed-a6ff9c152a2c",
   "metadata": {},
   "outputs": [],
   "source": [
    "# Define the new column names in snake case\n",
    "new_column_names = {\n",
    "    'ZIP CODE': 'zip',\n",
    "    'STATE': 'msa_state',\n",
    "    'MSA No.': 'msa_no',\n",
    "    'MSA Name': 'msa_name'\n",
    "}\n",
    "\n",
    "# Rename the columns\n",
    "df_msa.rename(columns=new_column_names, inplace=True)"
   ]
  },
  {
   "cell_type": "markdown",
   "id": "aa089514-07b8-44de-9c36-439e32e3d064",
   "metadata": {},
   "source": [
    "### **Rename the columns in the Demographics Sheet**"
   ]
  },
  {
   "cell_type": "code",
   "execution_count": 117,
   "id": "84676ba8-bbbb-4f76-a3d6-ffb08283dc76",
   "metadata": {},
   "outputs": [],
   "source": [
    "# Define the new column names in snake case\n",
    "new_column_names = {\n",
    "    'Zip': 'zip',\n",
    "    'Percent Population 25 years and over Less than 9th grade_raw': 'percent_less_than_9th_grade',\n",
    "    'Estimate Percent Population 25 years and over 9th to 12th grade no diploma_raw': 'percent_9_to_12_no_diploma',\n",
    "    'Percent Population 25 years and over Percent high school graduate or higher_raw': 'percent_hs_grad_or_higher',\n",
    "    'Percent Population 25 years and over Percent bachelors degree or higher_raw': 'percent_bachelors_or_higher',\n",
    "    'Owner-occupied housing units Percent_raw': 'owner_occupied_percent',\n",
    "    'Median age_raw': 'median_age',\n",
    "    'Median Income_raw': 'median_income',\n",
    "    'Median Household Value_raw': 'median_household_value',\n",
    "    'Labor Participation Rate_raw': 'labor_participation_rate'\n",
    "}\n",
    "\n",
    "# Rename the columns\n",
    "df_demo.rename(columns=new_column_names, inplace=True)"
   ]
  },
  {
   "cell_type": "markdown",
   "id": "6359384a-c858-4477-b341-6e7e56049cda",
   "metadata": {},
   "source": [
    "### **Merge the two sheets on \"zip\"**"
   ]
  },
  {
   "cell_type": "code",
   "execution_count": 102,
   "id": "871fee90-c852-4af2-b90b-3939bd18d600",
   "metadata": {},
   "outputs": [],
   "source": [
    "df_irs = df_demo.merge(df_msa, on=\"zip\", how=\"left\")"
   ]
  },
  {
   "cell_type": "code",
   "execution_count": 103,
   "id": "21eb5f55-e98b-4f4b-9866-a4fd966cd71c",
   "metadata": {},
   "outputs": [],
   "source": [
    "#df = df_irs[column_dtypes_float]\n",
    "#df[df.apply(lambda row: row.astype(str).str.contains('-').any(), axis=1)]"
   ]
  },
  {
   "cell_type": "markdown",
   "id": "2cc3a0e6-ab9b-46fa-9ea8-dfa164f5c261",
   "metadata": {},
   "source": [
    "### **Formatting and Editing**"
   ]
  },
  {
   "cell_type": "code",
   "execution_count": 104,
   "id": "7905c794-6827-40c2-a48c-70d2956fd89a",
   "metadata": {},
   "outputs": [],
   "source": [
    "df_irs[\"owner_occupied_percent\"] = 100 * df_irs[\"owner_occupied_percent\"]"
   ]
  },
  {
   "cell_type": "code",
   "execution_count": 105,
   "id": "4b81cd73-df0a-4e7e-bdc7-37749d795ffa",
   "metadata": {},
   "outputs": [],
   "source": [
    "### For median_age\n",
    "\n",
    "# Replace '-' and '' with NaN\n",
    "df_irs.replace({\"median_age\": {\"-\": np.nan, \"\": np.nan}}, inplace=True)\n",
    "\n",
    "# Replace NaN with the median\n",
    "df_irs[\"median_age\"].fillna(df_irs[\"median_age\"].median(), inplace=True)\n",
    "\n",
    "### For everything else\n",
    "\n",
    "# Replace '-' with 0\n",
    "df_irs.replace({\"-\": np.nan, \"\": np.nan}, inplace=True)\n",
    "\n",
    "# Replace NaN with 0\n",
    "df_irs.fillna(0, inplace=True)"
   ]
  },
  {
   "cell_type": "code",
   "execution_count": 106,
   "id": "11e7ebcd-1cde-4aaf-8033-179c741b2c91",
   "metadata": {},
   "outputs": [],
   "source": [
    "df_irs = df_irs.map(remove_dollar_sign_and_comma)"
   ]
  },
  {
   "cell_type": "code",
   "execution_count": 107,
   "id": "7cc20f58-3faf-4e49-8a23-3f0b490bcd5c",
   "metadata": {},
   "outputs": [],
   "source": [
    "column_dtypes_float = ['percent_less_than_9th_grade', 'percent_9_to_12_no_diploma',\n",
    "       'percent_hs_grad_or_higher', 'percent_bachelors_or_higher',\n",
    "       'owner_occupied_percent', 'median_age', 'median_income',\n",
    "       'median_household_value', 'labor_participation_rate']\n",
    "\n",
    "# Convert specified columns to float\n",
    "df_irs[column_dtypes_float] = df_irs[column_dtypes_float].astype(float)\n",
    "df_irs[\"zip\"] = df_irs[\"zip\"].astype(str)"
   ]
  },
  {
   "cell_type": "code",
   "execution_count": 108,
   "id": "3f4c7b35-3674-4bf5-875e-d61590b8c004",
   "metadata": {},
   "outputs": [],
   "source": [
    "df_irs = df_irs[['zip', 'msa_state', 'msa_no', 'msa_name', \n",
    "       'percent_less_than_9th_grade', 'percent_9_to_12_no_diploma',\n",
    "       'percent_hs_grad_or_higher', 'percent_bachelors_or_higher',\n",
    "       'owner_occupied_percent', 'median_age', 'median_income',\n",
    "       'median_household_value', 'labor_participation_rate']]"
   ]
  },
  {
   "cell_type": "code",
   "execution_count": 109,
   "id": "bb411725-4ccd-4446-bac7-75050c464ecf",
   "metadata": {},
   "outputs": [
    {
     "data": {
      "text/html": [
       "<div>\n",
       "<style scoped>\n",
       "    .dataframe tbody tr th:only-of-type {\n",
       "        vertical-align: middle;\n",
       "    }\n",
       "\n",
       "    .dataframe tbody tr th {\n",
       "        vertical-align: top;\n",
       "    }\n",
       "\n",
       "    .dataframe thead th {\n",
       "        text-align: right;\n",
       "    }\n",
       "</style>\n",
       "<table border=\"1\" class=\"dataframe\">\n",
       "  <thead>\n",
       "    <tr style=\"text-align: right;\">\n",
       "      <th></th>\n",
       "      <th>zip</th>\n",
       "      <th>msa_state</th>\n",
       "      <th>msa_no</th>\n",
       "      <th>msa_name</th>\n",
       "      <th>percent_less_than_9th_grade</th>\n",
       "      <th>percent_9_to_12_no_diploma</th>\n",
       "      <th>percent_hs_grad_or_higher</th>\n",
       "      <th>percent_bachelors_or_higher</th>\n",
       "      <th>owner_occupied_percent</th>\n",
       "      <th>median_age</th>\n",
       "      <th>median_income</th>\n",
       "      <th>median_household_value</th>\n",
       "      <th>labor_participation_rate</th>\n",
       "    </tr>\n",
       "  </thead>\n",
       "  <tbody>\n",
       "    <tr>\n",
       "      <th>0</th>\n",
       "      <td>601</td>\n",
       "      <td>PR</td>\n",
       "      <td>99072</td>\n",
       "      <td>PR NONMETROPOLITAN AREA</td>\n",
       "      <td>23.9</td>\n",
       "      <td>10.5</td>\n",
       "      <td>65.6</td>\n",
       "      <td>16.4</td>\n",
       "      <td>59.593393</td>\n",
       "      <td>41.9</td>\n",
       "      <td>14361.0</td>\n",
       "      <td>83900.0</td>\n",
       "      <td>40.2</td>\n",
       "    </tr>\n",
       "    <tr>\n",
       "      <th>1</th>\n",
       "      <td>602</td>\n",
       "      <td>PR</td>\n",
       "      <td>10380</td>\n",
       "      <td>AguadillaIsabelaSan Sebastian PR MSA</td>\n",
       "      <td>23.8</td>\n",
       "      <td>10.5</td>\n",
       "      <td>65.7</td>\n",
       "      <td>20.2</td>\n",
       "      <td>74.788069</td>\n",
       "      <td>42.9</td>\n",
       "      <td>16807.0</td>\n",
       "      <td>85300.0</td>\n",
       "      <td>39.7</td>\n",
       "    </tr>\n",
       "    <tr>\n",
       "      <th>2</th>\n",
       "      <td>603</td>\n",
       "      <td>PR</td>\n",
       "      <td>10380</td>\n",
       "      <td>AguadillaIsabelaSan Sebastian PR MSA</td>\n",
       "      <td>16.8</td>\n",
       "      <td>10.2</td>\n",
       "      <td>73.0</td>\n",
       "      <td>23.0</td>\n",
       "      <td>57.821926</td>\n",
       "      <td>42.1</td>\n",
       "      <td>16049.0</td>\n",
       "      <td>118400.0</td>\n",
       "      <td>39.1</td>\n",
       "    </tr>\n",
       "    <tr>\n",
       "      <th>3</th>\n",
       "      <td>606</td>\n",
       "      <td>PR</td>\n",
       "      <td>99072</td>\n",
       "      <td>PR NONMETROPOLITAN AREA</td>\n",
       "      <td>32.6</td>\n",
       "      <td>14.9</td>\n",
       "      <td>52.5</td>\n",
       "      <td>7.6</td>\n",
       "      <td>75.539568</td>\n",
       "      <td>44.3</td>\n",
       "      <td>12119.0</td>\n",
       "      <td>80800.0</td>\n",
       "      <td>26.0</td>\n",
       "    </tr>\n",
       "    <tr>\n",
       "      <th>4</th>\n",
       "      <td>610</td>\n",
       "      <td>PR</td>\n",
       "      <td>10380</td>\n",
       "      <td>AguadillaIsabelaSan Sebastian PR MSA</td>\n",
       "      <td>21.9</td>\n",
       "      <td>8.8</td>\n",
       "      <td>69.4</td>\n",
       "      <td>18.6</td>\n",
       "      <td>76.839113</td>\n",
       "      <td>42.7</td>\n",
       "      <td>19898.0</td>\n",
       "      <td>87600.0</td>\n",
       "      <td>41.3</td>\n",
       "    </tr>\n",
       "  </tbody>\n",
       "</table>\n",
       "</div>"
      ],
      "text/plain": [
       "   zip msa_state  msa_no                              msa_name  \\\n",
       "0  601        PR   99072               PR NONMETROPOLITAN AREA   \n",
       "1  602        PR   10380  AguadillaIsabelaSan Sebastian PR MSA   \n",
       "2  603        PR   10380  AguadillaIsabelaSan Sebastian PR MSA   \n",
       "3  606        PR   99072               PR NONMETROPOLITAN AREA   \n",
       "4  610        PR   10380  AguadillaIsabelaSan Sebastian PR MSA   \n",
       "\n",
       "   percent_less_than_9th_grade  percent_9_to_12_no_diploma  \\\n",
       "0                         23.9                        10.5   \n",
       "1                         23.8                        10.5   \n",
       "2                         16.8                        10.2   \n",
       "3                         32.6                        14.9   \n",
       "4                         21.9                         8.8   \n",
       "\n",
       "   percent_hs_grad_or_higher  percent_bachelors_or_higher  \\\n",
       "0                       65.6                         16.4   \n",
       "1                       65.7                         20.2   \n",
       "2                       73.0                         23.0   \n",
       "3                       52.5                          7.6   \n",
       "4                       69.4                         18.6   \n",
       "\n",
       "   owner_occupied_percent  median_age  median_income  median_household_value  \\\n",
       "0               59.593393        41.9        14361.0                 83900.0   \n",
       "1               74.788069        42.9        16807.0                 85300.0   \n",
       "2               57.821926        42.1        16049.0                118400.0   \n",
       "3               75.539568        44.3        12119.0                 80800.0   \n",
       "4               76.839113        42.7        19898.0                 87600.0   \n",
       "\n",
       "   labor_participation_rate  \n",
       "0                      40.2  \n",
       "1                      39.7  \n",
       "2                      39.1  \n",
       "3                      26.0  \n",
       "4                      41.3  "
      ]
     },
     "execution_count": 109,
     "metadata": {},
     "output_type": "execute_result"
    }
   ],
   "source": [
    "df_irs.head()"
   ]
  },
  {
   "cell_type": "code",
   "execution_count": 110,
   "id": "53bb4d6b-af30-4e54-b6f8-80a828a8676f",
   "metadata": {},
   "outputs": [],
   "source": [
    "df_irs.to_csv(\"irs_msa.csv\")"
   ]
  },
  {
   "cell_type": "code",
   "execution_count": 111,
   "id": "feb79751-6881-4071-b98f-6418306fae68",
   "metadata": {},
   "outputs": [],
   "source": [
    "df_irs.to_parquet(\"irs_msa.parquet.gzip\", compression=\"gzip\")  "
   ]
  },
  {
   "cell_type": "code",
   "execution_count": 112,
   "id": "87ce4582-0c12-408c-8728-31f9e60daeda",
   "metadata": {},
   "outputs": [],
   "source": [
    "df_irs.to_parquet(\"irs_msa.parquet\")  "
   ]
  },
  {
   "cell_type": "code",
   "execution_count": 113,
   "id": "c315714e-3026-43a3-80d1-ff58cabda7dc",
   "metadata": {},
   "outputs": [],
   "source": [
    "df = pd.read_parquet(\"irs_msa.parquet\")"
   ]
  },
  {
   "cell_type": "code",
   "execution_count": null,
   "id": "e26e70ca-5c00-4629-80c3-a7daef189b0a",
   "metadata": {},
   "outputs": [],
   "source": []
  }
 ],
 "metadata": {
  "kernelspec": {
   "display_name": "scikit-learn",
   "language": "python",
   "name": ".scikit"
  },
  "language_info": {
   "codemirror_mode": {
    "name": "ipython",
    "version": 3
   },
   "file_extension": ".py",
   "mimetype": "text/x-python",
   "name": "python",
   "nbconvert_exporter": "python",
   "pygments_lexer": "ipython3",
   "version": "3.11.7"
  }
 },
 "nbformat": 4,
 "nbformat_minor": 5
}
