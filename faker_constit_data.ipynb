{
 "cells": [
  {
   "cell_type": "code",
   "execution_count": 21,
   "metadata": {},
   "outputs": [],
   "source": [
    "import pandas as pd\n",
    "import numpy as np\n",
    "import random\n",
    "import string\n",
    "from faker import Faker\n",
    "import faker_nonprofit\n",
    "\n",
    "fake = Faker()\n",
    "fake.add_provider(faker_nonprofit.Provider) "
   ]
  },
  {
   "cell_type": "code",
   "execution_count": 22,
   "metadata": {},
   "outputs": [],
   "source": [
    "#fake.name().split()[0]\n",
    "#fake.pystr(min_chars=4, max_chars=10)\n",
    "#[(fake.first_name(), fake.last_name()) for _ in range(10)]"
   ]
  },
  {
   "cell_type": "code",
   "execution_count": 23,
   "metadata": {},
   "outputs": [],
   "source": [
    "def col_eg(df, col):\n",
    "   return df[(~df[col].isna()) & (df[col]!=\"nan\")][col][1:10]"
   ]
  },
  {
   "cell_type": "code",
   "execution_count": 24,
   "metadata": {},
   "outputs": [
    {
     "name": "stderr",
     "output_type": "stream",
     "text": [
      "/var/folders/0m/d2nm9kxx5lxf971ys13kwry00000gn/T/ipykernel_52269/185851694.py:5: DtypeWarning: Columns (6,19,22,24,26,27,29,31,32,35,39,40,50) have mixed types. Specify dtype option on import or set low_memory=False.\n",
      "  df_cd = pd.read_csv(file, encoding=\"ISO-8859-1\")\n"
     ]
    }
   ],
   "source": [
    "client = \"national_scleroderma_foundation\"\n",
    "path = \"~/data\"\n",
    "filename =  \"%s_constituent_ccsdb.csv\" %(client)\n",
    "file = \"%s/%s\" %(path, filename)\n",
    "df_cd = pd.read_csv(file, encoding=\"ISO-8859-1\")\n",
    "df_cd = df_cd.dropna(how=\"all\", axis=1)\n",
    "df_cd = df_cd.rename(columns={\"solicit_codes\": \"solicit_codes_binary\"})\n",
    "df_cd[\"solicit_codes_binary\"] = df_cd[\"solicit_codes_binary\"].astype(\"bool\")\n",
    "df_cd = df_cd.drop(columns=[\"Unnamed: 0\"])"
   ]
  },
  {
   "cell_type": "code",
   "execution_count": 25,
   "metadata": {},
   "outputs": [],
   "source": [
    "df_cd_syn = df_cd.copy()\n",
    "columns_nans ={key: df_cd_syn[key].isna().sum() for key in df_cd_syn.columns}"
   ]
  },
  {
   "cell_type": "code",
   "execution_count": 26,
   "metadata": {},
   "outputs": [],
   "source": [
    "df_cd_syn[df_cd_syn.select_dtypes(include='object').columns] = \\\n",
    "                        df_cd_syn.select_dtypes(include='object')\\\n",
    "                                 .apply(lambda x: x.str.replace(\"scleroderma\", \"Company\", case=False))"
   ]
  },
  {
   "cell_type": "code",
   "execution_count": 27,
   "metadata": {},
   "outputs": [],
   "source": [
    "df_cd_syn[\"current_trustee\"] = df_cd_syn[\"current_trustee\"].replace(\"National Board of Directors\", \"Myown Board of Directors\")\n",
    "df_cd_syn[\"wealth_screen_data\"] = df_cd_syn[\"wealth_screen_data\"].replace(\"Blackbaud Analytics - NXT\", \"BB Analytics\")"
   ]
  },
  {
   "cell_type": "code",
   "execution_count": 28,
   "metadata": {},
   "outputs": [],
   "source": [
    "def create_array_with_nans(numbers, nans):\n",
    "    # Combine the numbers and NaNs\n",
    "    combined_list = numbers + [np.nan] * nans\n",
    "    \n",
    "    # Shuffle the combined list randomly\n",
    "    np.random.shuffle(combined_list)\n",
    "    \n",
    "    # Convert the list to a numpy array\n",
    "    result_array = np.array(combined_list)\n",
    "    \n",
    "    return result_array\n",
    "\n",
    "# Example usage\n",
    "# N1 = 5\n",
    "# N2 = 3\n",
    "# numbers_or_strings = [1, 2, \"Alice\", \"Bob\", 3.14]\n",
    "# result = create_array_with_nans(numbers_or_strings, N2)"
   ]
  },
  {
   "cell_type": "code",
   "execution_count": 29,
   "metadata": {},
   "outputs": [],
   "source": [
    "# Generate a list of 100 random strings\n",
    "def generate_random_strings(num_strings, string_length):\n",
    "    characters = string.ascii_letters + string.digits\n",
    "    return [''.join(random.choice(characters) for _ in range(string_length)) for _ in range(num_strings)]"
   ]
  },
  {
   "cell_type": "code",
   "execution_count": 30,
   "metadata": {},
   "outputs": [],
   "source": [
    "# Addresses\n",
    "\n",
    "columns_address = [\"address_1\", \"business_address\", \"seasonal_address\"]\n",
    "\n",
    "for col in columns_address:\n",
    "\n",
    "    N = len(df_cd_syn) - columns_nans[col]\n",
    "\n",
    "    # Generate a list of N random integers\n",
    "    syn_house_numbers = [random.randint(1, N) for _ in range(N)]\n",
    "\n",
    "    # Example: Generate a list of N random strings, each with a length of 10 characters\n",
    "#    syn_street_names = generate_random_strings(num_strings=N, string_length=10)\n",
    "    syn_street_names = [fake.street_name() for _ in range(N)]\n",
    "\n",
    "    # List of street suffixes\n",
    "    suffixes = [\"Ave\", \"Str\", \"Rd\"]\n",
    "    syn_suffix = [random.choice(suffixes) for _ in range(N)]\n",
    "\n",
    "    col_array = [f\"{num} {name} {suffix}\" for num, name, suffix \\\n",
    "                        in zip(syn_house_numbers, syn_street_names, syn_suffix)]\n",
    "    df_cd_syn[col] = create_array_with_nans(col_array, columns_nans[col])\n",
    "    df_cd_syn[col] = df_cd_syn[col].astype(str)"
   ]
  },
  {
   "cell_type": "code",
   "execution_count": 31,
   "metadata": {},
   "outputs": [],
   "source": [
    "# Address_2\n",
    "\n",
    "df_cd_syn[\"address_2\"] = df_cd[\"address_2\"].str.replace(\"apt\", \"Ste\", case=False)\n",
    "df_cd_syn[\"address_2\"] = df_cd[\"address_2\"].str.replace(\"ste\", \"Apt\", case=False)\n",
    "df_cd_syn[\"address_2\"] = df_cd[\"address_2\"].str.replace(\"dr\", \"Alley\", case=False)"
   ]
  },
  {
   "cell_type": "code",
   "execution_count": 32,
   "metadata": {},
   "outputs": [],
   "source": [
    "# Emails\n",
    "\n",
    "columns_email = [\"personal_email\", \"spouse_email\"]\n",
    "\n",
    "for col in columns_email:\n",
    "\n",
    "    N = len(df_cd_syn) - columns_nans[col]\n",
    "\n",
    "    # Example: Generate a list of N random strings, each with a length of 5 characters\n",
    "    #syn_first_string = generate_random_strings(num_strings=N, string_length=5)\n",
    "    syn_first_string = [fake.first_name() for _ in range(N)]\n",
    "\n",
    "    # Example: Generate a list of N random strings, each with a length of 5 characters\n",
    "    #syn_second_string = generate_random_strings(num_strings=N, string_length=5)\n",
    "    syn_second_string = [fake.last_name() for _ in range(N)]\n",
    "\n",
    "    # List of street suffixes\n",
    "    suffixes = [\"@gmail.com\", \"@yahoo.com\", \"@verizon.net\", \"@outlook.com\"]\n",
    "    syn_suffix = [random.choice(suffixes) for _ in range(N)]\n",
    "\n",
    "    col_array = [f\"{first}.{second}{suffix}\" for first, second, suffix \\\n",
    "                        in zip(syn_first_string, syn_second_string, syn_suffix)]\n",
    "    df_cd_syn[col] = create_array_with_nans(col_array, columns_nans[col])\n",
    "    df_cd_syn[col] = df_cd_syn[col].astype(str)"
   ]
  },
  {
   "cell_type": "code",
   "execution_count": 33,
   "metadata": {},
   "outputs": [],
   "source": [
    "# Other Fields\n",
    "\n",
    "columns_to_synthesize_string = [\"first_name\", \"middle_name\", \"last_name\", \"spouse_name\", \"spouse_business_name\"]\n",
    "for col in columns_to_synthesize_string:\n",
    "\n",
    "    N = len(df_cd_syn) - columns_nans[col]\n",
    "\n",
    "    if col==\"first_name\":\n",
    "        col_array = [fake.first_name() for _ in range(N)]\n",
    "    if col==\"last_name\":\n",
    "        col_array = [fake.last_name() for _ in range(N)]\n",
    "    if col==\"middle_name\":\n",
    "        col_array = [\"%s.\" %random.choice(string.ascii_letters) for _ in range(N)]\n",
    "    if col==\"spouse_name\":\n",
    "        col_array = [fake.name() for _ in range(N)]\n",
    "    if col==\"spouse_business_name\":\n",
    "        col_array = [fake.job() for _ in range(N)]\n",
    "    \n",
    "    df_cd_syn[col] = create_array_with_nans(col_array, columns_nans[col])\n",
    "    df_cd_syn[col] = df_cd_syn[col].astype(str)\n",
    "\n",
    "columns_to_synthesize_integer = [\"constituent_id\", \"spouse_id\", \"home_phone\", \"cell_phone\", \"business_phone\"]\n",
    "for col in columns_to_synthesize_integer:\n",
    "\n",
    "    N = len(df_cd) - columns_nans[col]\n",
    "    \n",
    "    if \"phone\" in col:\n",
    "        col_array = [random.randint(1000000000, 9999999999) for _ in range(N)]\n",
    "    else:\n",
    "        col_array = [random.randint(1, N) for _ in range(N)]\n",
    "    \n",
    "    df_cd_syn[col] = create_array_with_nans(col_array, columns_nans[col])\n",
    "    df_cd_syn[col] = df_cd_syn[col].astype(str)\n",
    "\n",
    "#[(col, col_eg(df_cd_syn, col)) for col in columns_to_synthesize_string]"
   ]
  },
  {
   "cell_type": "code",
   "execution_count": 34,
   "metadata": {},
   "outputs": [],
   "source": [
    "# Other Fields\n",
    "\n",
    "columns_to_synthesize_string = [\"constituent_type_1\", \"constituent_type_2\", \"age\", \"org_name\", \"zip\"]\n",
    "for col in columns_to_synthesize_string:\n",
    "\n",
    "    N = len(df_cd_syn) - columns_nans[col]\n",
    "\n",
    "    if col==\"constituent_type_1\":\n",
    "        col_array = [fake.company() for _ in range(N)]\n",
    "    if col==\"constituent_type_2\":\n",
    "        col_array = [fake.job() for _ in range(N)]\n",
    "    if col==\"age\":\n",
    "        col_array = [fake.passport_dob() for _ in range(N)]\n",
    "    if col==\"org_name\":\n",
    "        col_array = [fake.company() for _ in range(N)]\n",
    "    if col==\"zip\":\n",
    "        col_array = [fake.postcode() for _ in range(N)]\n",
    "    \n",
    "    df_cd_syn[col] = create_array_with_nans(col_array, columns_nans[col])\n",
    "    df_cd_syn[col] = df_cd_syn[col].astype(str)"
   ]
  },
  {
   "cell_type": "code",
   "execution_count": 35,
   "metadata": {},
   "outputs": [],
   "source": [
    "col = \"assigned_manager\"\n",
    "\n",
    "# Create Fake Assigned Managers\n",
    "N_assigned_managers = df_cd_syn[col].nunique()\n",
    "\n",
    "# List of fake assigned managers\n",
    "fake_assigned_managers_list = [fake.name() for i in range(N_assigned_managers)]\n",
    "\n",
    "N = len(df_cd_syn) - columns_nans[col]\n",
    "col_array = [random.choice(fake_assigned_managers_list) for _ in range(N)]\n",
    "df_cd_syn[col] = create_array_with_nans(col_array, columns_nans[col])\n",
    "df_cd_syn[col] = df_cd_syn[col].astype(str)"
   ]
  },
  {
   "cell_type": "code",
   "execution_count": 40,
   "metadata": {},
   "outputs": [],
   "source": [
    "df_cd_syn = df_cd_syn.rename(columns={\"age\": \"dob\", \"spouse_age\": \"spouse_dob\"})"
   ]
  },
  {
   "cell_type": "code",
   "execution_count": 44,
   "metadata": {},
   "outputs": [
    {
     "data": {
      "text/plain": [
       "Index(['constituent_id', 'first_name', 'middle_name', 'last_name', 'address_1',\n",
       "       'address_2', 'home_city', 'home_state', 'zip', 'home_country',\n",
       "       'modification_date', 'constituent_type_1', 'constituent_type_2',\n",
       "       'deceased', 'key_indicator', 'prefix', 'suffix', 'org_name',\n",
       "       'spouse_id', 'spouse_name', 'spouse_dob', 'spouse_email',\n",
       "       'spouse_business_name', 'spouse_business_title', 'business_address',\n",
       "       'seasonal_address', 'home_phone', 'cell_phone', 'business_phone',\n",
       "       'personal_email', 'marital_status', 'dob', 'wealth_screen_data',\n",
       "       'current_trustee', 'past_trustee', 'history_of_volunteer',\n",
       "       'number_of_special_events_attended', 'last_action_type',\n",
       "       'last_action_date', 'date_of_last_note', 'total_notes',\n",
       "       'assigned_manager', 'solicit_codes_binary', 'lifetime_giving',\n",
       "       'five_year_giving', 'lifetime_hard_credits', 'first_gift_amount',\n",
       "       'first_gift_date', 'most_recent_gift_amount', 'most_recent_gift_date',\n",
       "       'number_of_gifts', 'is_individual', 'is_deceased'],\n",
       "      dtype='object')"
      ]
     },
     "execution_count": 44,
     "metadata": {},
     "output_type": "execute_result"
    }
   ],
   "source": [
    "df_cd_syn.columns"
   ]
  },
  {
   "cell_type": "code",
   "execution_count": 45,
   "metadata": {},
   "outputs": [],
   "source": [
    "df_cd_syn.to_csv(\"~/data/synthetic_constituent_data.csv\")"
   ]
  },
  {
   "cell_type": "code",
   "execution_count": null,
   "metadata": {},
   "outputs": [],
   "source": []
  }
 ],
 "metadata": {
  "kernelspec": {
   "display_name": "Python 3.9.18 ('.py39_scikit': venv)",
   "language": "python",
   "name": "python3"
  },
  "language_info": {
   "codemirror_mode": {
    "name": "ipython",
    "version": 3
   },
   "file_extension": ".py",
   "mimetype": "text/x-python",
   "name": "python",
   "nbconvert_exporter": "python",
   "pygments_lexer": "ipython3",
   "version": "3.12.4"
  },
  "orig_nbformat": 4,
  "vscode": {
   "interpreter": {
    "hash": "182b72de6a7fc364a5310487655b0e5f592a8e241d778628074080a7151d467c"
   }
  }
 },
 "nbformat": 4,
 "nbformat_minor": 2
}
