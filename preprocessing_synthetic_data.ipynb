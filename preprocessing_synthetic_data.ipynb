{
 "cells": [
  {
   "cell_type": "code",
   "execution_count": 3,
   "id": "d2744119-c7de-44c1-8f53-faf974f72eb9",
   "metadata": {
    "slideshow": {
     "slide_type": ""
    },
    "tags": []
   },
   "outputs": [],
   "source": [
    "import subprocess\n",
    "import pandas as pd\n",
    "import chardet\n",
    "import numpy as np\n",
    "import matplotlib.pyplot as plt\n",
    "import os\n",
    "import glob\n",
    "import argparse\n",
    "import hashlib\n",
    "from datetime import datetime\n",
    "from configparser import ConfigParser\n",
    "import sys\n",
    "import warnings\n",
    "import re\n",
    "warnings.filterwarnings('ignore')\n",
    "from numpy import random\n",
    "from ydata_profiling import ProfileReport"
   ]
  },
  {
   "cell_type": "code",
   "execution_count": 4,
   "id": "88aa0f4b",
   "metadata": {},
   "outputs": [],
   "source": [
    "#!pip install chardet"
   ]
  },
  {
   "cell_type": "code",
   "execution_count": 5,
   "id": "465149ac-585c-4745-9a61-9e8630c0d231",
   "metadata": {},
   "outputs": [],
   "source": [
    "pd.set_option('display.max_columns', None)\n",
    "pd.set_option('display.max_rows', 50)"
   ]
  },
  {
   "cell_type": "markdown",
   "id": "3b6e45be-868d-44f6-82d2-7c9d816e7c18",
   "metadata": {
    "slideshow": {
     "slide_type": ""
    },
    "tags": []
   },
   "source": [
    "# **Functions**"
   ]
  },
  {
   "cell_type": "code",
   "execution_count": 6,
   "id": "b1d627c0-16cc-4232-b1b3-16e34483aa0f",
   "metadata": {},
   "outputs": [],
   "source": [
    "def col_eg(df, col):\n",
    "   return df[(~df[col].isna()) & (df[col]!=\"nan\")][col][1:10]"
   ]
  },
  {
   "cell_type": "code",
   "execution_count": 7,
   "id": "340ad098-3102-48b7-a1b7-a9ee18fd10a1",
   "metadata": {},
   "outputs": [],
   "source": [
    "def convert_to_snake_case(col_name):\n",
    "    # Remove '__c' from the column names\n",
    "    col_name = col_name.replace('__c', '')\n",
    "    \n",
    "    # Replace periods with underscores\n",
    "    col_name = col_name.replace('.', '_')\n",
    "    \n",
    "    # Convert camel case to snake case\n",
    "    # Handle the case where a lowercase letter or digit is followed by an uppercase letter\n",
    "    col_name = re.sub(r'([a-z0-9])([A-Z])', r'\\1_\\2', col_name)\n",
    "    \n",
    "    # Convert the entire string to lowercase\n",
    "    col_name = col_name.lower()\n",
    "    \n",
    "    # Replace multiple underscores with a single underscore\n",
    "    col_name = re.sub(r'_+', '_', col_name)\n",
    "    \n",
    "    return col_name"
   ]
  },
  {
   "cell_type": "code",
   "execution_count": 8,
   "id": "a1cdd80b-ddd1-4706-b5f6-0aa3a1a50dfc",
   "metadata": {
    "slideshow": {
     "slide_type": ""
    },
    "tags": []
   },
   "outputs": [],
   "source": [
    "# Define a function to convert entries to datetime\n",
    "def convert_to_datetime(entry):\n",
    "    \"\"\"\n",
    "    Convert a given entry into a datetime object using pandas' to_datetime function.\n",
    "\n",
    "    Args:\n",
    "        entry (str): The entry to convert to datetime.\n",
    "\n",
    "    Returns:\n",
    "        pd.Timestamp: Returns a pandas Timestamp object if conversion is successful.\n",
    "    \"\"\"\n",
    "    \n",
    "    try:\n",
    "        # Try to parse as a full date\n",
    "        return pd.to_datetime(entry)\n",
    "    except ValueError:\n",
    "        # Check if it's a four-digit number (likely representing a year)\n",
    "        if entry.isdigit() and len(entry) == 4:\n",
    "            return pd.to_datetime(entry, format='%Y')\n",
    "        else:\n",
    "            # If it's neither a full date nor a valid year, return NaN or handle as needed\n",
    "            return pd.NaT"
   ]
  },
  {
   "cell_type": "code",
   "execution_count": 9,
   "id": "c52b239f-7e07-4450-94c9-4446a0f5f8ab",
   "metadata": {
    "slideshow": {
     "slide_type": ""
    },
    "tags": []
   },
   "outputs": [],
   "source": [
    "def is_roman_numeral(value):\n",
    "    \"\"\"\n",
    "    Check if the given value is a valid Roman numeral.\n",
    "\n",
    "    Args:\n",
    "        value (str): The value to check.\n",
    "\n",
    "    Returns:\n",
    "        bool: True if the value is a valid Roman numeral, False otherwise.\n",
    "    \"\"\"\n",
    "    \n",
    "    # Define a regular expression to match Roman numerals\n",
    "    roman_pattern = r'^M{0,3}(CM|CD|D?C{0,3})(XC|XL|L?X{0,3})(IX|IV|V?I{0,3})$'\n",
    "    \n",
    "    # Check if the value matches the Roman numeral pattern\n",
    "    return bool(re.match(roman_pattern, value))\n",
    "\n",
    "def has_digit(value):\n",
    "    return bool(re.search(r'\\d', str(value)))\n",
    "\n",
    "def roman_or_numeral(value):\n",
    "    if is_roman_numeral(value):\n",
    "        return True\n",
    "    elif has_digit(value):\n",
    "        return True\n",
    "    else:\n",
    "        return False"
   ]
  },
  {
   "cell_type": "code",
   "execution_count": 10,
   "id": "1fbf6341-6dc9-4f36-b170-a9eec979327b",
   "metadata": {
    "slideshow": {
     "slide_type": ""
    },
    "tags": []
   },
   "outputs": [],
   "source": [
    "def intersection_out(lst1, lst2):\n",
    "    \"\"\"\n",
    "    Return a list containing elements from lst1 that are not present in lst2.\n",
    "    \"\"\"\n",
    "    lst3 = [value for value in lst1 if value not in lst2]\n",
    "    return lst3\n",
    "\n",
    "def intersection_in(lst1, lst2):\n",
    "    \"\"\"\n",
    "    Return a list containing elements from lst1 that are present in lst2 as well.\n",
    "    \"\"\"\n",
    "    lst3 = [value for value in lst1 if value in lst2]\n",
    "    return lst3"
   ]
  },
  {
   "cell_type": "code",
   "execution_count": 11,
   "id": "4fcbb7c8-e66a-4cb7-ad7c-7f160fdcede6",
   "metadata": {
    "slideshow": {
     "slide_type": ""
    },
    "tags": []
   },
   "outputs": [
    {
     "data": {
      "text/plain": [
       "False"
      ]
     },
     "execution_count": 11,
     "metadata": {},
     "output_type": "execute_result"
    }
   ],
   "source": [
    "def generalized_contains(cell, included_and=None, included_or=None, excluded_and=None, excluded_or=None):\n",
    "    \"\"\"\n",
    "    Check if a given string `cell` meets specific inclusion and exclusion criteria.\n",
    "\n",
    "    Args:\n",
    "        cell (str): The string to check.\n",
    "        included_and (list, optional): List of keywords; cell must include all of these (case insensitive).\n",
    "        included_or (list, optional): List of keywords; cell must include at least one of these (case insensitive).\n",
    "        excluded_and (list, optional): List of keywords; cell must not include any of these (case insensitive).\n",
    "        excluded_or (list, optional): List of keywords; cell must not include at least one of these (case insensitive).\n",
    "\n",
    "    Returns:\n",
    "        bool: True if `cell` meets all specified criteria, False otherwise.\n",
    "    \"\"\"\n",
    "    \n",
    "    if not isinstance(cell, str):\n",
    "        return False\n",
    "    \n",
    "    cell_lower = cell.lower()\n",
    "    \n",
    "    # Check included_and condition\n",
    "    if included_and:\n",
    "        if not all(keyword in cell_lower for keyword in included_and):\n",
    "            return False\n",
    "    \n",
    "    # Check included_or condition\n",
    "    if included_or:\n",
    "        if not any(keyword in cell_lower for keyword in included_or):\n",
    "            return False\n",
    "    \n",
    "    # Check excluded_and condition\n",
    "    if excluded_and:\n",
    "        if not all(keyword not in cell_lower for keyword in excluded_and):\n",
    "            return False\n",
    "    \n",
    "    # Check excluded_or condition\n",
    "    if excluded_or:\n",
    "        if any(keyword in cell_lower for keyword in excluded_or):\n",
    "            return False\n",
    "    \n",
    "    return True\n",
    "\n",
    "### Example usage\n",
    "cell = \"This board member is a past chairperson.\"\n",
    "included_and = ['board', 'member']\n",
    "included_or = ['past', 'former']\n",
    "excluded_and = None\n",
    "excluded_or = None\n",
    "generalized_contains(cell, included_and, included_or, excluded_and, excluded_or)\n",
    "\n",
    "cell = \"This board member is a past chairperson.\"\n",
    "included_and = ['board', 'member']\n",
    "included_or = None\n",
    "excluded_and = None\n",
    "excluded_or = ['past', 'former']\n",
    "generalized_contains(cell, included_and, included_or, excluded_and, excluded_or)\n",
    "\n",
    "cell = \"prospect_manager_2nd\"\n",
    "included_and = None\n",
    "included_or = ['prospect_manager', 'solicitor']\n",
    "excluded_and = None\n",
    "excluded_or = [\"2\"]\n",
    "generalized_contains(cell, included_and, included_or, excluded_and, excluded_or)"
   ]
  },
  {
   "cell_type": "code",
   "execution_count": 12,
   "id": "89470b76-f4a7-425a-afea-1a5f7f703bcf",
   "metadata": {},
   "outputs": [],
   "source": [
    "def pick_col(row, col1, col2):\n",
    "    \"\"\"\n",
    "    Return a value from either col1 or col2 of a given row based on priority rules.\n",
    "\n",
    "    Args:\n",
    "        row (pd.Series): The row (Series) from which to pick values.\n",
    "        col1 (str): The name of the first column to consider.\n",
    "        col2 (str): The name of the second column to consider.\n",
    "\n",
    "    Returns:\n",
    "        object: The value from col1 or col2 based on the priority rules:\n",
    "            - If both values are NaN, returns NaN.\n",
    "            - If only one value is NaN, returns the non-NaN value.\n",
    "            - If both values are equal and not NaN, returns that value.\n",
    "            - Otherwise, returns NaN and prints the conflicting values (for debugging).\n",
    "    \"\"\"\n",
    "    \n",
    "    x, y = row[col1], row[col2]\n",
    "    if pd.isna(x) and pd.isna(y):\n",
    "        return np.nan\n",
    "    elif pd.isna(x):\n",
    "        return y\n",
    "    elif pd.isna(y):\n",
    "        return x\n",
    "    elif x == y:\n",
    "        return x\n",
    "    else:\n",
    "        print(x, y)\n",
    "        return np.nan"
   ]
  },
  {
   "cell_type": "code",
   "execution_count": 13,
   "id": "84dff1ec-73cd-4726-87c7-5559561d632c",
   "metadata": {},
   "outputs": [],
   "source": [
    "def df_merge_source(merged_df, left_source, right_source):\n",
    "    \"\"\"\n",
    "    Rename the '_merge' column in the merged dataframe to a source indicator column,\n",
    "    and map its values to more descriptive labels based on merge sources.\n",
    "\n",
    "    Args:\n",
    "        merged_df (pd.DataFrame): The merged dataframe resulting from a merge operation.\n",
    "        left_source (str): The label for the left dataframe source.\n",
    "        right_source (str): The label for the right dataframe source.\n",
    "\n",
    "    Returns:\n",
    "        pd.DataFrame: The merged dataframe `merged_df` with the '_merge' column renamed to indicate source,\n",
    "                     and its values mapped to descriptive labels based on merge sources.\n",
    "    \"\"\"\n",
    "    # Rename the '_merge' column to 'source'\n",
    "    new_col = \"df_source\"\n",
    "    while new_col in merged_df.columns:\n",
    "        i = 1\n",
    "        new_col = \"df_source_%d\" %i\n",
    "        i += 1\n",
    "        \n",
    "    merged_df.rename(columns={'_merge': new_col}, inplace=True)\n",
    "    \n",
    "    # Map the source column to more descriptive labels\n",
    "    source_mapping = {\n",
    "        'left_only': '%s' %left_source,\n",
    "        'right_only': '%s' %right_source,\n",
    "        'both': '%s/%s'%(left_source, right_source)\n",
    "    }\n",
    "    merged_df[new_col] = merged_df[new_col].replace(source_mapping)\n",
    "    return merged_df"
   ]
  },
  {
   "cell_type": "code",
   "execution_count": 14,
   "id": "19b0c164-9d20-4436-a6c5-a0b5160d2d87",
   "metadata": {},
   "outputs": [],
   "source": [
    "def remove_dollar_sign_and_comma(cell):\n",
    "    \"\"\"\n",
    "    Remove dollar signs ('$') and commas (',') from a given string representation of a number.\n",
    "\n",
    "    Args:\n",
    "        cell (str or any): The string or value from which to remove dollar signs and commas.\n",
    "\n",
    "    Returns:\n",
    "        str or any: The modified string with dollar signs and commas removed, or the original value if not a string.\n",
    "    \"\"\"\n",
    "    if isinstance(cell, str):\n",
    "        cell = cell.replace(\"$\", \"\").replace(\",\", \"\")\n",
    "    return cell"
   ]
  },
  {
   "cell_type": "code",
   "execution_count": 15,
   "id": "d01776be-9b51-4469-93d8-7a67e55a46ea",
   "metadata": {},
   "outputs": [],
   "source": [
    "def profile_report(df_cd, client_name, file_name_suffix=\"constituents\"):\n",
    "    profile = ProfileReport(\n",
    "        df_cd, \\\n",
    "            title=\"Profiling Synthetic Data\", \\\n",
    "            html={\"style\": {\"full_width\": True}}, \n",
    "    )\n",
    "    profile.to_file(\"%s_%s_data_report.html\" %(client_name, file_name_suffix))"
   ]
  },
  {
   "cell_type": "code",
   "execution_count": 16,
   "id": "8773a96e-7870-493b-883f-5bfb65ccffa7",
   "metadata": {},
   "outputs": [],
   "source": [
    "def save_file(df, file_prefix, version):\n",
    "    \"\"\"\n",
    "    Save a DataFrame to a CSV file with a specified file name format and path.\n",
    "\n",
    "    Args:\n",
    "        df (pd.DataFrame): The DataFrame to save.\n",
    "        file_prefix (str, optional): The prefix for the CSV file name. Default is \"constituents_cleaned\".\n",
    "        version (str, optional): The version identifier for the CSV file name. Default is \"v1\".\n",
    "\n",
    "    Returns:\n",
    "        None\n",
    "    \"\"\"\n",
    "    if \"constituent_id\" in df.columns:\n",
    "        df = df.dropna(subset=\"constituent_id\")\n",
    "    file_name = \"%s_%s.csv\" %(file_prefix, version)\n",
    "    df.to_csv(\"%s/%s/ccs_data_preprocessing/%s\" %(file_path, client_name, file_name), index=False)"
   ]
  },
  {
   "cell_type": "markdown",
   "id": "7d0386d0-987b-45c8-9e0d-d0436137a169",
   "metadata": {},
   "source": [
    "# **Variables**"
   ]
  },
  {
   "cell_type": "code",
   "execution_count": 18,
   "id": "165afe66-ceab-4da1-bcd0-62f08c874845",
   "metadata": {},
   "outputs": [],
   "source": [
    "#file_path = \"./\"\n",
    "client_name = \"synthetic_data\""
   ]
  },
  {
   "cell_type": "code",
   "execution_count": 19,
   "id": "8759f23f-3641-4c65-be5c-98bfbe7d5f08",
   "metadata": {},
   "outputs": [],
   "source": [
    "save_constit_before_mapping = \"constituents_before_mapping\"\n",
    "save_constit_after_mapping = \"constituents_preprocessed\""
   ]
  },
  {
   "cell_type": "code",
   "execution_count": 20,
   "id": "86d23b77-46ca-4bac-b4cb-7c392d980dd5",
   "metadata": {},
   "outputs": [],
   "source": [
    "mapper = \"data_mapping_synthetic.csv\""
   ]
  },
  {
   "cell_type": "markdown",
   "id": "7df2d759-e7b1-47fb-bef2-a198400ad5b0",
   "metadata": {},
   "source": [
    "# **Constituents Data**"
   ]
  },
  {
   "cell_type": "code",
   "execution_count": 26,
   "id": "15590791-e596-4fd8-9da7-add00a189632",
   "metadata": {},
   "outputs": [],
   "source": [
    "# file_path = \"./\"\n",
    "# file_name = \"synthetic_constituents_data.csv\"\n",
    "\n",
    "# file = \"%s/%s\" %(file_path, file_name)\n",
    "# df_cd = pd.read_csv(file, encoding=\"ISO-8859-1\", low_memory=False, index_col=False)\n",
    "#df_cd = df_cd.drop(columns=[\"Unnamed: 0\"])\n",
    "\n",
    "df_cd = civis.io.read_civis(\"public.synthetic_constituents_data\", \"CCS\", use_pandas=True)\n",
    "df_cd = df_cd.drop(columns=[\"column_0\"])"
   ]
  },
  {
   "cell_type": "code",
   "execution_count": 28,
   "id": "aed558d6",
   "metadata": {},
   "outputs": [],
   "source": [
    "#df_cd.head()"
   ]
  },
  {
   "cell_type": "code",
   "execution_count": 29,
   "id": "36cba887",
   "metadata": {},
   "outputs": [
    {
     "data": {
      "text/plain": [
       "(248443, 53)"
      ]
     },
     "execution_count": 29,
     "metadata": {},
     "output_type": "execute_result"
    }
   ],
   "source": [
    "df_cd.shape"
   ]
  },
  {
   "cell_type": "code",
   "execution_count": 134,
   "id": "b7a4edfe",
   "metadata": {},
   "outputs": [],
   "source": [
    "save_columns = False\n",
    "\n",
    "if save_columns:\n",
    "    pd.DataFrame(df_cd.columns.to_list(), columns=[\"Column Names\"]).to_csv(\"input_constituents_columns.csv\", index=False)"
   ]
  },
  {
   "cell_type": "code",
   "execution_count": 135,
   "id": "625f315f-049f-47c0-8c6a-15eedb212c61",
   "metadata": {},
   "outputs": [],
   "source": [
    "#profile_report(df_cd, client_name)"
   ]
  },
  {
   "cell_type": "markdown",
   "id": "a03c64b0-e2ea-4a5b-86c6-95bbbbb0cb87",
   "metadata": {},
   "source": [
    "# **Formatting**"
   ]
  },
  {
   "cell_type": "markdown",
   "id": "499c70c2-850c-4d4e-a321-62cdb09249f4",
   "metadata": {},
   "source": [
    "##### **Remove dollar sign and comma**"
   ]
  },
  {
   "cell_type": "code",
   "execution_count": 30,
   "id": "93c597d4-5158-4e58-8d5a-20ff58b09ab4",
   "metadata": {},
   "outputs": [
    {
     "name": "stdout",
     "output_type": "stream",
     "text": [
      "['lifetime_giving', 'five_year_giving']\n"
     ]
    }
   ],
   "source": [
    "df_cd = df_cd.applymap(remove_dollar_sign_and_comma)\n",
    "\n",
    "giving_columns = [key for key in df_cd.columns if \"giving\" in key.lower()]\n",
    "print(giving_columns)\n",
    "for col in giving_columns:\n",
    "    df_cd[col] = pd.to_numeric(df_cd[col], errors='ignore')"
   ]
  },
  {
   "cell_type": "code",
   "execution_count": 31,
   "id": "2ebdbeb7",
   "metadata": {},
   "outputs": [
    {
     "data": {
      "text/plain": [
       "(248443, 53)"
      ]
     },
     "execution_count": 31,
     "metadata": {},
     "output_type": "execute_result"
    }
   ],
   "source": [
    "df_cd.shape"
   ]
  },
  {
   "cell_type": "markdown",
   "id": "35666546-fb0d-445d-90ff-964a976a9969",
   "metadata": {},
   "source": [
    "# **Renaming**"
   ]
  },
  {
   "cell_type": "markdown",
   "id": "0521fefb-801a-440d-ba9d-3108f1636ba1",
   "metadata": {},
   "source": [
    "# **key_indicator**"
   ]
  },
  {
   "cell_type": "markdown",
   "id": "05080322-a726-4b3a-880e-0f93fd49bfce",
   "metadata": {},
   "source": [
    "# **is_individual**"
   ]
  },
  {
   "cell_type": "markdown",
   "id": "f63cc3cb-d340-49c4-9544-5b2c6b55df84",
   "metadata": {},
   "source": [
    "# **is_deceased**"
   ]
  },
  {
   "cell_type": "code",
   "execution_count": 32,
   "id": "77a33603",
   "metadata": {},
   "outputs": [
    {
     "data": {
      "text/plain": [
       "is_deceased\n",
       "False    248443\n",
       "Name: count, dtype: int64"
      ]
     },
     "execution_count": 32,
     "metadata": {},
     "output_type": "execute_result"
    }
   ],
   "source": [
    "df_cd[\"is_deceased\"] = df_cd[\"is_deceased\"].astype(bool)\n",
    "df_cd.is_deceased.value_counts()"
   ]
  },
  {
   "cell_type": "markdown",
   "id": "c325a3be-92a3-47eb-883c-940fb7d158d4",
   "metadata": {},
   "source": [
    "# **head_of_household and household_id**"
   ]
  },
  {
   "cell_type": "markdown",
   "id": "99fd58d6-adb8-4815-b5b8-7e865b780b49",
   "metadata": {},
   "source": [
    "**Householding** logic comprises several operations\n",
    "\n",
    "1. **Function Definition (`get_max_index`)**:\n",
    "   - **Purpose**: Determines the index of the row within a group that has the maximum value in the \"Total Lifetime Giving\" column, or defaults to the first row if the column is absent or all values are zero.\n",
    "   - **Usage**: Applied later within a grouped dataframe to identify the row with the highest lifetime giving.\n",
    "\n",
    "2. **Data Preparation and Cleaning**:\n",
    "   - **Filtering Rows (`df_cdi`)**: Creates `df_cdi` by excluding rows where donors are deceased (`df_cd[\"is_deceased\"]`) and not individuals (`df_cd[\"is_individual\"]`), and sets a new column `head_of_household` to `True`.\n",
    "   - **Drop NaN Rows**: Removes rows where both \"address_1\" and \"address_2\" are NaN.\n",
    "   - **Fill NaN Values**: Fills NaN values in selected columns (\"address_1\", \"address_2\", \"home_city\", \"home_state\", \"zip\") with a placeholder value ('missing').\n",
    "   - **Filter Numeric Addresses**: Filters rows where at least one of \"address_1\" or \"address_2\" contains a numeric or Roman numeral value.\n",
    "\n",
    "3. **Grouping and Sorting**:\n",
    "   - **Group by Address Details (`grouped`)**: Groups `df_cdi` by \"address_1\", \"address_2\", \"home_city\", \"home_state\", and \"zip\".\n",
    "   - **Identify Rows with Multiple Entries (`df_cdi_multiple`)**: Filters `df_cdi` to include only rows with duplicate combinations of \"address_1\", \"address_2\", \"home_city\", \"home_state\", and \"zip\", sorting them for further operations.\n",
    "\n",
    "4. **Assignment and Merging**:\n",
    "   - **Identify Maximum Lifetime Giving (`idx_max_lifetime_giving`)**: Applies `get_max_index` function to `grouped` to find the row index with the maximum \"Total Lifetime Giving\" within each subgroup.\n",
    "   - **Set Attributes (`head_of_household`, `household_id`)**:\n",
    "     - Sets `head_of_household` to `False` for all rows in `df_cdi_multiple`.\n",
    "     - Sets `head_of_household` to `True` for rows identified in `idx_max_lifetime_giving`.\n",
    "     - Assigns a unique `household_id` to each subgroup in `df_cdi_multiple` based on its group index.\n",
    "   - **Merge Attributes Back (`df_cdi` into `df_cd`)**: Merges `head_of_household` and `household_id` back into the original `df_cd` based on \"constituent_id\".\n",
    "   - \n",
    "This process effectively categorizes donors into households (**household_id**), designates a head of household (**head_of_household**), and ensures that these attributes are correctly assigned across the entire dataframe (df_cd)."
   ]
  },
  {
   "cell_type": "code",
   "execution_count": 33,
   "id": "1b35e19c-db09-4949-ad22-200cdd9c4107",
   "metadata": {
    "slideshow": {
     "slide_type": ""
    },
    "tags": []
   },
   "outputs": [],
   "source": [
    "# Function to determine index of row with max \"Total Lifetime Giving\" or default to first row\n",
    "def get_max_index(group):\n",
    "    if \"Total Lifetime Giving\" in group.columns:\n",
    "        if group[\"Total Lifetime Giving\"].max() > 0:\n",
    "            return group[\"Total Lifetime Giving\"].idxmax()\n",
    "    # If \"Total Lifetime Giving\" column is absent or all values are zero, choose the first row\n",
    "    return group.index[0]"
   ]
  },
  {
   "cell_type": "code",
   "execution_count": 34,
   "id": "d806ee21-e6df-48ab-b1f4-df9aa1b9d637",
   "metadata": {
    "slideshow": {
     "slide_type": ""
    },
    "tags": []
   },
   "outputs": [
    {
     "name": "stdout",
     "output_type": "stream",
     "text": [
      "248443 248443\n"
     ]
    }
   ],
   "source": [
    "run = True\n",
    "\n",
    "if run:\n",
    "    # Select only individual constituents who are not deceased\n",
    "    df_cdi = df_cd[~(df_cd[\"is_deceased\"]) & (df_cd[\"is_individual\"])]\n",
    "    df_cdi[\"head_of_household\"] = True\n",
    "    print(len(df_cd), len(df_cdi))\n",
    "\n",
    "    # Drop rows where both Addr1 and Addr2 are NaN\n",
    "    df_cdi = df_cdi.dropna(subset=[\"address_1\", \"address_2\"], how='all')\n",
    "\n",
    "    # Fill NaNs with a placeholder value (e.g., 'missing')\n",
    "    df_cdi = df_cdi.fillna({'address_1': 'missing', 'address_2': 'missing', 'home_city': 'missing', 'home_state': 'missing', 'zip': 'missing'})\n",
    "\n",
    "    # Filter rows to ensure there's something numeric in at least one of Addr1 or Addr2\n",
    "    df_cdi = df_cdi[df_cdi.apply(lambda row: roman_or_numeral(row[\"address_1\"]) or roman_or_numeral(row[\"address_2\"]), axis=1)]\n",
    "\n",
    "    df_cdi_multiple = df_cdi[df_cdi.groupby([\"address_1\", \"address_2\", \"home_city\", \"home_state\", \"zip\"])\\\n",
    "                                .transform('size')>1]\\\n",
    "                                .sort_values(by=[\"address_1\", \"address_2\", \"home_city\", \"home_state\", \"zip\"])\n",
    "\n",
    "    # Create Groupby Object\n",
    "    grouped = df_cdi_multiple.groupby([\"address_1\", \"address_2\", \"home_city\", \"home_state\", \"zip\"])\n",
    "\n",
    "    # Identify index of rows with max \"Total Lifetime Giving\" or default to first row\n",
    "    idx_max_lifetime_giving = grouped.apply(get_max_index).values\n",
    "\n",
    "    # Set \"head_of_household\" to False for all entries in subgroups with multiple entries\n",
    "    df_cdi.loc[df_cdi_multiple.index, \"head_of_household\"] = False\n",
    "    df_cdi_multiple[\"head_of_household\"] = False # not necessary but\n",
    "\n",
    "    # Set \"head_of_household\" to True for the rows identified with max \"Total Lifetime Giving\"\n",
    "    df_cdi.loc[idx_max_lifetime_giving, \"head_of_household\"] = True\n",
    "    df_cdi_multiple.loc[idx_max_lifetime_giving, \"head_of_household\"] = True # not necessary but\n",
    "\n",
    "    # Assign unique household_id to each subgroup\n",
    "    df_cdi_multiple['household_id'] = df_cdi_multiple.groupby([\"address_1\", \"address_2\", \"home_city\", \"home_state\", \"zip\"])\\\n",
    "                                                .ngroup() + 1\n",
    "\n",
    "    # Merge the household_id back into the original df_cdi\n",
    "    df_cdi = df_cdi.merge(df_cdi_multiple[[\"constituent_id\", \"household_id\"]], on=\"constituent_id\", how=\"left\")\n",
    "\n",
    "    # Fill NaN values in household_id with 0 for those not in multiple entries groups\n",
    "    df_cdi[\"household_id\"] = df_cdi[\"household_id\"].fillna(0).astype(bool)\n",
    "\n",
    "    # Merge the head_of_household and household_id into df_cd\n",
    "    df_cd = df_cd.merge(df_cdi[[\"constituent_id\", \"head_of_household\", \"household_id\"]], \\\n",
    "                    on=\"constituent_id\", how=\"left\")"
   ]
  },
  {
   "cell_type": "markdown",
   "id": "ccb0ff4d-90a6-4dda-acf4-396f1a5bb466",
   "metadata": {},
   "source": [
    "# **is_assigned**"
   ]
  },
  {
   "cell_type": "markdown",
   "id": "ab4d45e8-4eb4-4794-938b-acf19e8e5f1f",
   "metadata": {},
   "source": [
    "LOGIC:\n",
    "\n",
    "is_assigned is 1 if\n",
    "\n",
    "solicitor_type = Solicitor, Prospect Manager\n",
    "<br>solicitor_name != President or Lawrence A. Selzer\n",
    "\n",
    "assigned_manager is not_null for is_assigned==1"
   ]
  },
  {
   "cell_type": "markdown",
   "id": "62390f26-7a88-40b3-a097-6b7bb05c72b3",
   "metadata": {},
   "source": [
    "1. **Get column names for solicitor types and names**:\n",
    "   - **columns_solicitor_type**: retrieve column names containing \"solicitor type\" in their lowercase versions.\n",
    "   - **columns_solicitor_name**: retrieve column names containing \"solicitor name\" in their lowercase versions.\n",
    "\n",
    "2. **Initialization and Loop**:\n",
    "   - Initializes a new column `df_cd[\"is_assigned\"]` with a default value of `False`.\n",
    "   - Loops through pairs of `columns_solicitor_type` and `columns_solicitor_name` using `zip`.\n",
    "\n",
    "3. **Conditions Application**:\n",
    "   - **is_assigned_1**: Applies conditions to `solicitor_type_col` checking for inclusion of \"solicitor\" or \"prospect manager\" and exclusion of \"2\".\n",
    "   - **is_assigned_2**: Applies conditions to `solicitor_name_col` checking for exclusion of \"president\" or \"lawrence a. selzer\".\n",
    "\n",
    "4. **Final Update (Wrong)**:\n",
    "   - Updates `df_cd[\"is_assigned\"]` based on logical OR of `is_assigned_1` and `is_assigned_2`.\n",
    "4. **Final Update (Right)**:\n",
    "   - Updates `df_cd[\"is_assigned\"]` by evaluating each row where `df_cd[\"is_assigned_1\"]` and `df_cd[\"is_assigned_2\"]` are both `True`, using a logical AND operation (`&`). The result is then combined with the existing values in `df_cd[\"is_assigned\"]` using a logical OR operation (`|`).\n",
    "\n",
    "5. **Cleanup**:\n",
    "   - Drops intermediate columns `is_assigned_1` and `is_assigned_2` from `df_cd`, handling errors with `errors='ignore'`.\n",
    "\n"
   ]
  },
  {
   "cell_type": "code",
   "execution_count": 35,
   "id": "d9a1d00f-9521-4b5d-97dc-66240f565aab",
   "metadata": {
    "slideshow": {
     "slide_type": ""
    },
    "tags": []
   },
   "outputs": [],
   "source": [
    "run = False\n",
    "\n",
    "if run:\n",
    "    # Get column names for solicitor types and names\n",
    "    columns_solicitor_type = [key for key in df_cd.columns if \"solicitor type\" in key.lower()]\n",
    "    columns_solicitor_name = [key for key in df_cd.columns if \"solicitor name\" in key.lower()]\n",
    "\n",
    "    # Initialize a column to store the final result\n",
    "    df_cd[\"is_assigned\"] = False\n",
    "\n",
    "    # Loop through each pair of columns using zip\n",
    "    for solicitor_type_col, solicitor_name_col in zip(columns_solicitor_type, columns_solicitor_name):\n",
    "        # Apply the conditions for is_assigned_1\n",
    "        included_and = None\n",
    "        included_or = [\"solicitor\", \"prospect manager\"]\n",
    "        excluded_and = None\n",
    "        excluded_or = [\"2\"]\n",
    "        \n",
    "        df_cd[\"is_assigned_1\"] = df_cd[solicitor_type_col].apply(\n",
    "            lambda cell: generalized_contains(cell, included_and, included_or, excluded_and, excluded_or)\n",
    "        )\n",
    "\n",
    "        # Apply the conditions for is_assigned_2\n",
    "        included_and = None\n",
    "        included_or = None\n",
    "        excluded_and = [\"president\", \"lawrence a. selzer\"]\n",
    "        excluded_or = None\n",
    "        \n",
    "        df_cd[\"is_assigned_2\"] = df_cd[solicitor_name_col].apply(\n",
    "            lambda cell: generalized_contains(cell, included_and, included_or, excluded_and, excluded_or)\n",
    "        )\n",
    "\n",
    "        # Update the is_assigned_new column\n",
    "        df_cd[\"is_assigned\"] = df_cd[\"is_assigned\"] | (df_cd[\"is_assigned_1\"] & df_cd[\"is_assigned_2\"])\n",
    "\n",
    "    # Drop intermediate columns\n",
    "    df_cd.drop(columns=[\"is_assigned_1\", \"is_assigned_2\"], inplace=True, errors='ignore')"
   ]
  },
  {
   "cell_type": "code",
   "execution_count": 36,
   "id": "eff7fff3",
   "metadata": {},
   "outputs": [
    {
     "data": {
      "text/plain": [
       "is_assigned\n",
       "False    248230\n",
       "True        213\n",
       "Name: count, dtype: int64"
      ]
     },
     "execution_count": 36,
     "metadata": {},
     "output_type": "execute_result"
    }
   ],
   "source": [
    "df_cd[\"is_assigned\"] = df_cd[\"assigned_manager\"].notna().astype(bool)\n",
    "df_cd[\"is_assigned\"].value_counts()"
   ]
  },
  {
   "cell_type": "markdown",
   "id": "44a61c61-6ba7-4508-ac03-e79f8ac28eaa",
   "metadata": {},
   "source": [
    "# **assigned_manager**"
   ]
  },
  {
   "cell_type": "markdown",
   "id": "965db881-fa94-4412-aad2-7944875b9bbf",
   "metadata": {},
   "source": [
    "1. **Define conditions and choices**:\n",
    "   - **conditions**: List of conditions evaluating `df_cd[\"is_assigned\"]` as `True` and checking each `Solicitor Name_X` column for non-null values while excluding \"president\" or \"lawrence a. selzer\".\n",
    "   - **choices**: Corresponding `Solicitor Name_X` columns used when conditions are met.\n",
    "\n",
    "2. **Apply np.select**:\n",
    "   - Utilizes `np.select` to populate `df_cd[\"assigned_manager\"]` based on the first matching condition, defaulting to `np.nan` if no conditions are satisfied.\n",
    "\n"
   ]
  },
  {
   "cell_type": "markdown",
   "id": "836e16a5-b7e0-451a-9c50-343bd1ccc6f1",
   "metadata": {},
   "source": [
    "# **has_solicit_codes**"
   ]
  },
  {
   "cell_type": "markdown",
   "id": "cec4d01b-9e1c-4177-b187-f787071e70b6",
   "metadata": {},
   "source": [
    "# **marital_status**"
   ]
  },
  {
   "cell_type": "markdown",
   "id": "6b22c61c-b4ea-4456-b28c-105a5898c2ca",
   "metadata": {},
   "source": [
    "# **has_spouse**\n",
    "This step creates a binary field (True of False) indicating whether or not the constituent has a living spouse. The assessment is made based on columns that contain any spouse related data."
   ]
  },
  {
   "cell_type": "code",
   "execution_count": 37,
   "id": "51db0f29-db15-4d04-99af-284a918a926f",
   "metadata": {},
   "outputs": [
    {
     "data": {
      "text/plain": [
       "has_spouse\n",
       "False    231740\n",
       "True      16703\n",
       "Name: count, dtype: int64"
      ]
     },
     "execution_count": 37,
     "metadata": {},
     "output_type": "execute_result"
    }
   ],
   "source": [
    "### has_spouse\n",
    "columns_spouse = [key for key in df_cd.columns if \"spouse\" in key.lower() and \"deceased\" not in key.lower()]\n",
    "df_cd[\"has_spouse\"] =  df_cd[columns_spouse].notna().any(axis=1).astype(bool)\n",
    "#df_cd = df_cd.drop(columns=columns_spouse)\n",
    "\n",
    "### Print for illustration\n",
    "df_cd[\"has_spouse\"].value_counts()"
   ]
  },
  {
   "cell_type": "markdown",
   "id": "a4855114-6100-4008-9e16-c67418f22b14",
   "metadata": {},
   "source": [
    "# **Prefix**\n",
    "The following step converts a specified prefix column to a binary column that indicates whether any of the specified patterns (e.g., \"dr\", \"prof\") are present in the prefix values. The original prefix column is dropped after the binary column is created."
   ]
  },
  {
   "cell_type": "code",
   "execution_count": 38,
   "id": "357560b8-8f9c-4220-a8fb-e100a75db7d3",
   "metadata": {},
   "outputs": [
    {
     "data": {
      "text/plain": [
       "has_prefix_dr\n",
       "False    242721\n",
       "True       5722\n",
       "Name: count, dtype: int64"
      ]
     },
     "execution_count": 38,
     "metadata": {},
     "output_type": "execute_result"
    }
   ],
   "source": [
    "df_cd[\"prefix\"] = df_cd[\"prefix\"].astype(str)\n",
    "df_cd[\"has_prefix_dr\"] = df_cd[\"prefix\"].str.contains(r\"(dr|prof)\", case=False).astype(bool)\n",
    "df_cd = df_cd.drop(columns=[\"prefix\"])\n",
    "\n",
    "### Print for illustration\n",
    "df_cd[\"has_prefix_dr\"].value_counts()"
   ]
  },
  {
   "cell_type": "markdown",
   "id": "f272415a-3afe-4f1e-b4e1-748474a6fa5a",
   "metadata": {},
   "source": [
    "# **five_year_giving**"
   ]
  },
  {
   "cell_type": "markdown",
   "id": "28c406d4-ffd9-452b-b1cf-490697ed8e53",
   "metadata": {},
   "source": [
    "# **planned_gift_commitment**"
   ]
  },
  {
   "cell_type": "markdown",
   "id": "521d26db-83ac-49f0-94cb-3c43f907cd66",
   "metadata": {},
   "source": [
    "# **Address**"
   ]
  },
  {
   "cell_type": "code",
   "execution_count": 39,
   "id": "13a6c783",
   "metadata": {},
   "outputs": [],
   "source": [
    "#[key for key in df_cd.columns if \"seasonal\" in key.lower()]\n",
    "df_cd[\"has_business_address\"] = df_cd[\"business_address\"].notna().astype(bool)\n",
    "df_cd[\"has_seasonal_address\"] = df_cd[\"seasonal_address\"].notna().astype(bool)\n"
   ]
  },
  {
   "cell_type": "code",
   "execution_count": 40,
   "id": "c59d55dc",
   "metadata": {},
   "outputs": [
    {
     "data": {
      "text/plain": [
       "has_screenable_address\n",
       "False    174953\n",
       "True      73490\n",
       "Name: count, dtype: int64"
      ]
     },
     "execution_count": 40,
     "metadata": {},
     "output_type": "execute_result"
    }
   ],
   "source": [
    "df_cd[\"has_screenable_address\"] = df_cd[[\"address_1\", \"home_city\", \"home_state\", \"zip\"]].isna().any(axis=1).astype(bool)\n",
    "df_cd[\"has_screenable_address\"].value_counts()"
   ]
  },
  {
   "cell_type": "markdown",
   "id": "8f505045-adcd-4d57-a640-465d976b0a0e",
   "metadata": {},
   "source": [
    "# **Phone**"
   ]
  },
  {
   "cell_type": "markdown",
   "id": "6a856250-bf27-4feb-9295-6aac5ddb357f",
   "metadata": {},
   "source": [
    "# **Email**"
   ]
  },
  {
   "cell_type": "markdown",
   "id": "6ad706c9",
   "metadata": {},
   "source": [
    "# **Age**"
   ]
  },
  {
   "cell_type": "markdown",
   "id": "63b9ab11",
   "metadata": {},
   "source": [
    "# **DOB**"
   ]
  },
  {
   "cell_type": "markdown",
   "id": "5c8c6a4c-de62-4ee1-accc-c842a5f17188",
   "metadata": {},
   "source": [
    "# **number_of_events_attended**"
   ]
  },
  {
   "cell_type": "markdown",
   "id": "cec76ef6-3ec6-45bf-a688-739ddd745be5",
   "metadata": {},
   "source": [
    "# **total_notes**"
   ]
  },
  {
   "cell_type": "markdown",
   "id": "fc644c87-ce88-49c2-b38a-159d1579ee80",
   "metadata": {},
   "source": [
    "# **Loyalty**"
   ]
  },
  {
   "cell_type": "code",
   "execution_count": 41,
   "id": "90e55a2e",
   "metadata": {},
   "outputs": [],
   "source": [
    "#df_cd[\"major_donor_model_score\"]=random.randint(100, size=(len(df_cd)))\n",
    "#df_cd[\"loyalty_model_score\"]=random.randint(100, size=(len(df_cd)))\n",
    "\n",
    "df_cd[\"loyalty\"]    = 0\n",
    "df_cd[\"major_donor_model_score\"] = 0\n",
    "df_cd[\"loyalty_model_score\"]    = 0\n",
    "\n",
    "df_cd[\"n_years_giving_of_ten\"] = np.nan"
   ]
  },
  {
   "cell_type": "markdown",
   "id": "4e7d340b-94b6-4539-9936-1b1c29006f47",
   "metadata": {},
   "source": [
    "# **Mapper**"
   ]
  },
  {
   "cell_type": "code",
   "execution_count": 42,
   "id": "f1a8a934",
   "metadata": {},
   "outputs": [],
   "source": [
    "save_columns = False\n",
    "\n",
    "if save_columns:\n",
    "    pd.DataFrame(df_cd.columns.to_list(), columns=[\"Column Names\"]).to_csv(\"input_constituents_columns.csv\", index=False)"
   ]
  },
  {
   "cell_type": "code",
   "execution_count": 43,
   "id": "aa8ecf29-d040-4943-ad78-f2f207d3a392",
   "metadata": {},
   "outputs": [],
   "source": [
    "mapping = pd.read_csv(\"%s\" %mapper)\n",
    "column_mapping = {row[\"file_columns\"]: row[\"expected_columns\"] \\\n",
    "                  for index, row in mapping.iterrows() if row[\"file_columns\"]!=\"not_found\"}\n",
    "df_final = df_cd.rename(columns=column_mapping)\n",
    "df_final = df_final[list(column_mapping.values())]\n",
    "\n",
    "# Check duplicate columns\n",
    "duplicate_columns = df_final.columns[df_final.columns.duplicated()]\n",
    "if len(duplicate_columns)>0:\n",
    "    print(\"Duplicate columns found: \", duplicate_columns)\n",
    "    df_final = df_final.loc[:,~df_final.columns.duplicated()]"
   ]
  },
  {
   "cell_type": "code",
   "execution_count": 44,
   "id": "228f01e0",
   "metadata": {},
   "outputs": [
    {
     "data": {
      "text/plain": [
       "['constituent_type_1',\n",
       " 'spouse_id',\n",
       " 'business_address',\n",
       " 'seasonal_address',\n",
       " 'wealth_screen_data',\n",
       " 'current_trustee',\n",
       " 'history_of_volunteer',\n",
       " 'number_of_special_events_attended']"
      ]
     },
     "execution_count": 44,
     "metadata": {},
     "output_type": "execute_result"
    }
   ],
   "source": [
    "A= df_cd.columns.to_list()\n",
    "B= df_final.columns.to_list()\n",
    "intersection_out(A, B)"
   ]
  },
  {
   "cell_type": "code",
   "execution_count": 45,
   "id": "ea7d6d61",
   "metadata": {},
   "outputs": [],
   "source": [
    "#df_cd.number_of_special_events_attended.value_counts()"
   ]
  },
  {
   "cell_type": "markdown",
   "id": "7856db9c-a8bc-42e4-94f7-fab83898f8d5",
   "metadata": {},
   "source": [
    "# **Save the final preprocessed-file**"
   ]
  },
  {
   "cell_type": "code",
   "execution_count": 46,
   "id": "51ec2b19",
   "metadata": {},
   "outputs": [],
   "source": [
    "save = True\n",
    "if save:\n",
    "    df_final.to_csv(\"./synthetic_constituents_preprocessed_v1.csv\")"
   ]
  },
  {
   "cell_type": "code",
   "execution_count": 47,
   "id": "f55e2ecb",
   "metadata": {},
   "outputs": [
    {
     "name": "stdout",
     "output_type": "stream",
     "text": [
      "README.md\t\t\t    preprocessing_template.Rmd\r\n",
      "data_mapping_synthetic.csv\t    requirements.txt\r\n",
      "preprocessing_synthetic_data.html   synthetic_constituents_preprocessed_v1.csv\r\n",
      "preprocessing_synthetic_data.ipynb  variations\r\n"
     ]
    }
   ],
   "source": [
    "!ls"
   ]
  },
  {
   "cell_type": "code",
   "execution_count": 48,
   "id": "af5933eb",
   "metadata": {},
   "outputs": [],
   "source": [
    "df_dfg = civis.io.read_civis(\"public.synthetic_gifts_data\", \"CCS\", use_pandas=True)"
   ]
  },
  {
   "cell_type": "code",
   "execution_count": 50,
   "id": "420f12c9",
   "metadata": {},
   "outputs": [],
   "source": [
    "df_dfg.head()\n",
    "df_dfg = df_dfg.drop(columns=\"column_0\")"
   ]
  },
  {
   "cell_type": "code",
   "execution_count": 51,
   "id": "05637a9c",
   "metadata": {},
   "outputs": [],
   "source": [
    "save = True\n",
    "if save:\n",
    "    df_dfg.to_csv(\"./synthetic_gifts_preprocessed_v1.csv\")"
   ]
  },
  {
   "cell_type": "code",
   "execution_count": 52,
   "id": "52505f5d",
   "metadata": {},
   "outputs": [
    {
     "name": "stdout",
     "output_type": "stream",
     "text": [
      "README.md\t\t\t    requirements.txt\r\n",
      "data_mapping_synthetic.csv\t    synthetic_constituents_preprocessed_v1.csv\r\n",
      "preprocessing_synthetic_data.html   synthetic_gifts_preprocessed_v1.csv\r\n",
      "preprocessing_synthetic_data.ipynb  variations\r\n",
      "preprocessing_template.Rmd\r\n"
     ]
    }
   ],
   "source": [
    "!ls"
   ]
  },
  {
   "cell_type": "code",
   "execution_count": 56,
   "id": "0e921e77",
   "metadata": {},
   "outputs": [],
   "source": [
    "civis_fut_dfg = civis.io.dataframe_to_civis(df_dfg, \"CCS\", \\\n",
    "                                            \"public.synthetic_gifts_preprocessed_v1\", \\\n",
    "                                            existing_table_rows=\"drop\")"
   ]
  },
  {
   "cell_type": "code",
   "execution_count": 58,
   "id": "ca10aa1f",
   "metadata": {},
   "outputs": [],
   "source": [
    "civis_fut_df_cd = civis.io.dataframe_to_civis(df_cd, \"CCS\", \\\n",
    "                                              \"public.synthetic_constituents_preprocessed_v1\",\\\n",
    "                                             existing_table_rows=\"drop\")"
   ]
  },
  {
   "cell_type": "code",
   "execution_count": 57,
   "id": "49c60619",
   "metadata": {},
   "outputs": [
    {
     "data": {
      "text/plain": [
       "Response(id=660521099,\n",
       "         state='succeeded',\n",
       "         created_at='2024-08-06T17:53:37.000Z',\n",
       "         started_at='2024-08-06T17:53:38.000Z',\n",
       "         finished_at='2024-08-06T17:53:40.000Z',\n",
       "         error=None)"
      ]
     },
     "execution_count": 57,
     "metadata": {},
     "output_type": "execute_result"
    }
   ],
   "source": [
    "civis_fut_dfg.result()"
   ]
  },
  {
   "cell_type": "code",
   "execution_count": 59,
   "id": "989fa728",
   "metadata": {},
   "outputs": [
    {
     "data": {
      "text/plain": [
       "Response(id=660521282,\n",
       "         state='succeeded',\n",
       "         created_at='2024-08-06T17:54:50.000Z',\n",
       "         started_at='2024-08-06T17:54:50.000Z',\n",
       "         finished_at='2024-08-06T17:55:31.000Z',\n",
       "         error=None)"
      ]
     },
     "execution_count": 59,
     "metadata": {},
     "output_type": "execute_result"
    }
   ],
   "source": [
    "civis_fut_df_cd.result()"
   ]
  },
  {
   "cell_type": "code",
   "execution_count": 60,
   "id": "f6ba1c90",
   "metadata": {},
   "outputs": [
    {
     "name": "stdout",
     "output_type": "stream",
     "text": [
      "README.md\t\t\t    requirements.txt\r\n",
      "data_mapping_synthetic.csv\t    synthetic_constituents_preprocessed_v1.csv\r\n",
      "preprocessing_synthetic_data.html   synthetic_gifts_preprocessed_v1.csv\r\n",
      "preprocessing_synthetic_data.ipynb  variations\r\n",
      "preprocessing_template.Rmd\r\n"
     ]
    }
   ],
   "source": [
    "!ls"
   ]
  },
  {
   "cell_type": "code",
   "execution_count": null,
   "id": "5bbc3a61",
   "metadata": {},
   "outputs": [],
   "source": []
  }
 ],
 "metadata": {
  "kernelspec": {
   "display_name": "Python 3 (ipykernel)",
   "language": "python",
   "name": "python3"
  },
  "language_info": {
   "codemirror_mode": {
    "name": "ipython",
    "version": 3
   },
   "file_extension": ".py",
   "mimetype": "text/x-python",
   "name": "python",
   "nbconvert_exporter": "python",
   "pygments_lexer": "ipython3",
   "version": "3.12.4"
  }
 },
 "nbformat": 4,
 "nbformat_minor": 5
}
