{
 "cells": [
  {
   "cell_type": "code",
   "execution_count": null,
   "id": "d2744119-c7de-44c1-8f53-faf974f72eb9",
   "metadata": {
    "editable": true,
    "slideshow": {
     "slide_type": ""
    },
    "tags": []
   },
   "outputs": [],
   "source": [
    "import subprocess\n",
    "import pandas as pd\n",
    "import chardet\n",
    "import numpy as np\n",
    "import matplotlib.pyplot as plt\n",
    "import os\n",
    "import glob\n",
    "import argparse\n",
    "import hashlib\n",
    "from datetime import datetime\n",
    "from configparser import ConfigParser\n",
    "import sys\n",
    "import warnings\n",
    "import re\n",
    "warnings.filterwarnings('ignore')\n",
    "from numpy import random"
   ]
  },
  {
   "cell_type": "code",
   "execution_count": null,
   "id": "465149ac-585c-4745-9a61-9e8630c0d231",
   "metadata": {},
   "outputs": [],
   "source": [
    "pd.set_option('display.max_columns', None)\n",
    "pd.set_option('display.max_rows', 50)"
   ]
  },
  {
   "cell_type": "markdown",
   "id": "3b6e45be-868d-44f6-82d2-7c9d816e7c18",
   "metadata": {
    "editable": true,
    "slideshow": {
     "slide_type": ""
    },
    "tags": []
   },
   "source": [
    "# **Functions**"
   ]
  },
  {
   "cell_type": "code",
   "execution_count": null,
   "id": "b1d627c0-16cc-4232-b1b3-16e34483aa0f",
   "metadata": {},
   "outputs": [],
   "source": [
    "def col_eg(df, col):\n",
    "   return df[(~df[col].isna()) & (df[col]!=\"nan\")][col][1:10]"
   ]
  },
  {
   "cell_type": "code",
   "execution_count": null,
   "id": "340ad098-3102-48b7-a1b7-a9ee18fd10a1",
   "metadata": {},
   "outputs": [],
   "source": [
    "def convert_to_snake_case(col_name):\n",
    "    # Remove '__c' from the column names\n",
    "    col_name = col_name.replace('__c', '')\n",
    "    \n",
    "    # Replace periods with underscores\n",
    "    col_name = col_name.replace('.', '_')\n",
    "    \n",
    "    # Convert camel case to snake case\n",
    "    # Handle the case where a lowercase letter or digit is followed by an uppercase letter\n",
    "    col_name = re.sub(r'([a-z0-9])([A-Z])', r'\\1_\\2', col_name)\n",
    "    \n",
    "    # Convert the entire string to lowercase\n",
    "    col_name = col_name.lower()\n",
    "    \n",
    "    # Replace multiple underscores with a single underscore\n",
    "    col_name = re.sub(r'_+', '_', col_name)\n",
    "    \n",
    "    return col_name"
   ]
  },
  {
   "cell_type": "code",
   "execution_count": null,
   "id": "a1cdd80b-ddd1-4706-b5f6-0aa3a1a50dfc",
   "metadata": {
    "editable": true,
    "slideshow": {
     "slide_type": ""
    },
    "tags": []
   },
   "outputs": [],
   "source": [
    "# Define a function to convert entries to datetime\n",
    "def convert_to_datetime(entry):\n",
    "    \"\"\"\n",
    "    Convert a given entry into a datetime object using pandas' to_datetime function.\n",
    "\n",
    "    Args:\n",
    "        entry (str): The entry to convert to datetime.\n",
    "\n",
    "    Returns:\n",
    "        pd.Timestamp: Returns a pandas Timestamp object if conversion is successful.\n",
    "    \"\"\"\n",
    "    \n",
    "    try:\n",
    "        # Try to parse as a full date\n",
    "        return pd.to_datetime(entry)\n",
    "    except ValueError:\n",
    "        # Check if it's a four-digit number (likely representing a year)\n",
    "        if entry.isdigit() and len(entry) == 4:\n",
    "            return pd.to_datetime(entry, format='%Y')\n",
    "        else:\n",
    "            # If it's neither a full date nor a valid year, return NaN or handle as needed\n",
    "            return pd.NaT"
   ]
  },
  {
   "cell_type": "code",
   "execution_count": null,
   "id": "c52b239f-7e07-4450-94c9-4446a0f5f8ab",
   "metadata": {
    "editable": true,
    "slideshow": {
     "slide_type": ""
    },
    "tags": []
   },
   "outputs": [],
   "source": [
    "def is_roman_numeral(value):\n",
    "    \"\"\"\n",
    "    Check if the given value is a valid Roman numeral.\n",
    "\n",
    "    Args:\n",
    "        value (str): The value to check.\n",
    "\n",
    "    Returns:\n",
    "        bool: True if the value is a valid Roman numeral, False otherwise.\n",
    "    \"\"\"\n",
    "    \n",
    "    # Define a regular expression to match Roman numerals\n",
    "    roman_pattern = r'^M{0,3}(CM|CD|D?C{0,3})(XC|XL|L?X{0,3})(IX|IV|V?I{0,3})$'\n",
    "    \n",
    "    # Check if the value matches the Roman numeral pattern\n",
    "    return bool(re.match(roman_pattern, value))\n",
    "\n",
    "def has_digit(value):\n",
    "    return bool(re.search(r'\\d', str(value)))\n",
    "\n",
    "def roman_or_numeral(value):\n",
    "    if is_roman_numeral(value):\n",
    "        return True\n",
    "    elif has_digit(value):\n",
    "        return True\n",
    "    else:\n",
    "        return False"
   ]
  },
  {
   "cell_type": "code",
   "execution_count": null,
   "id": "1fbf6341-6dc9-4f36-b170-a9eec979327b",
   "metadata": {
    "editable": true,
    "slideshow": {
     "slide_type": ""
    },
    "tags": []
   },
   "outputs": [],
   "source": [
    "def intersection_out(lst1, lst2):\n",
    "    \"\"\"\n",
    "    Return a list containing elements from lst1 that are not present in lst2.\n",
    "    \"\"\"\n",
    "    lst3 = [value for value in lst1 if value not in lst2]\n",
    "    return lst3\n",
    "\n",
    "def intersection_in(lst1, lst2):\n",
    "    \"\"\"\n",
    "    Return a list containing elements from lst1 that are present in lst2 as well.\n",
    "    \"\"\"\n",
    "    lst3 = [value for value in lst1 if value in lst2]\n",
    "    return lst3"
   ]
  },
  {
   "cell_type": "code",
   "execution_count": null,
   "id": "4fcbb7c8-e66a-4cb7-ad7c-7f160fdcede6",
   "metadata": {
    "editable": true,
    "slideshow": {
     "slide_type": ""
    },
    "tags": []
   },
   "outputs": [],
   "source": [
    "def generalized_contains(cell, included_and=None, included_or=None, excluded_and=None, excluded_or=None):\n",
    "    \"\"\"\n",
    "    Check if a given string `cell` meets specific inclusion and exclusion criteria.\n",
    "\n",
    "    Args:\n",
    "        cell (str): The string to check.\n",
    "        included_and (list, optional): List of keywords; cell must include all of these (case insensitive).\n",
    "        included_or (list, optional): List of keywords; cell must include at least one of these (case insensitive).\n",
    "        excluded_and (list, optional): List of keywords; cell must not include any of these (case insensitive).\n",
    "        excluded_or (list, optional): List of keywords; cell must not include at least one of these (case insensitive).\n",
    "\n",
    "    Returns:\n",
    "        bool: True if `cell` meets all specified criteria, False otherwise.\n",
    "    \"\"\"\n",
    "    \n",
    "    if not isinstance(cell, str):\n",
    "        return False\n",
    "    \n",
    "    cell_lower = cell.lower()\n",
    "    \n",
    "    # Check included_and condition\n",
    "    if included_and:\n",
    "        if not all(keyword in cell_lower for keyword in included_and):\n",
    "            return False\n",
    "    \n",
    "    # Check included_or condition\n",
    "    if included_or:\n",
    "        if not any(keyword in cell_lower for keyword in included_or):\n",
    "            return False\n",
    "    \n",
    "    # Check excluded_and condition\n",
    "    if excluded_and:\n",
    "        if not all(keyword not in cell_lower for keyword in excluded_and):\n",
    "            return False\n",
    "    \n",
    "    # Check excluded_or condition\n",
    "    if excluded_or:\n",
    "        if any(keyword in cell_lower for keyword in excluded_or):\n",
    "            return False\n",
    "    \n",
    "    return True\n",
    "\n",
    "### Example usage\n",
    "cell = \"This board member is a past chairperson.\"\n",
    "included_and = ['board', 'member']\n",
    "included_or = ['past', 'former']\n",
    "excluded_and = None\n",
    "excluded_or = None\n",
    "generalized_contains(cell, included_and, included_or, excluded_and, excluded_or)\n",
    "\n",
    "cell = \"This board member is a past chairperson.\"\n",
    "included_and = ['board', 'member']\n",
    "included_or = None\n",
    "excluded_and = None\n",
    "excluded_or = ['past', 'former']\n",
    "generalized_contains(cell, included_and, included_or, excluded_and, excluded_or)\n",
    "\n",
    "cell = \"prospect_manager_2nd\"\n",
    "included_and = None\n",
    "included_or = ['prospect_manager', 'solicitor']\n",
    "excluded_and = None\n",
    "excluded_or = [\"2\"]\n",
    "generalized_contains(cell, included_and, included_or, excluded_and, excluded_or)"
   ]
  },
  {
   "cell_type": "code",
   "execution_count": null,
   "id": "89470b76-f4a7-425a-afea-1a5f7f703bcf",
   "metadata": {},
   "outputs": [],
   "source": [
    "def pick_col(row, col1, col2):\n",
    "    \"\"\"\n",
    "    Return a value from either col1 or col2 of a given row based on priority rules.\n",
    "\n",
    "    Args:\n",
    "        row (pd.Series): The row (Series) from which to pick values.\n",
    "        col1 (str): The name of the first column to consider.\n",
    "        col2 (str): The name of the second column to consider.\n",
    "\n",
    "    Returns:\n",
    "        object: The value from col1 or col2 based on the priority rules:\n",
    "            - If both values are NaN, returns NaN.\n",
    "            - If only one value is NaN, returns the non-NaN value.\n",
    "            - If both values are equal and not NaN, returns that value.\n",
    "            - Otherwise, returns NaN and prints the conflicting values (for debugging).\n",
    "    \"\"\"\n",
    "    \n",
    "    x, y = row[col1], row[col2]\n",
    "    if pd.isna(x) and pd.isna(y):\n",
    "        return np.nan\n",
    "    elif pd.isna(x):\n",
    "        return y\n",
    "    elif pd.isna(y):\n",
    "        return x\n",
    "    elif x == y:\n",
    "        return x\n",
    "    else:\n",
    "        print(x, y)\n",
    "        return np.nan"
   ]
  },
  {
   "cell_type": "code",
   "execution_count": null,
   "id": "84dff1ec-73cd-4726-87c7-5559561d632c",
   "metadata": {},
   "outputs": [],
   "source": [
    "def df_merge_source(merged_df, left_source, right_source):\n",
    "    \"\"\"\n",
    "    Rename the '_merge' column in the merged dataframe to a source indicator column,\n",
    "    and map its values to more descriptive labels based on merge sources.\n",
    "\n",
    "    Args:\n",
    "        merged_df (pd.DataFrame): The merged dataframe resulting from a merge operation.\n",
    "        left_source (str): The label for the left dataframe source.\n",
    "        right_source (str): The label for the right dataframe source.\n",
    "\n",
    "    Returns:\n",
    "        pd.DataFrame: The merged dataframe `merged_df` with the '_merge' column renamed to indicate source,\n",
    "                     and its values mapped to descriptive labels based on merge sources.\n",
    "    \"\"\"\n",
    "    # Rename the '_merge' column to 'source'\n",
    "    new_col = \"df_source\"\n",
    "    while new_col in merged_df.columns:\n",
    "        i = 1\n",
    "        new_col = \"df_source_%d\" %i\n",
    "        i += 1\n",
    "        \n",
    "    merged_df.rename(columns={'_merge': new_col}, inplace=True)\n",
    "    \n",
    "    # Map the source column to more descriptive labels\n",
    "    source_mapping = {\n",
    "        'left_only': '%s' %left_source,\n",
    "        'right_only': '%s' %right_source,\n",
    "        'both': '%s/%s'%(left_source, right_source)\n",
    "    }\n",
    "    merged_df[new_col] = merged_df[new_col].replace(source_mapping)\n",
    "    return merged_df"
   ]
  },
  {
   "cell_type": "code",
   "execution_count": null,
   "id": "19b0c164-9d20-4436-a6c5-a0b5160d2d87",
   "metadata": {},
   "outputs": [],
   "source": [
    "def remove_dollar_sign_and_comma(cell):\n",
    "    \"\"\"\n",
    "    Remove dollar signs ('$') and commas (',') from a given string representation of a number.\n",
    "\n",
    "    Args:\n",
    "        cell (str or any): The string or value from which to remove dollar signs and commas.\n",
    "\n",
    "    Returns:\n",
    "        str or any: The modified string with dollar signs and commas removed, or the original value if not a string.\n",
    "    \"\"\"\n",
    "    if isinstance(cell, str):\n",
    "        cell = cell.replace(\"$\", \"\").replace(\",\", \"\")\n",
    "    return cell"
   ]
  },
  {
   "cell_type": "code",
   "execution_count": null,
   "id": "8773a96e-7870-493b-883f-5bfb65ccffa7",
   "metadata": {},
   "outputs": [],
   "source": [
    "def save_file(df, file_prefix, version):\n",
    "    \"\"\"\n",
    "    Save a DataFrame to a CSV file with a specified file name format and path.\n",
    "\n",
    "    Args:\n",
    "        df (pd.DataFrame): The DataFrame to save.\n",
    "        file_prefix (str, optional): The prefix for the CSV file name. Default is \"constituents_cleaned\".\n",
    "        version (str, optional): The version identifier for the CSV file name. Default is \"v1\".\n",
    "\n",
    "    Returns:\n",
    "        None\n",
    "    \"\"\"\n",
    "    if \"Unique Donor ID\" in df.columns:\n",
    "        df = df.dropna(subset=\"Unique Donor ID\")\n",
    "    file_name = \"%s_%s.csv\" %(file_prefix, version)\n",
    "    df.to_csv(\"%s\\\\%s\\\\Preprocessing\\\\%s\" %(file_path, clients, file_name), index=False)"
   ]
  },
  {
   "cell_type": "markdown",
   "id": "7d0386d0-987b-45c8-9e0d-d0436137a169",
   "metadata": {},
   "source": [
    "# **Variables**"
   ]
  },
  {
   "cell_type": "code",
   "execution_count": null,
   "id": "165afe66-ceab-4da1-bcd0-62f08c874845",
   "metadata": {},
   "outputs": [],
   "source": [
    "user = \"Rmittal\"\n",
    "file_path = \"C:\\\\Users\\\\%s\\\\CCS\\\\Internal - Analytics - Shared Drive\\\\1. Shared Drive\\\\Clients\" %user\n",
    "clients = \"National Multiple Sclerosis Society\""
   ]
  },
  {
   "cell_type": "code",
   "execution_count": null,
   "id": "8759f23f-3641-4c65-be5c-98bfbe7d5f08",
   "metadata": {},
   "outputs": [],
   "source": [
    "save_constit_before_mapping = \"constituents_before_mapping\"\n",
    "save_constit_after_mapping = \"constituents_preprocessed\"\n",
    "save_gifts_after_mapping = \"gifts_preprocessed\""
   ]
  },
  {
   "cell_type": "code",
   "execution_count": null,
   "id": "86d23b77-46ca-4bac-b4cb-7c392d980dd5",
   "metadata": {},
   "outputs": [],
   "source": []
  },
  {
   "cell_type": "code",
   "execution_count": null,
   "id": "292b75a4-ce8e-48fd-af46-0058e1cf7a7b",
   "metadata": {},
   "outputs": [],
   "source": [
    "df_cd[\"number_of_special_events_attended\"] = df_cd[[\"Events\", \"Events_1\", \"Events_2\", \"Events_3\", \\\n",
    "                                                  \"Events_4\", \"Events_5\"]].notna().sum(axis=1)"
   ]
  },
  {
   "cell_type": "markdown",
   "id": "11b0becd-6451-472d-8118-82953239e916",
   "metadata": {},
   "source": [
    "# **Gifts Data**"
   ]
  },
  {
   "cell_type": "code",
   "execution_count": null,
   "id": "bf3fc0d2-6efc-4ee6-b252-a590c4d7dd38",
   "metadata": {
    "editable": true,
    "slideshow": {
     "slide_type": ""
    },
    "tags": []
   },
   "outputs": [],
   "source": [
    "file_path = \"C:\\\\Users\\\\Rmittal\\\\CCS\\\\Internal - Analytics - Shared Drive\\\\1. Shared Drive\\\\Clients\"\n",
    "subdir = \"Raw Client Data\" \n",
    "clients = \"The Conservation Fund\"\n",
    "file_name = \"gifts_file.csv\"\n",
    "\n",
    "file = \"%s\\\\%s\\\\%s\\\\%s\" %(file_path, clients, subdir, file_name)\n",
    "dfg = pd.read_csv(file, encoding=\"ISO-8859-1\")"
   ]
  },
  {
   "cell_type": "markdown",
   "id": "c07fbd8e-3d69-456a-a13e-4c25076ac445",
   "metadata": {},
   "source": [
    "##### **when the gift_type is \"write_off\", the amount needs to be made negative**"
   ]
  },
  {
   "cell_type": "code",
   "execution_count": null,
   "id": "610430db-0ecf-40b8-898a-d89c0ed444bf",
   "metadata": {},
   "outputs": [],
   "source": [
    "#dfg_unq.columns\n",
    "save_file(dfg_unq, save_gifts_after_mapping)"
   ]
  },
  {
   "cell_type": "markdown",
   "id": "7df2d759-e7b1-47fb-bef2-a198400ad5b0",
   "metadata": {},
   "source": [
    "# **Constituents Data**"
   ]
  },
  {
   "cell_type": "code",
   "execution_count": null,
   "id": "15590791-e596-4fd8-9da7-add00a189632",
   "metadata": {},
   "outputs": [],
   "source": [
    "file_path = \"C:\\\\Users\\\\Rmittal\\\\CCS\\\\Internal - Analytics - Shared Drive\\\\1. Shared Drive\\\\Clients\"\n",
    "subdir = \"Raw Client Data\" \n",
    "clients = \"The Conservation Fund\"\n",
    "file_name = \"constituents_file.csv\"\n",
    "\n",
    "file = \"%s\\\\%s\\\\%s\\\\%s\" %(file_path, clients, subdir, file_name)\n",
    "df_cd = pd.read_csv(file, encoding=\"ISO-8859-1\")"
   ]
  },
  {
   "cell_type": "markdown",
   "id": "a03c64b0-e2ea-4a5b-86c6-95bbbbb0cb87",
   "metadata": {},
   "source": [
    "# **Formatting**"
   ]
  },
  {
   "cell_type": "markdown",
   "id": "499c70c2-850c-4d4e-a321-62cdb09249f4",
   "metadata": {},
   "source": [
    "##### **Remove dollar sign and comma**"
   ]
  },
  {
   "cell_type": "code",
   "execution_count": null,
   "id": "93c597d4-5158-4e58-8d5a-20ff58b09ab4",
   "metadata": {},
   "outputs": [],
   "source": [
    "df_cd = df_cd.applymap(remove_dollar_sign_and_comma)\n",
    "df_cd[\"Total Lifetime Giving\"].head()\n",
    "\n",
    "givings_columns = [key for key in df_cd.columns if \"giving\" in key.lower()]\n",
    "for col in givings_columns:\n",
    "    df_cd[col] = pd.to_numeric(df_cd[col], errors='ignore')"
   ]
  },
  {
   "cell_type": "markdown",
   "id": "35666546-fb0d-445d-90ff-964a976a9969",
   "metadata": {},
   "source": [
    "# **Renaming**"
   ]
  },
  {
   "cell_type": "code",
   "execution_count": null,
   "id": "4a235722-7666-4c77-8448-7d3517fd2698",
   "metadata": {},
   "outputs": [],
   "source": [
    "df_cd = df_cd.rename(columns={\"Key Indicator\": \"key_indicator\", \"Address Type\": \"preferred_address_type\"})"
   ]
  },
  {
   "cell_type": "markdown",
   "id": "0521fefb-801a-440d-ba9d-3108f1636ba1",
   "metadata": {},
   "source": [
    "# **key_indicator**"
   ]
  },
  {
   "cell_type": "markdown",
   "id": "05080322-a726-4b3a-880e-0f93fd49bfce",
   "metadata": {},
   "source": [
    "# **is_individual**"
   ]
  },
  {
   "cell_type": "code",
   "execution_count": null,
   "id": "267cbc16-56eb-427b-9daa-5c48e792f8b5",
   "metadata": {},
   "outputs": [],
   "source": [
    "df_cd[\"is_individual\"] = np.where(df_cd[\"key_indicator\"]==\"I\", True, False)"
   ]
  },
  {
   "cell_type": "markdown",
   "id": "f63cc3cb-d340-49c4-9544-5b2c6b55df84",
   "metadata": {},
   "source": [
    "# **is_deceased**"
   ]
  },
  {
   "cell_type": "code",
   "execution_count": null,
   "id": "1b4abe17-2988-40a8-9168-32b16bb82c3b",
   "metadata": {},
   "outputs": [],
   "source": [
    "df_cd[\"is_deceased\"] = np.where(df_cd[\"Deceased\"]==\"Yes\", True, False)"
   ]
  },
  {
   "cell_type": "code",
   "execution_count": null,
   "id": "c2c96740-eb85-4de2-9504-49dcd59a7d30",
   "metadata": {},
   "outputs": [],
   "source": [
    "# Select columns that contain \"constituent\" in their names\n",
    "columns_constituent = [key for key in df_cd.columns if \"constituent\" in key.lower()]\n",
    "\n",
    "included_and = ['board', 'member']\n",
    "included_or = None\n",
    "excluded_and = ['past', 'former']\n",
    "excluded_or = None\n",
    "\n",
    "# Apply generalized_contains to the DataFrame\n",
    "df_cd[\"current_trustee_indicator\"] = df_cd[columns_constituent].applymap(\n",
    "    lambda cell: generalized_contains(cell, included_and, included_or, excluded_and, excluded_or)\n",
    ").any(axis=1)\n",
    "\n",
    "included_and = ['board', 'member']\n",
    "included_or = ['past', 'former']\n",
    "excluded_and = None\n",
    "excluded_or = None\n",
    "\n",
    "# Apply generalized_contains to the DataFrame\n",
    "df_cd[\"past_trustee_indicator\"] = df_cd[columns_constituent].applymap(\n",
    "    lambda cell: generalized_contains(cell, included_and, included_or, excluded_and, excluded_or)\n",
    ").any(axis=1)"
   ]
  },
  {
   "cell_type": "markdown",
   "id": "c325a3be-92a3-47eb-883c-940fb7d158d4",
   "metadata": {},
   "source": [
    "# **head_of_household and household_id**"
   ]
  },
  {
   "cell_type": "markdown",
   "id": "99fd58d6-adb8-4815-b5b8-7e865b780b49",
   "metadata": {},
   "source": [
    "**Householding** logic comprises several operations\n",
    "\n",
    "1. **Function Definition (`get_max_index`)**:\n",
    "   - **Purpose**: Determines the index of the row within a group that has the maximum value in the \"Total Lifetime Giving\" column, or defaults to the first row if the column is absent or all values are zero.\n",
    "   - **Usage**: Applied later within a grouped dataframe to identify the row with the highest lifetime giving.\n",
    "\n",
    "2. **Data Preparation and Cleaning**:\n",
    "   - **Filtering Rows (`df_cdi`)**: Creates `df_cdi` by excluding rows where donors are deceased (`df_cd[\"is_deceased\"]`) and not individuals (`df_cd[\"is_individual\"]`), and sets a new column `head_of_household` to `True`.\n",
    "   - **Drop NaN Rows**: Removes rows where both \"Address 1\" and \"Address 2\" are NaN.\n",
    "   - **Fill NaN Values**: Fills NaN values in selected columns (\"Address 1\", \"Address 2\", \"City\", \"State\", \"Zip\") with a placeholder value ('missing').\n",
    "   - **Filter Numeric Addresses**: Filters rows where at least one of \"Address 1\" or \"Address 2\" contains a numeric or Roman numeral value.\n",
    "\n",
    "3. **Grouping and Sorting**:\n",
    "   - **Group by Address Details (`grouped`)**: Groups `df_cdi` by \"Address 1\", \"Address 2\", \"City\", \"State\", and \"Zip\".\n",
    "   - **Identify Rows with Multiple Entries (`df_cdi_multiple`)**: Filters `df_cdi` to include only rows with duplicate combinations of \"Address 1\", \"Address 2\", \"City\", \"State\", and \"Zip\", sorting them for further operations.\n",
    "\n",
    "4. **Assignment and Merging**:\n",
    "   - **Identify Maximum Lifetime Giving (`idx_max_lifetime_giving`)**: Applies `get_max_index` function to `grouped` to find the row index with the maximum \"Total Lifetime Giving\" within each subgroup.\n",
    "   - **Set Attributes (`head_of_household`, `household_id`)**:\n",
    "     - Sets `head_of_household` to `False` for all rows in `df_cdi_multiple`.\n",
    "     - Sets `head_of_household` to `True` for rows identified in `idx_max_lifetime_giving`.\n",
    "     - Assigns a unique `household_id` to each subgroup in `df_cdi_multiple` based on its group index.\n",
    "   - **Merge Attributes Back (`df_cdi` into `df_cd`)**: Merges `head_of_household` and `household_id` back into the original `df_cd` based on \"Unique Donor ID\".\n",
    "   - \n",
    "This process effectively categorizes donors into households (**household_id**), designates a head of household (**head_of_household**), and ensures that these attributes are correctly assigned across the entire dataframe (df_cd)."
   ]
  },
  {
   "cell_type": "code",
   "execution_count": null,
   "id": "1b35e19c-db09-4949-ad22-200cdd9c4107",
   "metadata": {
    "editable": true,
    "slideshow": {
     "slide_type": ""
    },
    "tags": []
   },
   "outputs": [],
   "source": [
    "# Function to determine index of row with max \"Total Lifetime Giving\" or default to first row\n",
    "def get_max_index(group):\n",
    "    if \"Total Lifetime Giving\" in group.columns:\n",
    "        if group[\"Total Lifetime Giving\"].max() > 0:\n",
    "            return group[\"Total Lifetime Giving\"].idxmax()\n",
    "    # If \"Total Lifetime Giving\" column is absent or all values are zero, choose the first row\n",
    "    return group.index[0]"
   ]
  },
  {
   "cell_type": "code",
   "execution_count": null,
   "id": "855c57aa-81d3-44d4-8a9f-553ce1a68c2e",
   "metadata": {
    "editable": true,
    "slideshow": {
     "slide_type": ""
    },
    "tags": []
   },
   "outputs": [],
   "source": [
    "df_cdi = df_cd[~(df_cd[\"is_deceased\"]) & (df_cd[\"is_individual\"])]\n",
    "df_cdi[\"head_of_household\"] = True\n",
    "len(df_cd), len(df_cdi)"
   ]
  },
  {
   "cell_type": "code",
   "execution_count": null,
   "id": "d806ee21-e6df-48ab-b1f4-df9aa1b9d637",
   "metadata": {
    "editable": true,
    "slideshow": {
     "slide_type": ""
    },
    "tags": []
   },
   "outputs": [],
   "source": [
    "# Drop rows where both Addr1 and Addr2 are NaN\n",
    "df_cdi = df_cdi.dropna(subset=[\"Address 1\", \"Address 2\"], how='all')\n",
    "\n",
    "# Fill NaNs with a placeholder value (e.g., 'missing')\n",
    "df_cdi = df_cdi.fillna({'Address 1': 'missing', 'Address 2': 'missing', 'City': 'missing', 'State': 'missing', 'Zip': 'missing'})\n",
    "\n",
    "# Filter rows to ensure there's something numeric in at least one of Addr1 or Addr2\n",
    "df_cdi = df_cdi[df_cdi.apply(lambda row: roman_or_numeral(row[\"Address 1\"]) or roman_or_numeral(row[\"Address 2\"]), axis=1)]\n",
    "\n",
    "df_cdi_multiple = df_cdi[df_cdi.groupby([\"Address 1\", \"Address 2\", \"City\", \"State\", \"Zip\"])\\\n",
    "                            .transform('size')>1]\\\n",
    "                            .sort_values(by=[\"Address 1\", \"Address 2\", \"City\", \"State\", \"Zip\"])\n",
    "\n",
    "# Create Groupby Object\n",
    "grouped = df_cdi_multiple.groupby([\"Address 1\", \"Address 2\", \"City\", \"State\", \"Zip\"])\n",
    "\n",
    "# Identify index of rows with max \"Total Lifetime Giving\" or default to first row\n",
    "idx_max_lifetime_giving = grouped.apply(get_max_index).values\n",
    "\n",
    "# Set \"head_of_household\" to False for all entries in subgroups with multiple entries\n",
    "df_cdi.loc[df_cdi_multiple.index, \"head_of_household\"] = False\n",
    "df_cdi_multiple[\"head_of_household\"] = False # not necessary but\n",
    "\n",
    "# Set \"head_of_household\" to True for the rows identified with max \"Total Lifetime Giving\"\n",
    "df_cdi.loc[idx_max_lifetime_giving, \"head_of_household\"] = True\n",
    "df_cdi_multiple.loc[idx_max_lifetime_giving, \"head_of_household\"] = True # not necessary but\n",
    "\n",
    "# Assign unique household_id to each subgroup\n",
    "df_cdi_multiple['household_id'] = df_cdi_multiple.groupby([\"Address 1\", \"Address 2\", \"City\", \"State\", \"Zip\"])\\\n",
    "                                               .ngroup() + 1\n",
    "\n",
    "# Merge the household_id back into the original df_cdi\n",
    "df_cdi = df_cdi.merge(df_cdi_multiple[[\"Unique Donor ID\", \"household_id\"]], on=\"Unique Donor ID\", how=\"left\")\n",
    "\n",
    "# Fill NaN values in household_id with 0 for those not in multiple entries groups\n",
    "df_cdi[\"household_id\"] = df_cdi[\"household_id\"].fillna(0).astype(int)\n",
    "\n",
    "# Merge the head_of_household and household_id into df_cd\n",
    "df_cd = df_cd.merge(df_cdi[[\"Unique Donor ID\", \"head_of_household\", \"household_id\"]], \\\n",
    "                  on=\"Unique Donor ID\", how=\"left\")"
   ]
  },
  {
   "cell_type": "markdown",
   "id": "ccb0ff4d-90a6-4dda-acf4-396f1a5bb466",
   "metadata": {},
   "source": [
    "# **is_assigned**"
   ]
  },
  {
   "cell_type": "markdown",
   "id": "ab4d45e8-4eb4-4794-938b-acf19e8e5f1f",
   "metadata": {},
   "source": [
    "LOGIC:\n",
    "\n",
    "is_assigned is 1 if\n",
    "\n",
    "solicitor_type = Solicitor, Prospect Manager\n",
    "<br>solicitor_name != President or Lawrence A. Selzer\n",
    "\n",
    "assigned_manager is not_null for is_assigned==1"
   ]
  },
  {
   "cell_type": "markdown",
   "id": "62390f26-7a88-40b3-a097-6b7bb05c72b3",
   "metadata": {},
   "source": [
    "1. **Get column names for solicitor types and names**:\n",
    "   - **columns_solicitor_type**: retrieve column names containing \"solicitor type\" in their lowercase versions.\n",
    "   - **columns_solicitor_name**: retrieve column names containing \"solicitor name\" in their lowercase versions.\n",
    "\n",
    "2. **Initialization and Loop**:\n",
    "   - Initializes a new column `df_cd[\"is_assigned\"]` with a default value of `False`.\n",
    "   - Loops through pairs of `columns_solicitor_type` and `columns_solicitor_name` using `zip`.\n",
    "\n",
    "3. **Conditions Application**:\n",
    "   - **is_assigned_1**: Applies conditions to `solicitor_type_col` checking for inclusion of \"solicitor\" or \"prospect manager\" and exclusion of \"2\".\n",
    "   - **is_assigned_2**: Applies conditions to `solicitor_name_col` checking for exclusion of \"president\" or \"lawrence a. selzer\".\n",
    "\n",
    "4. **Final Update (Wrong)**:\n",
    "   - Updates `df_cd[\"is_assigned\"]` based on logical OR of `is_assigned_1` and `is_assigned_2`.\n",
    "4. **Final Update (Right)**:\n",
    "   - Updates `df_cd[\"is_assigned\"]` by evaluating each row where `df_cd[\"is_assigned_1\"]` and `df_cd[\"is_assigned_2\"]` are both `True`, using a logical AND operation (`&`). The result is then combined with the existing values in `df_cd[\"is_assigned\"]` using a logical OR operation (`|`).\n",
    "\n",
    "5. **Cleanup**:\n",
    "   - Drops intermediate columns `is_assigned_1` and `is_assigned_2` from `df_cd`, handling errors with `errors='ignore'`.\n",
    "\n"
   ]
  },
  {
   "cell_type": "markdown",
   "id": "32a447ba-e5bd-4de3-bec5-5533c28c4589",
   "metadata": {},
   "source": []
  },
  {
   "cell_type": "code",
   "execution_count": null,
   "id": "d9a1d00f-9521-4b5d-97dc-66240f565aab",
   "metadata": {
    "editable": true,
    "slideshow": {
     "slide_type": ""
    },
    "tags": []
   },
   "outputs": [],
   "source": [
    "# Get column names for solicitor types and names\n",
    "columns_solicitor_type = [key for key in df_cd.columns if \"solicitor type\" in key.lower()]\n",
    "columns_solicitor_name = [key for key in df_cd.columns if \"solicitor name\" in key.lower()]\n",
    "\n",
    "# Initialize a column to store the final result\n",
    "df_cd[\"is_assigned\"] = False\n",
    "\n",
    "# Loop through each pair of columns using zip\n",
    "for solicitor_type_col, solicitor_name_col in zip(columns_solicitor_type, columns_solicitor_name):\n",
    "    # Apply the conditions for is_assigned_1\n",
    "    included_and = None\n",
    "    included_or = [\"solicitor\", \"prospect manager\"]\n",
    "    excluded_and = None\n",
    "    excluded_or = [\"2\"]\n",
    "    \n",
    "    df_cd[\"is_assigned_1\"] = df_cd[solicitor_type_col].apply(\n",
    "        lambda cell: generalized_contains(cell, included_and, included_or, excluded_and, excluded_or)\n",
    "    )\n",
    "\n",
    "    # Apply the conditions for is_assigned_2\n",
    "    included_and = None\n",
    "    included_or = None\n",
    "    excluded_and = [\"president\", \"lawrence a. selzer\"]\n",
    "    excluded_or = None\n",
    "    \n",
    "    df_cd[\"is_assigned_2\"] = df_cd[solicitor_name_col].apply(\n",
    "        lambda cell: generalized_contains(cell, included_and, included_or, excluded_and, excluded_or)\n",
    "    )\n",
    "\n",
    "    # Update the is_assigned_new column\n",
    "    df_cd[\"is_assigned\"] = df_cd[\"is_assigned\"] | (df_cd[\"is_assigned_1\"] & df_cd[\"is_assigned_2\"])\n",
    "\n",
    "# Drop intermediate columns\n",
    "df_cd.drop(columns=[\"is_assigned_1\", \"is_assigned_2\"], inplace=True, errors='ignore')"
   ]
  },
  {
   "cell_type": "markdown",
   "id": "44a61c61-6ba7-4508-ac03-e79f8ac28eaa",
   "metadata": {},
   "source": [
    "# **assigned_manager**"
   ]
  },
  {
   "cell_type": "markdown",
   "id": "965db881-fa94-4412-aad2-7944875b9bbf",
   "metadata": {},
   "source": [
    "1. **Define conditions and choices**:\n",
    "   - **conditions**: List of conditions evaluating `df_cd[\"is_assigned\"]` as `True` and checking each `Solicitor Name_X` column for non-null values while excluding \"president\" or \"lawrence a. selzer\".\n",
    "   - **choices**: Corresponding `Solicitor Name_X` columns used when conditions are met.\n",
    "\n",
    "2. **Apply np.select**:\n",
    "   - Utilizes `np.select` to populate `df_cd[\"assigned_manager\"]` based on the first matching condition, defaulting to `np.nan` if no conditions are satisfied.\n",
    "\n"
   ]
  },
  {
   "cell_type": "code",
   "execution_count": null,
   "id": "facb68b3-bcb9-41e3-9ccb-8115f80b5fb7",
   "metadata": {},
   "outputs": [],
   "source": [
    "# Define conditions\n",
    "conditions = [\n",
    "    ((df_cd[\"is_assigned\"]==True) & (df_cd[\"Solicitor Name_1\"].notna()) \\\n",
    "     & ~(df_cd[\"Solicitor Name_1\"].str.contains(\"president|lawrence a. selzer\", case=False, na=False))),\n",
    "    ((df_cd[\"is_assigned\"]==True) & (df_cd[\"Solicitor Name_2\"].notna()) \\\n",
    "     & ~(df_cd[\"Solicitor Name_2\"].str.contains(\"president|lawrence a. selzer\", case=False, na=False))),\n",
    "    ((df_cd[\"is_assigned\"]==True) & (df_cd[\"Solicitor Name_3\"].notna()) \\\n",
    "     & ~(df_cd[\"Solicitor Name_3\"].str.contains(\"president|lawrence a. selzer\", case=False, na=False))),\n",
    "    ((df_cd[\"is_assigned\"]==True) & (df_cd[\"Solicitor Name_4\"].notna()) \\\n",
    "     & ~(df_cd[\"Solicitor Name_4\"].str.contains(\"president|lawrence a. selzer\", case=False, na=False))),\n",
    "    ((df_cd[\"is_assigned\"]==True) & (df_cd[\"Solicitor Name_5\"].notna()) \\\n",
    "     & ~(df_cd[\"Solicitor Name_5\"].str.contains(\"president|lawrence a. selzer\", case=False, na=False))),\n",
    "    ((df_cd[\"is_assigned\"]==True) & (df_cd[\"Solicitor Name_6\"].notna()) \\\n",
    "     & ~(df_cd[\"Solicitor Name_6\"].str.contains(\"president|lawrence a. selzer\", case=False, na=False))),\n",
    "]\n",
    "\n",
    "# Define choices corresponding to the conditions\n",
    "choices = [\n",
    "    df_cd[\"Solicitor Name_1\"],\n",
    "    df_cd[\"Solicitor Name_2\"],\n",
    "    df_cd[\"Solicitor Name_3\"],\n",
    "    df_cd[\"Solicitor Name_4\"],\n",
    "    df_cd[\"Solicitor Name_5\"],\n",
    "    df_cd[\"Solicitor Name_6\"]\n",
    "]\n",
    "\n",
    "# Use np.select to create the 'personal_email' column\n",
    "df_cd[\"assigned_manager\"] = np.select(conditions, choices, default=np.nan)"
   ]
  },
  {
   "cell_type": "code",
   "execution_count": null,
   "id": "be6a29c1-0bee-4e4e-a8f9-8f844cb21e57",
   "metadata": {},
   "outputs": [],
   "source": [
    "#df_cd.groupby([\"assigned_manager\"]).size().sort_values()"
   ]
  },
  {
   "cell_type": "markdown",
   "id": "836e16a5-b7e0-451a-9c50-343bd1ccc6f1",
   "metadata": {},
   "source": [
    "# **solicit_codes**"
   ]
  },
  {
   "cell_type": "code",
   "execution_count": null,
   "id": "5b7bdba2-3ba1-434a-8f71-d3128461bc36",
   "metadata": {
    "editable": true,
    "slideshow": {
     "slide_type": ""
    },
    "tags": []
   },
   "outputs": [],
   "source": [
    "if \"solicit_codes\" in df_cd.columns:\n",
    "    df_cd = df_cd.drop(columns=[\"solicit_codes\"])\n",
    "columns_solicit_codes = [key for key in df_cd.columns if \"solicit\" in key.lower() and \"code\" in key.lower()]\n",
    "df_cd[\"solicit_codes\"] =  df_cd[columns_solicit_codes].notna().any(axis=1).astype(int)\n",
    "df_cd[\"solicit_codes\"].value_counts()"
   ]
  },
  {
   "cell_type": "markdown",
   "id": "cec4d01b-9e1c-4177-b187-f787071e70b6",
   "metadata": {},
   "source": [
    "# **marital_status**"
   ]
  },
  {
   "cell_type": "code",
   "execution_count": null,
   "id": "f45645e5-56af-41ae-8d22-cd595d8c8929",
   "metadata": {},
   "outputs": [],
   "source": [
    "columns_spouse = [key for key in df_cd.columns if \"spouse\" in key.lower() and \"deceased\" not in key.lower()]\n",
    "#columns_spouse\n",
    "df_cd[\"marital_status\"] = np.where(df_cd[columns_spouse].notna().any(axis=1), \"married\", np.nan)\n",
    "df_cd[\"marital_status\"] = np.where(df_cd[\"Spouse deceased\"], \"widow\", df_cd[\"marital_status\"])"
   ]
  },
  {
   "cell_type": "markdown",
   "id": "f272415a-3afe-4f1e-b4e1-748474a6fa5a",
   "metadata": {},
   "source": [
    "# **five_year_giving**"
   ]
  },
  {
   "cell_type": "code",
   "execution_count": null,
   "id": "d2dfd629-eef1-46aa-899f-e67a2e555ee4",
   "metadata": {},
   "outputs": [],
   "source": [
    "df_cd[\"five_year_giving\"] =  df_cd[\"2024 Giving Total\"] + df_cd[\"2023 Giving Total\"] + df_cd[\"2022 Giving Total\"] + df_cd[\"2021 Giving Total\"] \\\n",
    "                        + df_cd[\"2020 Giving Total\"] + df_cd[\"2019 Giving Total\"] "
   ]
  },
  {
   "cell_type": "code",
   "execution_count": null,
   "id": "0d6e6f19-1d8c-4830-9581-f649c5a64ee0",
   "metadata": {},
   "outputs": [],
   "source": [
    "#df_cd[\"major_donor_model_score\"]=random.randint(100, size=(len(df_cd)))\n",
    "#df_cd[\"loyalty_model_score\"]=random.randint(100, size=(len(df_cd)))\n",
    "\n",
    "df_cd[\"major_donor_model_score\"] = 0\n",
    "df_cd[\"loyalty_model_score\"]    = 0\n",
    "\n",
    "df_cd[\"n_years_giving_of_ten\"] = np.nan"
   ]
  },
  {
   "cell_type": "markdown",
   "id": "28c406d4-ffd9-452b-b1cf-490697ed8e53",
   "metadata": {},
   "source": [
    "# **planned_gift_commitment**"
   ]
  },
  {
   "cell_type": "code",
   "execution_count": null,
   "id": "b6558f9b-a2ab-44bb-906c-25bfa1306530",
   "metadata": {},
   "outputs": [],
   "source": [
    "#df_cd.columns.to_list()\n",
    "columns_planned = [key for key in df_cd.columns if \"planned\" in key.lower()]\n",
    "df_cd[\"planned_gift_commitment\"] = np.where(df_cd[columns_planned].notna().any(axis=1), 1, 0)"
   ]
  },
  {
   "cell_type": "markdown",
   "id": "521d26db-83ac-49f0-94cb-3c43f907cd66",
   "metadata": {},
   "source": [
    "# **Address**"
   ]
  },
  {
   "cell_type": "code",
   "execution_count": null,
   "id": "91348dee-2e2e-4e3c-8071-010f0a5b7064",
   "metadata": {},
   "outputs": [],
   "source": [
    "df_cd[\"business_address\"] = np.where(df_cd[\"preferred_address_type\"]==\"Business\", True, False)\n",
    "df_cd[\"seasonal_address\"] = np.where(df_cd[\"preferred_address_type\"]\\\n",
    "                                    .str.contains(\"summer|winter|alternate\", case=False, na=False), True, False)"
   ]
  },
  {
   "cell_type": "markdown",
   "id": "8f505045-adcd-4d57-a640-465d976b0a0e",
   "metadata": {},
   "source": [
    "# **Phone**"
   ]
  },
  {
   "cell_type": "code",
   "execution_count": null,
   "id": "d902ad9e-d6e2-4d37-aeae-e8e9ddda885f",
   "metadata": {},
   "outputs": [],
   "source": [
    "df_cd[\"home_phone\"] = np.where(df_cd[\"Phone Type\"] == \"Home\", df_cd[\"Phone Number\"], np.nan)\n",
    "\n",
    "# Updating the condition for the second pair of columns\n",
    "df_cd[\"home_phone\"] = np.where(\n",
    "    (df_cd[\"Phone Type_1\"] == \"Home\") & df_cd[\"home_phone\"].isna(), \n",
    "    df_cd[\"Phone Number_1\"], \n",
    "    df_cd[\"home_phone\"]\n",
    ")\n",
    "\n",
    "df_cd[\"cell_phone\"] = np.where(df_cd[\"Phone Type\"] == \"Cell\", df_cd[\"Phone Number\"], np.nan)\n",
    "\n",
    "# Updating the condition for the second pair of columns\n",
    "df_cd[\"cell_phone\"] = np.where(\n",
    "    (df_cd[\"Phone Type_1\"] == \"Cell\") & df_cd[\"cell_phone\"].isna(), \n",
    "    df_cd[\"Phone Number_1\"], \n",
    "    df_cd[\"cell_phone\"]\n",
    ")"
   ]
  },
  {
   "cell_type": "markdown",
   "id": "6a856250-bf27-4feb-9295-6aac5ddb357f",
   "metadata": {},
   "source": [
    "# **Email**"
   ]
  },
  {
   "cell_type": "code",
   "execution_count": null,
   "id": "de5d2906-d3bf-435c-a027-9a7f52978971",
   "metadata": {},
   "outputs": [],
   "source": [
    "# Define conditions\n",
    "conditions = [\n",
    "    df_cd[\"Email\"].notna(),\n",
    "    df_cd[\"Email_1\"].notna(),\n",
    "    df_cd[\"Email_2\"].notna(),\n",
    "    df_cd[\"Email_3\"].notna()\n",
    "]\n",
    "\n",
    "# Define choices corresponding to the conditions\n",
    "choices = [\n",
    "    df_cd[\"Email\"],\n",
    "    df_cd[\"Email_1\"],\n",
    "    df_cd[\"Email_2\"],\n",
    "    df_cd[\"Email_3\"]\n",
    "]\n",
    "\n",
    "# Use np.select to create the 'personal_email' column\n",
    "df_cd[\"personal_email\"] = np.select(conditions, choices, default=np.nan)"
   ]
  },
  {
   "cell_type": "markdown",
   "id": "5c8c6a4c-de62-4ee1-accc-c842a5f17188",
   "metadata": {},
   "source": [
    "# **number_of_events_attended**"
   ]
  },
  {
   "cell_type": "code",
   "execution_count": null,
   "id": "9c3e1967-200a-4041-b9b8-4a16411bd762",
   "metadata": {},
   "outputs": [],
   "source": [
    "df_cd[\"number_of_special_events_attended\"] = df_cd[[\"Events\", \"Events_1\", \"Events_2\", \"Events_3\", \\\n",
    "                                                  \"Events_4\", \"Events_5\"]].notna().sum(axis=1)"
   ]
  },
  {
   "cell_type": "markdown",
   "id": "cec76ef6-3ec6-45bf-a688-739ddd745be5",
   "metadata": {},
   "source": [
    "# **total_notes**"
   ]
  },
  {
   "cell_type": "code",
   "execution_count": null,
   "id": "7e49ae99-41db-49a6-885f-48807d30b673",
   "metadata": {},
   "outputs": [],
   "source": [
    "df_cd[\"Total_Notes\"]\n",
    "df_cd[\"Total_Notes\"] = df_cd[\"Total_Notes\"].fillna(0).astype(int)\n",
    "df_cd[\"Total Notes\"] = df_cd[\"Total Notes\"].fillna(0).astype(int)\n",
    "df_cd[\"total_notes\"] = df_cd[\"Total_Notes\"] + df_cd[\"Total Notes\"] "
   ]
  },
  {
   "cell_type": "markdown",
   "id": "fc644c87-ce88-49c2-b38a-159d1579ee80",
   "metadata": {},
   "source": [
    "# **Loyalty**"
   ]
  },
  {
   "cell_type": "code",
   "execution_count": null,
   "id": "f4b6ab33-64c5-4af9-94a9-8d088ad165b0",
   "metadata": {},
   "outputs": [],
   "source": [
    "columns_yearly_giving = [\"2023 Total Giving\", \"2022 Total Giving\", \"2021 Total Giving\",\\\n",
    "                         \"2020 Total Giving\", \"2019 Total Giving\", \"2018 Total Giving\",\\\n",
    "                         \"2017 Total Giving\", \"2016 Total Giving\", \"2015 Total Giving\",\\\n",
    "                         \"2014 Total Giving\"]"
   ]
  },
  {
   "cell_type": "code",
   "execution_count": null,
   "id": "4d8c056d-3a1a-4cb5-9e48-0dd6f5cc08bc",
   "metadata": {},
   "outputs": [],
   "source": [
    "# Determine the first year a gift was made\n",
    "def first_gift_year(row):\n",
    "    first_gift_year = None\n",
    "    for i, column in enumerate(columns_yearly_giving):\n",
    "        if row[column] > 0:\n",
    "            first_gift_year = int(current_year) - (i+1)\n",
    "    return first_gift_year\n",
    "\n",
    "# Calculate the number of years gifts were made\n",
    "def years_gifts_made(row):\n",
    "    return sum(row[column] > 0 for column in columns_yearly_giving)\n",
    "\n",
    "# Calculate loyalty\n",
    "def calculate_loyalty(row):\n",
    "    if row[\"first_gift_year\"] is not None:\n",
    "        return row[\"number_of_years_gifts_were_made\"] / (current_year - row[\"first_gift_year\"])\n",
    "    return 0"
   ]
  },
  {
   "cell_type": "code",
   "execution_count": null,
   "id": "9d240119-ce83-44d9-8aa0-6563d0747551",
   "metadata": {},
   "outputs": [],
   "source": [
    "# Get the current year\n",
    "current_year = datetime.now().year\n",
    "\n",
    "df_cd[\"first_gift_year\"] = df_cd.apply(first_gift_year, axis=1)\n",
    "df_cd[\"number_of_years_gifts_were_made\"] = df_cd.apply(years_gifts_made, axis=1)\n",
    "df_cd[\"loyalty\"] = df_cd.apply(calculate_loyalty, axis=1)"
   ]
  },
  {
   "cell_type": "markdown",
   "id": "8114e3bc-dc5c-4642-b92f-5a823e0bd65a",
   "metadata": {},
   "source": [
    "# **Save file before applying mapper**"
   ]
  },
  {
   "cell_type": "code",
   "execution_count": null,
   "id": "59cd8cb8-5665-4254-ba15-e664a14cba6a",
   "metadata": {},
   "outputs": [],
   "source": [
    "save_file(df_cd, save_constit_before_mapping, \"v1\")"
   ]
  },
  {
   "cell_type": "markdown",
   "id": "4e7d340b-94b6-4539-9936-1b1c29006f47",
   "metadata": {},
   "source": [
    "# **Mapper**"
   ]
  },
  {
   "cell_type": "code",
   "execution_count": null,
   "id": "aa8ecf29-d040-4943-ad78-f2f207d3a392",
   "metadata": {},
   "outputs": [],
   "source": [
    "mapping = pd.read_csv(\"./constit_mapping_tcf.csv\")\n",
    "column_mapping = {row[\"file_columns\"]: row[\"expected_columns\"] \\\n",
    "                  for index, row in mapping.iterrows() if row[\"file_columns\"]!=\"not_found\"}\n",
    "df_final = df_cd.rename(columns=column_mapping)\n",
    "df_final = df_final[list(column_mapping.values())]"
   ]
  },
  {
   "cell_type": "markdown",
   "id": "e4cab130-cf32-4a83-abfe-76079906daed",
   "metadata": {},
   "source": [
    "# **Datatypes**"
   ]
  },
  {
   "cell_type": "markdown",
   "id": "d57bbbbb-f6c3-4041-b4f4-b9cad5db8975",
   "metadata": {},
   "source": [
    "### **Age**"
   ]
  },
  {
   "cell_type": "code",
   "execution_count": null,
   "id": "66801668-855c-483d-b075-80262c3cfcce",
   "metadata": {},
   "outputs": [],
   "source": [
    "# Apply the function to the column\n",
    "df_final[\"age\"] = df_final[\"age\"].apply(convert_to_datetime)"
   ]
  },
  {
   "cell_type": "markdown",
   "id": "7856db9c-a8bc-42e4-94f7-fab83898f8d5",
   "metadata": {},
   "source": [
    "# **Save the final preprocessed-file**"
   ]
  },
  {
   "cell_type": "code",
   "execution_count": null,
   "id": "4a8e1979-affc-419f-b674-3feabb9a2f6a",
   "metadata": {
    "editable": true,
    "slideshow": {
     "slide_type": ""
    },
    "tags": []
   },
   "outputs": [],
   "source": [
    "save = False\n",
    "if save:\n",
    "    save_file(df_final, save_constit_after_mapping, \"v1\")"
   ]
  },
  {
   "cell_type": "markdown",
   "id": "010bc969-5261-4324-b028-c55921928dde",
   "metadata": {},
   "source": [
    "### **Correlation Plots with Total Lifetime Giving**"
   ]
  },
  {
   "cell_type": "code",
   "execution_count": null,
   "id": "797eaa18-34f1-4d4e-94e0-e774fa8f722e",
   "metadata": {
    "editable": true,
    "slideshow": {
     "slide_type": ""
    },
    "tags": []
   },
   "outputs": [],
   "source": [
    "# Drop rows with NaNs in these columns\n",
    "df_cleaned = df_cdi_multiple.dropna(subset=[\"Total Lifetime Giving\", \"Total Actions\"])\n",
    "plt.figure(figsize=(8,2))\n",
    "plt.scatter(np.log(df_cleaned[\"Total Lifetime Giving\"].astype(float)), \\\n",
    "            df_cleaned[\"Total Actions\"].astype(int))\n",
    "plt.xlabel(\"Total Lifetime Giving\")\n",
    "plt.ylabel(\"Total Actions\")\n",
    "plt.title(\"Scatter Plot of Total Lifetime Giving vs. Total Actions\")\n",
    "plt.show()\n",
    "\n",
    "df_cleaned = df_cdi_multiple.dropna(subset=[\"Total Lifetime Giving\", \"Pledged Planned Gift\"])\n",
    "plt.figure(figsize=(8,2))\n",
    "plt.scatter(np.log(df_cleaned[\"Total Lifetime Giving\"].astype(float)), \\\n",
    "            df_cleaned[\"Pledged Planned Gift\"].astype(float))\n",
    "plt.xlabel(\"Total Lifetime Giving\")\n",
    "plt.ylabel(\"Pledged Planned Gift\")\n",
    "plt.title(\"Scatter Plot of Total Lifetime Giving vs. Pledged Planned Gift\")\n",
    "plt.show()"
   ]
  },
  {
   "cell_type": "markdown",
   "id": "a4d5c47a-dd8c-4050-91d9-efd16bce663f",
   "metadata": {},
   "source": [
    "# **Preprocessing after mapping**"
   ]
  },
  {
   "cell_type": "code",
   "execution_count": null,
   "id": "b2a03484-e478-437a-81e5-77e43473773a",
   "metadata": {},
   "outputs": [],
   "source": [
    "df[\"class_year\"] = df[\"class_year\"].str.split(\"'\",expand=True)[1]\n",
    "df[\"class_year\"] = df[\"class_year\"].fillna(np.nan).astype('Int64')"
   ]
  },
  {
   "cell_type": "code",
   "execution_count": null,
   "id": "2f041066-17ad-41aa-a2a4-fba68f409367",
   "metadata": {},
   "outputs": [],
   "source": [
    "#df[\"class_year\"] = np.where(((df[\"class_year\"] > 50) & (~df[\"class_year\"].isna())), \"19\" + df[\"class_year\"].astype(str), \\\n",
    "#                            \"20\" + df[\"class_year\"].astype(str))\n",
    "mask = ~df[\"class_year\"].isna()\n",
    "df.loc[mask, \"class_year\"] = np.where((df.loc[mask, \"class_year\"] > 25),\n",
    "                                      \"19\" + df.loc[mask, \"class_year\"].astype(str),\n",
    "                                      \"20\" + df.loc[mask, \"class_year\"].astype(str))\n"
   ]
  },
  {
   "cell_type": "code",
   "execution_count": null,
   "id": "d463471b-60c6-4359-97e0-701b372b5b1b",
   "metadata": {},
   "outputs": [],
   "source": [
    "cols_datetime = list(df.select_dtypes(include=['datetime']).columns)\n",
    "for col in cols_datetime:\n",
    "    df[col] = pd.to_datetime(df[col]).dt.date"
   ]
  },
  {
   "cell_type": "code",
   "execution_count": null,
   "id": "d61f7b6a-f599-4b6c-b0f3-7792d97848ef",
   "metadata": {},
   "outputs": [],
   "source": []
  }
 ],
 "metadata": {
  "kernelspec": {
   "display_name": "Python 3 (ipykernel)",
   "language": "python",
   "name": "python3"
  },
  "language_info": {
   "codemirror_mode": {
    "name": "ipython",
    "version": 3
   },
   "file_extension": ".py",
   "mimetype": "text/x-python",
   "name": "python",
   "nbconvert_exporter": "python",
   "pygments_lexer": "ipython3",
   "version": "3.12.2"
  }
 },
 "nbformat": 4,
 "nbformat_minor": 5
}
