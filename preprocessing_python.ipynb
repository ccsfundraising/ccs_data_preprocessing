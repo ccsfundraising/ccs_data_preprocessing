{
 "cells": [
  {
   "cell_type": "code",
   "execution_count": 2,
   "id": "d2744119-c7de-44c1-8f53-faf974f72eb9",
   "metadata": {
    "editable": true,
    "slideshow": {
     "slide_type": ""
    },
    "tags": []
   },
   "outputs": [],
   "source": [
    "import subprocess\n",
    "import pandas as pd\n",
    "import chardet\n",
    "import numpy as np\n",
    "import matplotlib.pyplot as plt\n",
    "import os\n",
    "import glob\n",
    "import argparse\n",
    "import hashlib\n",
    "from datetime import datetime\n",
    "from configparser import ConfigParser\n",
    "import sys\n",
    "import warnings\n",
    "import re\n",
    "warnings.filterwarnings('ignore')\n",
    "from numpy import random"
   ]
  },
  {
   "cell_type": "code",
   "execution_count": 3,
   "id": "465149ac-585c-4745-9a61-9e8630c0d231",
   "metadata": {},
   "outputs": [],
   "source": [
    "pd.set_option('display.max_columns', None)\n",
    "pd.set_option('display.max_rows', 50)"
   ]
  },
  {
   "cell_type": "markdown",
   "id": "3b6e45be-868d-44f6-82d2-7c9d816e7c18",
   "metadata": {},
   "source": [
    "# **Functions**"
   ]
  },
  {
   "cell_type": "code",
   "execution_count": 4,
   "id": "c671b968-2499-4153-b711-0bd25f938ef8",
   "metadata": {},
   "outputs": [],
   "source": [
    "def convert_to_snake_case(col_name):\n",
    "    # Remove '__c' from the column names\n",
    "    col_name = col_name.replace('__c', '')\n",
    "    \n",
    "    # Replace periods with underscores\n",
    "    col_name = col_name.replace('.', '_')\n",
    "    \n",
    "    # Convert camel case to snake case\n",
    "    # Handle the case where a lowercase letter or digit is followed by an uppercase letter\n",
    "    col_name = re.sub(r'([a-z0-9])([A-Z])', r'\\1_\\2', col_name)\n",
    "    \n",
    "    # Convert the entire string to lowercase\n",
    "    col_name = col_name.lower()\n",
    "    \n",
    "    # Replace multiple underscores with a single underscore\n",
    "    col_name = re.sub(r'_+', '_', col_name)\n",
    "    \n",
    "    return col_name"
   ]
  },
  {
   "cell_type": "code",
   "execution_count": 5,
   "id": "c52b239f-7e07-4450-94c9-4446a0f5f8ab",
   "metadata": {},
   "outputs": [],
   "source": [
    "def intersection(lst1, lst2):\n",
    "    lst3 = [value for value in lst1 if value not in lst2]\n",
    "    return lst3"
   ]
  },
  {
   "cell_type": "code",
   "execution_count": 6,
   "id": "98bd4d34-e9b8-4387-9033-e4d45b4bfa06",
   "metadata": {},
   "outputs": [],
   "source": [
    "# Define the function to check the condition in cells\n",
    "def contains_board_and_member(cell):\n",
    "    if isinstance(cell, str):\n",
    "        return 'board' in cell.lower() and 'member' in cell.lower() and \\\n",
    "               ('past' not in cell.lower() and 'former' not in cell.lower())\n",
    "    return False\n",
    "\n",
    "def contains_board_and_member_past(cell):\n",
    "    if isinstance(cell, str):\n",
    "        return 'board' in cell.lower() and 'member' in cell.lower() and \\\n",
    "               ('past' in cell.lower() or 'former' in cell.lower())\n",
    "    return False\n",
    "\n",
    "def contains_solicitor_and_president(cell):\n",
    "    if isinstance(cell, str):\n",
    "        return 'solicitor' in cell.lower() and 'president' in cell.lower() \n",
    "    return False"
   ]
  },
  {
   "cell_type": "code",
   "execution_count": 7,
   "id": "89470b76-f4a7-425a-afea-1a5f7f703bcf",
   "metadata": {},
   "outputs": [],
   "source": [
    "def pick_col(row, col1, col2):\n",
    "    x, y = row[col1], row[col2]\n",
    "    if pd.isna(x) and pd.isna(y):\n",
    "        return np.nan\n",
    "    elif pd.isna(x):\n",
    "        return y\n",
    "    elif pd.isna(y):\n",
    "        return x\n",
    "    elif x == y:\n",
    "        return x\n",
    "    else:\n",
    "        print(x, y)\n",
    "        return np.nan"
   ]
  },
  {
   "cell_type": "code",
   "execution_count": 8,
   "id": "84dff1ec-73cd-4726-87c7-5559561d632c",
   "metadata": {},
   "outputs": [],
   "source": [
    "def df_merge_source(merged_df, left_source, right_source):\n",
    "    # Rename the '_merge' column to 'source'\n",
    "    new_col = \"df_source\"\n",
    "    while new_col in merged_df.columns:\n",
    "        i = 1\n",
    "        new_col = \"df_source_%d\" %i\n",
    "        i += 1\n",
    "        \n",
    "    merged_df.rename(columns={'_merge': new_col}, inplace=True)\n",
    "    \n",
    "    # Map the source column to more descriptive labels\n",
    "    source_mapping = {\n",
    "        'left_only': '%s' %left_source,\n",
    "        'right_only': '%s' %right_source,\n",
    "        'both': '%s/%s'%(left_source, right_source)\n",
    "    }\n",
    "    merged_df[new_col] = merged_df[new_col].replace(source_mapping)\n",
    "    return merged_df"
   ]
  },
  {
   "cell_type": "code",
   "execution_count": 9,
   "id": "19b0c164-9d20-4436-a6c5-a0b5160d2d87",
   "metadata": {},
   "outputs": [],
   "source": [
    "def remove_dollar_sign_and_comma(cell):\n",
    "    if isinstance(cell, str):\n",
    "        cell = cell.replace(\"$\", \"\").replace(\",\", \"\")\n",
    "    return cell"
   ]
  },
  {
   "cell_type": "code",
   "execution_count": 10,
   "id": "8773a96e-7870-493b-883f-5bfb65ccffa7",
   "metadata": {},
   "outputs": [],
   "source": [
    "def save_file(df, file_prefix = \"constituents_cleaned\", version=\"v1\"):\n",
    "    if \"Unique Donor ID\" in df.columns:\n",
    "        df = df.dropna(subset=\"Unique Donor ID\")\n",
    "    file_name = \"%s_%s.csv\" %(file_prefix, version)\n",
    "    df.to_csv(\"%s\\\\%s\\\\%s\\\\Cleaning\\\\%s\" %(file_path, clients, subdir, file_name), index=False)"
   ]
  },
  {
   "cell_type": "markdown",
   "id": "11b0becd-6451-472d-8118-82953239e916",
   "metadata": {},
   "source": [
    "# **Gifts Data**"
   ]
  },
  {
   "cell_type": "code",
   "execution_count": 217,
   "id": "bf3fc0d2-6efc-4ee6-b252-a590c4d7dd38",
   "metadata": {},
   "outputs": [],
   "source": [
    "file_path = \"C:\\\\Users\\\\Rmittal\\\\CCS\\\\Internal - Analytics - Shared Drive\\\\1. Shared Drive\\\\Clients\"\n",
    "subdir = \"Raw Client Data\\\\Section 2\" \n",
    "clients = \"National Multiple Sclerosis Society\"\n",
    "file_name = \"Section 2  CCS May 2024-2024-05-22-20-12-55.csv\"\n",
    "file = \"%s\\\\%s\\\\%s\\\\%s\" %(file_path, clients, subdir, file_name)\n",
    "dfg_1 = pd.read_csv(file, encoding=\"ISO-8859-1\")\n",
    "\n",
    "dfg_1 = dfg_1[dfg_1[\"Stage\"]==\"Closed Won\"]\n",
    "dfg_1[\"source\"] = \"Section 2  CCS May 2024-2024-05-22-20-12-55.csv\"\n",
    "dfg_1[\"Close Date\"] = pd.to_datetime(dfg_1[\"Close Date\"], format=\"%m/%d/%Y\")#, errors = \"coerce\")\n",
    "\n",
    "file_name = \"Section 2  CCS May 2024 Pt. 2 GAU Ref-2024-05-30-03-00-07.csv\"\n",
    "file = \"%s\\\\%s\\\\%s\\\\%s\" %(file_path, clients, subdir, file_name)\n",
    "dfg_2 = pd.read_csv(file, encoding=\"ISO-8859-1\")\n",
    "dfg_2[\"source\"] = \"Section 2  CCS May 2024 Pt. 2 GAU Ref-2024-05-30-03-00-07.csv\"\n",
    "dfg_2 = dfg_2.drop(columns=\"Campaign\")\n",
    "\n",
    "rename_columns={\"Opportunity: Opportunity ID\": \"Opportunity ID\", \\\n",
    "               \"Opportunity: Opportunity Record Type\": \"Opportunity Record Type\"}\n",
    "\n",
    "dfg_2.rename(columns=rename_columns, inplace=True)\n",
    "\n",
    "dfg_2[\"Close Date\"] = dfg_2[\"Opportunity: Opportunity Name\"].str[-10:].values\n",
    "#dfg_2[\"Close Date\"].head()\n",
    "dfg_2[\"Close Date\"] = pd.to_datetime(dfg_2[\"Close Date\"], errors = \"coerce\")"
   ]
  },
  {
   "cell_type": "code",
   "execution_count": 218,
   "id": "9c5265db-9b87-4dbf-859d-ad6418225d79",
   "metadata": {},
   "outputs": [],
   "source": [
    "#dfg_2[dfg_2[\"Close Date\"].isna()]\n",
    "dfg_2[\"Close Date\"] = np.where((dfg_2[\"Opportunity ID\"]==\"006f400000TcYLhAAN\") & \\\n",
    "                               (dfg_2[\"GAU Allocation: ID\"]==\"a0b5G00000RlpR6QAJ\"), \\\n",
    "                               datetime(2021, 10, 1), dfg_2[\"Close Date\"])\n",
    "dfg_2[\"Close Date\"] = np.where((dfg_2[\"Opportunity ID\"]==\"0065G00000XKQIYQA5\") & \\\n",
    "                               (dfg_2[\"GAU Allocation: ID\"]==\"a0b5G00000TVtxWQAT\"), \\\n",
    "                               datetime(2021, 10, 1), dfg_2[\"Close Date\"])\n",
    "dfg_2[\"Close Date\"] = np.where((dfg_2[\"Opportunity ID\"]==\"0065G00000bXpneQAC\") & \\\n",
    "                               (dfg_2[\"GAU Allocation: ID\"]==\"a0b5G00000VMeCOQA1\"), \\\n",
    "                               datetime(2020, 9, 30), dfg_2[\"Close Date\"])\n",
    "dfg_2[\"Close Date\"] = np.where((dfg_2[\"Opportunity ID\"]==\"006f400000TqcZMAAZ\") & \\\n",
    "                               (dfg_2[\"GAU Allocation: ID\"]==\"a0bPd000000PsEvIAK\"), \\\n",
    "                               datetime(2023, 9, 30), dfg_2[\"Close Date\"])\n",
    "\n",
    "### Run this again! Ensure the entire column is in datetime format!\n",
    "dfg_2[\"Close Date\"] = pd.to_datetime(dfg_2[\"Close Date\"], errors='coerce')"
   ]
  },
  {
   "cell_type": "markdown",
   "id": "c9810b93-97e3-47a5-9636-fbe4b01840cb",
   "metadata": {},
   "source": [
    "## **Concatenate dfg_1 and dfg_2**"
   ]
  },
  {
   "cell_type": "code",
   "execution_count": 219,
   "id": "0d5afff2-3b4e-45fc-8938-709c07a0fe03",
   "metadata": {},
   "outputs": [],
   "source": [
    "dfg = pd.concat([dfg_1, dfg_2], axis=0)\n",
    "dfg[\"Close Date\"] = pd.to_datetime(dfg[\"Close Date\"], errors = \"coerce\")\n",
    "dfg[\"Amount\"] = dfg[\"Amount\"].astype(float)"
   ]
  },
  {
   "cell_type": "code",
   "execution_count": 220,
   "id": "352821e3-2e4d-4efc-9ddf-9516a84540a1",
   "metadata": {},
   "outputs": [],
   "source": [
    "dfg.rename({\"Amount\":\"gift_amount\",\\\n",
    "           \"Opportunity Record Type\": \"gift_type\",\\\n",
    "           \"Close Date\": \"gift_date\",\\\n",
    "           \"Opportunity ID\": \"gift_id\"}, inplace=True)"
   ]
  },
  {
   "cell_type": "code",
   "execution_count": 221,
   "id": "219ad7b6-4f6a-4672-ad90-dc4db8e3dcd9",
   "metadata": {},
   "outputs": [],
   "source": [
    "save_file(dfg, file_prefix = \"gifts_cleaned\", version=\"v1\")"
   ]
  },
  {
   "cell_type": "markdown",
   "id": "dc74a48b-0335-4f2c-b928-fdf7680a8329",
   "metadata": {},
   "source": [
    "## **Five Year Giving**"
   ]
  },
  {
   "cell_type": "code",
   "execution_count": 202,
   "id": "e2da2209-05e6-408a-b61b-796485c108bf",
   "metadata": {},
   "outputs": [],
   "source": [
    "dfg = dfg.rename(columns={\"Primary Contact: Contact ID\": \"constituent_id\"})\n",
    "dfg_subset = dfg[dfg[\"Close Date\"]> datetime(2019, 10, 1)]\n",
    "# Example: Drop rows with missing values in 'Amount'\n",
    "dfg_subset.dropna(subset=[\"Amount\"], inplace=True)\n",
    "dfg_fyg = dfg_subset.groupby(\"Opportunity ID\")[\"Amount\"].sum().reset_index().rename(columns={\"Amount\": \"five_year_giving\"})"
   ]
  },
  {
   "cell_type": "markdown",
   "id": "7df2d759-e7b1-47fb-bef2-a198400ad5b0",
   "metadata": {},
   "source": [
    "# **Combine Files**"
   ]
  },
  {
   "cell_type": "code",
   "execution_count": 21,
   "id": "15590791-e596-4fd8-9da7-add00a189632",
   "metadata": {},
   "outputs": [
    {
     "name": "stdout",
     "output_type": "stream",
     "text": [
      "Section 3-A.csv 1\n",
      "Section 3-B.csv 2\n",
      "Section 3-C.csv 3\n",
      "Section 3-D.csv 4\n",
      "Section 3-E.csv 5\n",
      "Section 3-F.csv 6\n",
      "Section 3-G.csv 7\n",
      "Section 3-H.csv 8\n",
      "Section 3-I.csv 9\n",
      "Section 3-J.csv 10\n",
      "Section 3-K.csv 11\n"
     ]
    }
   ],
   "source": [
    "# Define path and filename variables\n",
    "\n",
    "file_path = \"C:\\\\Users\\\\Rmittal\\\\CCS\\\\Internal - Analytics - Shared Drive\\\\1. Shared Drive\\\\Clients\"\n",
    "subdir = \"Raw Client Data\\\\Section 3\" \n",
    "clients = \"National Multiple Sclerosis Society\"\n",
    "shared_drive =  \"%s\\\\%s\\\\%s\\\\\" %(file_path, clients, subdir)\n",
    "#file_names = [\"Section 3-A.csv\"]\n",
    "\n",
    "i = 1\n",
    "for file in os.listdir(shared_drive):\n",
    "    if \"section\" in file.lower():\n",
    "        print(file, i)\n",
    "        file = \"%s\\\\%s\\\\%s\\\\%s\" %(file_path, clients, subdir, file)\n",
    "        globals()[\"df_%d\" %i] = pd.read_csv(file, encoding=\"ISO-8859-1\")\n",
    "        i += 1"
   ]
  },
  {
   "cell_type": "code",
   "execution_count": 22,
   "id": "71a0643e-205e-4041-95b0-ccec99a7dab1",
   "metadata": {
    "editable": true,
    "slideshow": {
     "slide_type": ""
    },
    "tags": []
   },
   "outputs": [
    {
     "name": "stdout",
     "output_type": "stream",
     "text": [
      "1 (1180000, 55) 1180000\n",
      "2 (830000, 55) 2010000\n",
      "3 (754000, 55) 2764000\n",
      "4 (764000, 55) 3528000\n",
      "5 (804000, 55) 4332000\n",
      "6 (1082000, 55) 5414000\n",
      "7 (710000, 55) 6124000\n",
      "8 (636000, 55) 6760000\n",
      "9 (738000, 55) 7498000\n",
      "10 (792000, 55) 8290000\n",
      "11 (748462, 55) 9038462\n"
     ]
    }
   ],
   "source": [
    "run = False\n",
    "if run:\n",
    "    df_cd =  pd.DataFrame()\n",
    "    for i in range(1, 12, 1):\n",
    "        df_cd = pd.concat([df_cd, globals()[\"df_%d\" %i]])\n",
    "        print(i, globals()[\"df_%d\" %i].shape, len(df_cd))\n",
    "        del (globals()[\"df_%d\" %i])"
   ]
  },
  {
   "cell_type": "code",
   "execution_count": 15,
   "id": "1e0f453a-80df-425f-9335-1f723a07390e",
   "metadata": {},
   "outputs": [],
   "source": [
    "run = False\n",
    "if run:\n",
    "    df_cd = pd.read_csv(\"nmss_constit.csv\")"
   ]
  },
  {
   "cell_type": "markdown",
   "id": "b2a3cd34-b3b0-4d59-a9e5-464dd06c1807",
   "metadata": {},
   "source": [
    "# **Convert the column names into snake case**"
   ]
  },
  {
   "cell_type": "code",
   "execution_count": 23,
   "id": "d00604a7-d043-445a-90bb-317c89f919ec",
   "metadata": {},
   "outputs": [],
   "source": [
    "# Apply the convert_to_snake_case function to all column names\n",
    "df_cd.columns = [convert_to_snake_case(col) for col in df_cd.columns]\n",
    "#df_cd.columns.to_list()"
   ]
  },
  {
   "cell_type": "markdown",
   "id": "32e7d975-c443-4082-ad49-f8fa35e55294",
   "metadata": {},
   "source": [
    "# **Check for overall duplicates**"
   ]
  },
  {
   "cell_type": "code",
   "execution_count": 44,
   "id": "ff83cc36-836b-4955-a726-9784c6af331a",
   "metadata": {},
   "outputs": [],
   "source": [
    "run = False\n",
    "if run:\n",
    "    print(len(df_cd))\n",
    "    df_cd.drop_duplicates(inplace=True)\n",
    "    len(df_cd)\n",
    "\n",
    "## 9038462\n",
    "## 9038462"
   ]
  },
  {
   "cell_type": "markdown",
   "id": "612f83b2-6ccb-4434-ab81-845375682a41",
   "metadata": {},
   "source": [
    "# **Renaming**"
   ]
  },
  {
   "cell_type": "code",
   "execution_count": 24,
   "id": "f4314641-e78f-4515-92ac-fed6e96c9ae5",
   "metadata": {},
   "outputs": [],
   "source": [
    "rename_columns = {\"x18_char_contact_id\": \"constituent_id\",\n",
    "\"account_name\": \"head_of_household\",\n",
    "\"account_id\": \"household_id\",\n",
    "\"account_record_type_name\": \"key_indicator\"}\n",
    "#Board_Member_Check__c', 'National_Board_Member__c' --> current_trustee_indicator, past_trustee_indicator \n",
    "#is_assigned, assigned_manager --> \"Account.Owner.Name\", \"Owner.Name\" \\\n",
    "                                  # (list of strings: \"migrations user, inactive, integration*\")\n",
    "#Board_Member_Check__c --> we're also checking the file \"persona\" (csv)\n",
    "#df_cd.columns.to_list()"
   ]
  },
  {
   "cell_type": "code",
   "execution_count": 25,
   "id": "347e5af5-312d-4dbf-9269-390ede06feeb",
   "metadata": {},
   "outputs": [],
   "source": [
    "df_cd.rename(columns=rename_columns, inplace=True)"
   ]
  },
  {
   "cell_type": "markdown",
   "id": "ad45a422-f280-4347-9e11-2c17cd45f2a9",
   "metadata": {},
   "source": [
    "# **Constituent_id**"
   ]
  },
  {
   "cell_type": "code",
   "execution_count": 84,
   "id": "a91d7177-119c-47d3-85d1-a123533ffead",
   "metadata": {},
   "outputs": [
    {
     "data": {
      "text/plain": [
       "(9038462, 9038462)"
      ]
     },
     "execution_count": 84,
     "metadata": {},
     "output_type": "execute_result"
    }
   ],
   "source": [
    "len(df_cd), df_cd[\"constituent_id\"].nunique()"
   ]
  },
  {
   "cell_type": "markdown",
   "id": "a03c64b0-e2ea-4a5b-86c6-95bbbbb0cb87",
   "metadata": {},
   "source": [
    "# **Formatting**"
   ]
  },
  {
   "cell_type": "markdown",
   "id": "499c70c2-850c-4d4e-a321-62cdb09249f4",
   "metadata": {},
   "source": [
    "##### **Remove dollar sign and comma**"
   ]
  },
  {
   "cell_type": "code",
   "execution_count": 27,
   "id": "107a5cd2-4172-4bb6-986f-5e1e3ea23891",
   "metadata": {},
   "outputs": [],
   "source": [
    "#[(key, df_cd[key][0:5]) for key in df_cd.columns if \"amount\" in key.lower()]"
   ]
  },
  {
   "cell_type": "code",
   "execution_count": 28,
   "id": "93c597d4-5158-4e58-8d5a-20ff58b09ab4",
   "metadata": {},
   "outputs": [],
   "source": [
    "run = False\n",
    "if run:\n",
    "    amount_columns = [key for key in df_cd.columns if \"amount\" in key.lower()]\n",
    "    df_cd[amount_columns] = df_cd[amount_columns].applymap(remove_dollar_sign_and_comma)\n",
    "    \n",
    "    for col in amount_columns:\n",
    "        df_cd[col] = pd.to_numeric(df_cd[col], errors='ignore')"
   ]
  },
  {
   "cell_type": "markdown",
   "id": "0521fefb-801a-440d-ba9d-3108f1636ba1",
   "metadata": {},
   "source": [
    "# **key_indicator**"
   ]
  },
  {
   "cell_type": "code",
   "execution_count": 26,
   "id": "8aeb9c0d-7e80-4d6f-a973-46395d78fb7f",
   "metadata": {},
   "outputs": [
    {
     "data": {
      "text/plain": [
       "key_indicator\n",
       "Household       9038393\n",
       "Organization         69\n",
       "Name: count, dtype: int64"
      ]
     },
     "execution_count": 26,
     "metadata": {},
     "output_type": "execute_result"
    }
   ],
   "source": [
    "df_cd[\"key_indicator\"].value_counts()"
   ]
  },
  {
   "cell_type": "markdown",
   "id": "05080322-a726-4b3a-880e-0f93fd49bfce",
   "metadata": {},
   "source": [
    "# **is_individual**"
   ]
  },
  {
   "cell_type": "code",
   "execution_count": 27,
   "id": "267cbc16-56eb-427b-9daa-5c48e792f8b5",
   "metadata": {},
   "outputs": [],
   "source": [
    "df_cd[\"is_individual\"] = np.where(df_cd[\"key_indicator\"]==\"Household\", True, False)"
   ]
  },
  {
   "cell_type": "markdown",
   "id": "f63cc3cb-d340-49c4-9544-5b2c6b55df84",
   "metadata": {},
   "source": [
    "# **is_deceased**"
   ]
  },
  {
   "cell_type": "code",
   "execution_count": 28,
   "id": "d2908e00-c128-4453-b0fa-16c2189cb7b1",
   "metadata": {},
   "outputs": [
    {
     "data": {
      "text/plain": [
       "351"
      ]
     },
     "execution_count": 28,
     "metadata": {},
     "output_type": "execute_result"
    }
   ],
   "source": [
    "len(df_cd[(df_cd[\"npsp_deceased\"]==False) & ~(df_cd[\"deceased_date\"].isna())][[\"npsp_deceased\", \"deceased_date\"]])"
   ]
  },
  {
   "cell_type": "code",
   "execution_count": 29,
   "id": "8baf3827-4619-4ddd-8b3f-35f3ae909372",
   "metadata": {},
   "outputs": [],
   "source": [
    "#[(key, df_cd[key].value_counts()) for key in df_cd.columns if \"deceased\" in key.lower()]\n",
    "df_cd[\"is_deceased\"] = np.where(((df_cd[\"npsp_deceased\"]==True) | (~df_cd[\"deceased_date\"].isna())), True, False)\n",
    "#df_cd[\"is_deceased\"] = np.where(~df_cd[\"deceased_date\"].isna(), True, False)\n",
    "#df_cd[\"deceased_date\"].isna().sum()"
   ]
  },
  {
   "cell_type": "markdown",
   "id": "3031fc60-944a-44d5-b654-ce1f3678d53a",
   "metadata": {},
   "source": [
    "# **Trustee**"
   ]
  },
  {
   "cell_type": "code",
   "execution_count": 30,
   "id": "d45334bd-b576-4758-b729-26a89e2972da",
   "metadata": {},
   "outputs": [],
   "source": [
    "#len(df_cd[(df_cd[\"board_member_check\"]!=1) & (df_cd[\"national_board_member\"]==1)])"
   ]
  },
  {
   "cell_type": "code",
   "execution_count": 31,
   "id": "d5bca560-1d52-44ab-8705-f8402ecbde89",
   "metadata": {},
   "outputs": [],
   "source": [
    "#[(key, df_cd[key].value_counts()) for key in df_cd.columns if \"board\" in key.lower()]"
   ]
  },
  {
   "cell_type": "code",
   "execution_count": 32,
   "id": "d736321d-9b72-42a2-b0b0-f60462caebde",
   "metadata": {},
   "outputs": [],
   "source": [
    "df_cd[\"current_trustee_indicator\"] = np.where((df_cd[\"board_member_check\"]==1) | (df_cd[\"national_board_member\"]==1)\\\n",
    "                                               , True, False)\n",
    "#df_cd[\"current_trustee_indicator\"].value_counts()"
   ]
  },
  {
   "cell_type": "markdown",
   "id": "57aadefe-a737-4676-8673-3fc9362aad7d",
   "metadata": {},
   "source": [
    "# **pg_indicator**"
   ]
  },
  {
   "cell_type": "code",
   "execution_count": 38,
   "id": "c659c4c6-b1d4-48c4-b439-60524fd6e47f",
   "metadata": {},
   "outputs": [],
   "source": [
    "# Define path and filename variables\n",
    "\n",
    "file_path = \"C:\\\\Users\\\\Rmittal\\\\CCS\\\\Internal - Analytics - Shared Drive\\\\1. Shared Drive\\\\Clients\"\n",
    "subdir = \"Raw Client Data\" \n",
    "clients = \"National Multiple Sclerosis Society\"\n",
    "file_name = \"Contacts with Personas.csv\"\n",
    "\n",
    "file = \"%s\\\\%s\\\\%s\\\\%s\" %(file_path, clients, subdir, file_name)\n",
    "df_pg = pd.read_csv(file, encoding=\"ISO-8859-1\")\n",
    "df_pg.rename(columns={\"18 Char Contact ID\": \"constituent_id\"}, inplace=True)"
   ]
  },
  {
   "cell_type": "code",
   "execution_count": 40,
   "id": "fba5cc54-da10-44b5-9aa9-285f2097f9b8",
   "metadata": {},
   "outputs": [
    {
     "data": {
      "text/plain": [
       "Type\n",
       "Event Participant             41360\n",
       "Team Captain                  14801\n",
       "Program Participant            5360\n",
       "Peer Connections Volunteer      817\n",
       "Board Member                    816\n",
       "Activist                        669\n",
       "MS Changemaker                  512\n",
       "MS Ambassador                   399\n",
       "Lawry Circle Donor              267\n",
       "Speaker                         205\n",
       "Volunteer                        89\n",
       "Name: count, dtype: int64"
      ]
     },
     "execution_count": 40,
     "metadata": {},
     "output_type": "execute_result"
    }
   ],
   "source": [
    "df_temp = df_pg[df_pg.groupby(\"constituent_id\").transform(\"size\")>1].sort_values(by=\"constituent_id\")\n",
    "df_temp[\"Type\"].value_counts()"
   ]
  },
  {
   "cell_type": "code",
   "execution_count": 41,
   "id": "fea7ba4e-f45c-4981-a965-4f051cb37139",
   "metadata": {},
   "outputs": [],
   "source": [
    "### Create a subset where Type=\"Lawry Circle Donor\"\n",
    "df_pg_lawry = df_pg[df_pg[\"Type\"].str.contains(\"lawry circle donor\", case=False, na=False)]\n",
    "\n",
    "### Create a pg_indicator field in df_cd\n",
    "pg_constit_id = list(df_pg_lawry[\"constituent_id\"].unique())\n",
    "df_cd[\"pg_indicator\"] = np.where(df_cd[\"constituent_id\"].isin(pg_constit_id), True, False)\n",
    "#len(pg_constit_id), df_cd[\"pg_indicator\"].value_counts()"
   ]
  },
  {
   "cell_type": "markdown",
   "id": "c325a3be-92a3-47eb-883c-940fb7d158d4",
   "metadata": {},
   "source": [
    "# **head_of_household and household_id**"
   ]
  },
  {
   "cell_type": "markdown",
   "id": "ccb0ff4d-90a6-4dda-acf4-396f1a5bb466",
   "metadata": {},
   "source": [
    "# **is_assigned**"
   ]
  },
  {
   "cell_type": "code",
   "execution_count": 42,
   "id": "38ba7b2c-8c6b-4582-9607-80ccf93891b7",
   "metadata": {},
   "outputs": [
    {
     "data": {
      "text/plain": [
       "is_assigned\n",
       "False    8948568\n",
       "True       89894\n",
       "Name: count, dtype: int64"
      ]
     },
     "execution_count": 42,
     "metadata": {},
     "output_type": "execute_result"
    }
   ],
   "source": [
    "#df_cd[\"owner_name\"].value_counts()\n",
    "exclude = [\"migration\", \"inactive\", \"integration\"]\n",
    "df_cd[\"is_assigned\"] = np.where(~df_cd[\"owner_name\"].str.contains(\"migration|inactive|integration\", case=False, na=False), \\\n",
    "                                True, False)\n",
    "df_cd[\"is_assigned\"].value_counts()"
   ]
  },
  {
   "cell_type": "code",
   "execution_count": 43,
   "id": "bb42cb01-645d-4c6f-96bc-1d6a3be84fea",
   "metadata": {},
   "outputs": [
    {
     "data": {
      "text/plain": [
       "774          Brigid Jacoby\n",
       "775    Brandi Christianson\n",
       "795       Jacqueline Helms\n",
       "982     Kathleen O'Donnell\n",
       "Name: owner_name, dtype: object"
      ]
     },
     "execution_count": 43,
     "metadata": {},
     "output_type": "execute_result"
    }
   ],
   "source": [
    "df = df_cd[0:1000]\n",
    "df[~df[\"owner_name\"].str.contains(\"migration|inactive|integration\", case=False, na=False)][\"owner_name\"]"
   ]
  },
  {
   "cell_type": "markdown",
   "id": "44a61c61-6ba7-4508-ac03-e79f8ac28eaa",
   "metadata": {},
   "source": [
    "# **assigned_manager**"
   ]
  },
  {
   "cell_type": "code",
   "execution_count": 44,
   "id": "facb68b3-bcb9-41e3-9ccb-8115f80b5fb7",
   "metadata": {},
   "outputs": [],
   "source": [
    "# Define conditions\n",
    "conditions = [\n",
    "    (df_cd[\"is_assigned\"]==True),\n",
    "]\n",
    "\n",
    "# Define choices corresponding to the conditions\n",
    "choices = [\n",
    "    df_cd[\"owner_name\"],\n",
    "]\n",
    "\n",
    "# Use np.select to create the 'personal_email' column\n",
    "df_cd[\"assigned_manager\"] = np.select(conditions, choices, default=np.nan)"
   ]
  },
  {
   "cell_type": "markdown",
   "id": "836e16a5-b7e0-451a-9c50-343bd1ccc6f1",
   "metadata": {},
   "source": [
    "# **solicit_codes**"
   ]
  },
  {
   "cell_type": "code",
   "execution_count": 45,
   "id": "7196397b-4e39-4e39-b949-0d56b8d8a691",
   "metadata": {},
   "outputs": [],
   "source": [
    " columns_solicit_codes=['postal_opt_out',\n",
    " 'do_not_call',\n",
    " 'et4ae5_has_opted_out_of_mobile',\n",
    " 'has_opted_out_of_email']\n",
    "#[(key, df_cd[key].value_counts()) for key in columns_solicit_codes]"
   ]
  },
  {
   "cell_type": "code",
   "execution_count": 46,
   "id": "5b7bdba2-3ba1-434a-8f71-d3128461bc36",
   "metadata": {},
   "outputs": [
    {
     "data": {
      "text/plain": [
       "solicit_codes\n",
       "1    5373079\n",
       "0    3665383\n",
       "Name: count, dtype: int64"
      ]
     },
     "execution_count": 46,
     "metadata": {},
     "output_type": "execute_result"
    }
   ],
   "source": [
    "df_cd[\"solicit_codes\"] = np.where(df_cd[columns_solicit_codes].any(axis=1), 1, 0)\n",
    "df_cd[\"solicit_codes\"].value_counts()"
   ]
  },
  {
   "cell_type": "markdown",
   "id": "cec4d01b-9e1c-4177-b187-f787071e70b6",
   "metadata": {},
   "source": [
    "# **marital_status**"
   ]
  },
  {
   "cell_type": "code",
   "execution_count": 47,
   "id": "07078d82-1ed8-4abc-8ca4-5b6c7f21e673",
   "metadata": {},
   "outputs": [
    {
     "data": {
      "text/plain": [
       "marital_status_original\n",
       "Married                       375504\n",
       "Single                        103043\n",
       "Divorced                       23953\n",
       "Widowed                         8889\n",
       "Separated                       5266\n",
       "Common Law Marriage             1438\n",
       "Partners/Domestic Partners      1413\n",
       "Prefer not to say                  7\n",
       "Name: count, dtype: int64"
      ]
     },
     "execution_count": 47,
     "metadata": {},
     "output_type": "execute_result"
    }
   ],
   "source": [
    "df_cd.rename(columns={\"marital_status\": \"marital_status_original\"}, inplace=True)\n",
    "df_cd[\"marital_status_original\"].value_counts()"
   ]
  },
  {
   "cell_type": "code",
   "execution_count": 48,
   "id": "f45645e5-56af-41ae-8d22-cd595d8c8929",
   "metadata": {},
   "outputs": [],
   "source": [
    "df_cd[\"marital_status\"] = np.where(df_cd[\"marital_status_original\"]==\"Married\", 1, 0)"
   ]
  },
  {
   "cell_type": "markdown",
   "id": "f272415a-3afe-4f1e-b4e1-748474a6fa5a",
   "metadata": {},
   "source": [
    "# **five_year_giving**"
   ]
  },
  {
   "cell_type": "code",
   "execution_count": 49,
   "id": "fe1ea04c-e8a2-4ac7-a3dd-3cc7feb363ee",
   "metadata": {},
   "outputs": [],
   "source": [
    "run = False\n",
    "if run:\n",
    "    df_cd = df_cd.merge(dfg_fyg, on=[\"constituent_id\"], how=\"left\")\n",
    "#df_cd[[\"\"]].head()"
   ]
  },
  {
   "cell_type": "code",
   "execution_count": 223,
   "id": "5a253d9a-5a76-45af-b57d-7fa4f17fed99",
   "metadata": {},
   "outputs": [],
   "source": [
    "df_cd[\"five_year_giving\"] = np.nan"
   ]
  },
  {
   "cell_type": "markdown",
   "id": "511df326-c870-480b-ae70-8df48eb875fb",
   "metadata": {},
   "source": [
    "# **Model Scores**"
   ]
  },
  {
   "cell_type": "code",
   "execution_count": 224,
   "id": "0d6e6f19-1d8c-4830-9581-f649c5a64ee0",
   "metadata": {},
   "outputs": [],
   "source": [
    "#df_cd[\"major_donor_model_score\"]=random.randint(100, size=(len(df_cd)))\n",
    "#df_cd[\"loyalty_model_score\"]=random.randint(100, size=(len(df_cd)))\n",
    "\n",
    "df_cd[\"major_donor_model_score\"] = 0\n",
    "df_cd[\"loyalty_model_score\"]    = 0\n",
    "\n",
    "df_cd[\"n_years_giving_of_ten\"] = np.nan"
   ]
  },
  {
   "cell_type": "markdown",
   "id": "28c406d4-ffd9-452b-b1cf-490697ed8e53",
   "metadata": {},
   "source": [
    "# **planned_gift_commitment**"
   ]
  },
  {
   "cell_type": "code",
   "execution_count": 225,
   "id": "b6558f9b-a2ab-44bb-906c-25bfa1306530",
   "metadata": {},
   "outputs": [],
   "source": [
    "#df_cd.columns.to_list()\n",
    "#columns_planned = [key for key in df_cd.columns if \"planned\" in key.lower()]\n",
    "#df_cd[\"planned_gift_commitment\"] = np.where(df_cd[columns_planned].notna().any(axis=1), 1, 0)"
   ]
  },
  {
   "cell_type": "markdown",
   "id": "03da9acc-a28e-4930-9d01-d3a0a914ae0b",
   "metadata": {},
   "source": [
    "# **Staff Indicator**"
   ]
  },
  {
   "cell_type": "code",
   "execution_count": 243,
   "id": "4a8e1979-affc-419f-b674-3feabb9a2f6a",
   "metadata": {},
   "outputs": [],
   "source": [
    "run = False\n",
    "if run:\n",
    "    save_file(df_cd, file_prefix = \"constituents_cleaned_no_staff_indicator\", version=\"v2\")"
   ]
  },
  {
   "cell_type": "code",
   "execution_count": 231,
   "id": "7a652251-c593-4565-a277-4296a92036d4",
   "metadata": {},
   "outputs": [],
   "source": [
    "# Define path and filename variables\n",
    "\n",
    "file_path = \"C:\\\\Users\\\\Rmittal\\\\CCS\\\\Internal - Analytics - Shared Drive\\\\1. Shared Drive\\\\Clients\"\n",
    "subdir = \"Raw Client Data\" \n",
    "clients = \"National Multiple Sclerosis Society\"\n",
    "file_name = \"All Staff List - for Sara Groh - 05162024.xlsx\"\n",
    "\n",
    "file = \"%s\\\\%s\\\\%s\\\\%s\" %(file_path, clients, subdir, file_name)\n",
    "df_staff = pd.read_excel(file)\n",
    "df_staff.rename(columns={\"Email - Primary Home\": \"npe01_home_email\",\\\n",
    "                        \"Email - Work\": \"npe01_alternate_email\"}, inplace=True)"
   ]
  },
  {
   "cell_type": "code",
   "execution_count": 245,
   "id": "a0c24625-a18e-42b7-9e35-490489f86832",
   "metadata": {},
   "outputs": [],
   "source": [
    "#df_staff.head()"
   ]
  },
  {
   "cell_type": "code",
   "execution_count": null,
   "id": "e4cd0f7f-cae8-4662-85fd-bf899440a806",
   "metadata": {},
   "outputs": [],
   "source": [
    "#df_cd_subset = df_cd.dropna(subset=[\"npe01_home_email\", \"npe01_alternate_email\"])[0:100000]"
   ]
  },
  {
   "cell_type": "code",
   "execution_count": 244,
   "id": "60bb2f71-8874-430d-957c-94f9cfcb7539",
   "metadata": {},
   "outputs": [],
   "source": [
    "#df_cd_subset = df_cd[(~df_cd[\"npe01_home_email\"].isna()) | (~df_cd[\"npe01_alternate_email\"].isna())][0:100000]\n",
    "df_cd= df_cd.merge(df_staff[[\"npe01_home_email\", \"npe01_alternate_email\"]],\\\n",
    "                                 on=[\"npe01_home_email\", \"npe01_alternate_email\"], how=\"left\", indicator=True)"
   ]
  },
  {
   "cell_type": "code",
   "execution_count": 246,
   "id": "5c40fdb9-c0d1-4018-9886-a370fa4ba568",
   "metadata": {},
   "outputs": [],
   "source": [
    "#df_cd_subset[df_cd_subset[\"_merge\"]==\"both\"][[\"npe01_home_email\", \"npe01_alternate_email\"]]\n",
    "df_cd[\"staff_indicator\"] = np.where(df_cd[\"_merge\"]==\"both\", 1, 0)\n",
    "#df_cd.drop(columns=\"_merge\", inplace=True)"
   ]
  },
  {
   "cell_type": "code",
   "execution_count": 249,
   "id": "0aad8a66-3ecf-4741-8481-ce4489c1c302",
   "metadata": {},
   "outputs": [
    {
     "data": {
      "text/plain": [
       "_merge\n",
       "both          6889799\n",
       "left_only     5593545\n",
       "right_only          0\n",
       "Name: count, dtype: int64"
      ]
     },
     "execution_count": 249,
     "metadata": {},
     "output_type": "execute_result"
    }
   ],
   "source": [
    "df_cd[\"_merge\"].value_counts()"
   ]
  },
  {
   "cell_type": "code",
   "execution_count": 261,
   "id": "c59189a9-6c41-4a4b-bf90-8379707149a0",
   "metadata": {},
   "outputs": [
    {
     "data": {
      "text/plain": [
       "other_street\n",
       "Not Provided               215526\n",
       "400 Broadway St              7893\n",
       "11403 Cronhill Dr Ste E      3238\n",
       "N9103 Jung Rd                2126\n",
       "9111 Duke Blvd               1987\n",
       "                            ...  \n",
       "4563 Bolin Ave                  1\n",
       "10184 Morgan Grey Ct            1\n",
       "326 Braeburn Dr                 1\n",
       "11207 Unbridled                 1\n",
       "116 Parnell Pl                  1\n",
       "Name: count, Length: 5757701, dtype: int64"
      ]
     },
     "execution_count": 261,
     "metadata": {},
     "output_type": "execute_result"
    }
   ],
   "source": [
    "df_cd[\"other_street\"].value_counts()"
   ]
  },
  {
   "cell_type": "code",
   "execution_count": 247,
   "id": "7398786e-05fe-4f12-89a4-632477c1fc9c",
   "metadata": {},
   "outputs": [],
   "source": [
    "run = False\n",
    "if run:\n",
    "    save_file(df_cd, file_prefix=\"constituents_cleaned\", version=\"v2\")"
   ]
  },
  {
   "cell_type": "markdown",
   "id": "e780d4c6-5eec-4fdf-a9c6-e95670229ded",
   "metadata": {},
   "source": [
    "# **Mapper**"
   ]
  },
  {
   "cell_type": "code",
   "execution_count": 379,
   "id": "aa8ecf29-d040-4943-ad78-f2f207d3a392",
   "metadata": {},
   "outputs": [],
   "source": [
    "mapping = pd.read_csv(\"./constit_mapping_nmss.csv\")\n",
    "column_mapping = {row[\"file_columns\"]: row[\"expected_columns\"] \\\n",
    "                  for index, row in mapping.iterrows() if row[\"file_columns\"]!=\"not_found\"}\n",
    "df_final = df_cd.rename(columns=column_mapping)\n",
    "df_final = df_final[list(column_mapping.values())]\n",
    "save_file(df_cd, file_prefix=\"constituents_cleaned_mapped\", version=\"v1\")"
   ]
  },
  {
   "cell_type": "markdown",
   "id": "521d26db-83ac-49f0-94cb-3c43f907cd66",
   "metadata": {},
   "source": [
    "# **Address**"
   ]
  },
  {
   "cell_type": "code",
   "execution_count": 374,
   "id": "91348dee-2e2e-4e3c-8071-010f0a5b7064",
   "metadata": {},
   "outputs": [],
   "source": [
    "df_cd[\"business_address\"] = np.where(df_cd[\"preferred_address_type\"]==\"Business\", True, False)\n",
    "df_cd[\"seasonal_address\"] = np.where(df_cd[\"preferred_address_type\"]\\\n",
    "                                    .str.contains(\"summer|winter|alternate\", case=False, na=False), True, False)"
   ]
  },
  {
   "cell_type": "markdown",
   "id": "8f505045-adcd-4d57-a640-465d976b0a0e",
   "metadata": {},
   "source": [
    "# **Phone**"
   ]
  },
  {
   "cell_type": "code",
   "execution_count": 375,
   "id": "d902ad9e-d6e2-4d37-aeae-e8e9ddda885f",
   "metadata": {},
   "outputs": [],
   "source": [
    "df_cd[\"home_phone\"] = np.where(df_cd[\"Phone Type\"] == \"Home\", df_cd[\"Phone Number\"], np.nan)\n",
    "\n",
    "# Updating the condition for the second pair of columns\n",
    "df_cd[\"home_phone\"] = np.where(\n",
    "    (df_cd[\"Phone Type_1\"] == \"Home\") & df_cd[\"home_phone\"].isna(), \n",
    "    df_cd[\"Phone Number_1\"], \n",
    "    df_cd[\"home_phone\"]\n",
    ")\n",
    "\n",
    "df_cd[\"cell_phone\"] = np.where(df_cd[\"Phone Type\"] == \"Cell\", df_cd[\"Phone Number\"], np.nan)\n",
    "\n",
    "# Updating the condition for the second pair of columns\n",
    "df_cd[\"cell_phone\"] = np.where(\n",
    "    (df_cd[\"Phone Type_1\"] == \"Cell\") & df_cd[\"cell_phone\"].isna(), \n",
    "    df_cd[\"Phone Number_1\"], \n",
    "    df_cd[\"cell_phone\"]\n",
    ")"
   ]
  },
  {
   "cell_type": "markdown",
   "id": "6a856250-bf27-4feb-9295-6aac5ddb357f",
   "metadata": {},
   "source": [
    "# **Email**"
   ]
  },
  {
   "cell_type": "code",
   "execution_count": 376,
   "id": "de5d2906-d3bf-435c-a027-9a7f52978971",
   "metadata": {},
   "outputs": [],
   "source": [
    "# Define conditions\n",
    "conditions = [\n",
    "    df_cd[\"Email\"].notna(),\n",
    "    df_cd[\"Email_1\"].notna(),\n",
    "    df_cd[\"Email_2\"].notna(),\n",
    "    df_cd[\"Email_3\"].notna()\n",
    "]\n",
    "\n",
    "# Define choices corresponding to the conditions\n",
    "choices = [\n",
    "    df_cd[\"Email\"],\n",
    "    df_cd[\"Email_1\"],\n",
    "    df_cd[\"Email_2\"],\n",
    "    df_cd[\"Email_3\"]\n",
    "]\n",
    "\n",
    "# Use np.select to create the 'personal_email' column\n",
    "df_cd[\"personal_email\"] = np.select(conditions, choices, default=np.nan)"
   ]
  },
  {
   "cell_type": "markdown",
   "id": "5c8c6a4c-de62-4ee1-accc-c842a5f17188",
   "metadata": {},
   "source": [
    "# **number_of_events_attended**"
   ]
  },
  {
   "cell_type": "code",
   "execution_count": 377,
   "id": "9c3e1967-200a-4041-b9b8-4a16411bd762",
   "metadata": {},
   "outputs": [],
   "source": [
    "df_cd[\"number_of_special_events_attended\"] = df_cd[[\"Events\", \"Events_1\", \"Events_2\", \"Events_3\", \\\n",
    "                                                  \"Events_4\", \"Events_5\"]].notna().sum(axis=1)"
   ]
  },
  {
   "cell_type": "markdown",
   "id": "cec76ef6-3ec6-45bf-a688-739ddd745be5",
   "metadata": {},
   "source": [
    "# **total_notes**"
   ]
  },
  {
   "cell_type": "code",
   "execution_count": 378,
   "id": "7e49ae99-41db-49a6-885f-48807d30b673",
   "metadata": {},
   "outputs": [],
   "source": [
    "df_cd[\"Total_Notes\"]\n",
    "df_cd[\"Total_Notes\"] = df_cd[\"Total_Notes\"].fillna(0).astype(int)\n",
    "df_cd[\"Total Notes\"] = df_cd[\"Total Notes\"].fillna(0).astype(int)\n",
    "df_cd[\"total_notes\"] = df_cd[\"Total_Notes\"] + df_cd[\"Total Notes\"] "
   ]
  },
  {
   "cell_type": "markdown",
   "id": "4e7d340b-94b6-4539-9936-1b1c29006f47",
   "metadata": {},
   "source": [
    "# **Mapper**"
   ]
  },
  {
   "cell_type": "markdown",
   "id": "010bc969-5261-4324-b028-c55921928dde",
   "metadata": {},
   "source": [
    "### Correlation Plots with Total Lifetime Giving"
   ]
  },
  {
   "cell_type": "code",
   "execution_count": 114,
   "id": "797eaa18-34f1-4d4e-94e0-e774fa8f722e",
   "metadata": {},
   "outputs": [
    {
     "data": {
      "image/png": "[encoded data removed]",
      "text/plain": [
       "<Figure size 800x200 with 1 Axes>"
      ]
     },
     "metadata": {},
     "output_type": "display_data"
    },
    {
     "data": {
      "image/png": "[encoded data removed]",
      "text/plain": [
       "<Figure size 800x200 with 1 Axes>"
      ]
     },
     "metadata": {},
     "output_type": "display_data"
    }
   ],
   "source": [
    "# Drop rows with NaNs in these columns\n",
    "df_cleaned = df_cdi_multiple.dropna(subset=[\"Total Lifetime Giving\", \"Total Actions\"])\n",
    "plt.figure(figsize=(8,2))\n",
    "plt.scatter(np.log(df_cleaned[\"Total Lifetime Giving\"].astype(float)), \\\n",
    "            df_cleaned[\"Total Actions\"].astype(int))\n",
    "plt.xlabel(\"Total Lifetime Giving\")\n",
    "plt.ylabel(\"Total Actions\")\n",
    "plt.title(\"Scatter Plot of Total Lifetime Giving vs. Total Actions\")\n",
    "plt.show()\n",
    "\n",
    "df_cleaned = df_cdi_multiple.dropna(subset=[\"Total Lifetime Giving\", \"Pledged Planned Gift\"])\n",
    "plt.figure(figsize=(8,2))\n",
    "plt.scatter(np.log(df_cleaned[\"Total Lifetime Giving\"].astype(float)), \\\n",
    "            df_cleaned[\"Pledged Planned Gift\"].astype(float))\n",
    "plt.xlabel(\"Total Lifetime Giving\")\n",
    "plt.ylabel(\"Pledged Planned Gift\")\n",
    "plt.title(\"Scatter Plot of Total Lifetime Giving vs. Pledged Planned Gift\")\n",
    "plt.show()"
   ]
  },
  {
   "cell_type": "markdown",
   "id": "a4d5c47a-dd8c-4050-91d9-efd16bce663f",
   "metadata": {},
   "source": [
    "# **Preprocessing after mapping**"
   ]
  },
  {
   "cell_type": "code",
   "execution_count": 92,
   "id": "b2a03484-e478-437a-81e5-77e43473773a",
   "metadata": {},
   "outputs": [],
   "source": [
    "df[\"class_year\"] = df[\"class_year\"].str.split(\"'\",expand=True)[1]\n",
    "df[\"class_year\"] = df[\"class_year\"].fillna(np.nan).astype('Int64')"
   ]
  },
  {
   "cell_type": "code",
   "execution_count": 93,
   "id": "2f041066-17ad-41aa-a2a4-fba68f409367",
   "metadata": {},
   "outputs": [],
   "source": [
    "mask = ~df[\"class_year\"].isna()\n",
    "df.loc[mask, \"class_year\"] = np.where((df.loc[mask, \"class_year\"] > 25),\n",
    "                                      \"19\" + df.loc[mask, \"class_year\"].astype(str),\n",
    "                                      \"20\" + df.loc[mask, \"class_year\"].astype(str))"
   ]
  },
  {
   "cell_type": "code",
   "execution_count": 94,
   "id": "d463471b-60c6-4359-97e0-701b372b5b1b",
   "metadata": {},
   "outputs": [],
   "source": [
    "cols_datetime = list(df.select_dtypes(include=['datetime']).columns)\n",
    "for col in cols_datetime:\n",
    "    df[col] = pd.to_datetime(df[col]).dt.date"
   ]
  },
  {
   "cell_type": "code",
   "execution_count": null,
   "id": "d61f7b6a-f599-4b6c-b0f3-7792d97848ef",
   "metadata": {},
   "outputs": [],
   "source": []
  }
 ],
 "metadata": {
  "kernelspec": {
   "display_name": "Python 3 (ipykernel)",
   "language": "python",
   "name": "python3"
  },
  "language_info": {
   "codemirror_mode": {
    "name": "ipython",
    "version": 3
   },
   "file_extension": ".py",
   "mimetype": "text/x-python",
   "name": "python",
   "nbconvert_exporter": "python",
   "pygments_lexer": "ipython3",
   "version": "3.12.2"
  }
 },
 "nbformat": 4,
 "nbformat_minor": 5
}
